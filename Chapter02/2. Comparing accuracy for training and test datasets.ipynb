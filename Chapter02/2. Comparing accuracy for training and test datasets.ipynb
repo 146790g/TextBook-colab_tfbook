{
  "nbformat": 4,
  "nbformat_minor": 0,
  "metadata": {
    "colab": {
      "name": "2. Comparing accuracy for training and test datasets.ipynb",
      "version": "0.3.2",
      "provenance": [],
      "collapsed_sections": []
    },
    "kernelspec": {
      "name": "python3",
      "display_name": "Python 3"
    }
  },
  "cells": [
    {
      "metadata": {
        "id": "EWD-Wv2WlVFr",
        "colab_type": "text"
      },
      "cell_type": "markdown",
      "source": [
        "# Comparing Accuracy for Training and Test Datasets"
      ]
    },
    {
      "metadata": {
        "id": "AsQrtU2qlS7P",
        "colab_type": "text"
      },
      "cell_type": "markdown",
      "source": [
        "Note: This notebook is desinged to run with Python3 and CPU (no GPU) runtime.\n",
        "\n",
        "![Python 3 and CPU runtime](https://raw.githubusercontent.com/enakai00/colab_tfbook/master/docs/imgs/runtime_cpu.png)"
      ]
    },
    {
      "metadata": {
        "id": "VJO3PPzqsq8d",
        "colab_type": "text"
      },
      "cell_type": "markdown",
      "source": [
        "####[CAT-01]\n",
        "Import modules and set a random seed."
      ]
    },
    {
      "metadata": {
        "id": "gB5UUoAXIVmC",
        "colab_type": "code",
        "outputId": "9552d60d-4086-405a-9c1b-8f5dfd038894",
        "colab": {
          "base_uri": "https://localhost:8080/",
          "height": 35
        }
      },
      "cell_type": "code",
      "source": [
        "import numpy as np\n",
        "from numpy.random import multivariate_normal, permutation\n",
        "import pandas as pd\n",
        "from pandas import DataFrame\n",
        "import matplotlib.pyplot as plt\n",
        "\n",
        "import tensorflow as tf\n",
        "import keras\n",
        "from keras import layers\n",
        "from keras import models\n",
        "\n",
        "np.random.seed(20160531)\n",
        "tf.set_random_seed(20160531)"
      ],
      "execution_count": 1,
      "outputs": [
        {
          "output_type": "stream",
          "text": [
            "Using TensorFlow backend.\n"
          ],
          "name": "stderr"
        }
      ]
    },
    {
      "metadata": {
        "id": "yz2h7_8St1wi",
        "colab_type": "text"
      },
      "cell_type": "markdown",
      "source": [
        "####[CAT-02]\n",
        "Generate a dateset and split them into training(80%) and test datasets(20%)."
      ]
    },
    {
      "metadata": {
        "id": "ASgzWK5AjWvn",
        "colab_type": "code",
        "colab": {}
      },
      "cell_type": "code",
      "source": [
        "n0, mu0, variance0 = 800, [10, 11], 20\n",
        "data0 = multivariate_normal(mu0, np.eye(2)*variance0 ,n0)\n",
        "df0 = DataFrame(data0, columns=['x1', 'x2'])\n",
        "df0['t'] = 0\n",
        "\n",
        "n1, mu1, variance1 = 600, [18, 20], 22\n",
        "data1 = multivariate_normal(mu1, np.eye(2)*variance1 ,n1)\n",
        "df1 = DataFrame(data1, columns=['x1', 'x2'])\n",
        "df1['t'] = 1\n",
        "\n",
        "df = pd.concat([df0, df1], ignore_index=True)\n",
        "df = df.reindex(permutation(df.index)).reset_index(drop=True)\n",
        "\n",
        "num_data = int(len(df)*0.8)\n",
        "train_set = df[:num_data]\n",
        "test_set = df[num_data:]"
      ],
      "execution_count": 0,
      "outputs": []
    },
    {
      "metadata": {
        "id": "qdQ0Tp2IvFy8",
        "colab_type": "text"
      },
      "cell_type": "markdown",
      "source": [
        "####[CAT-04]\n",
        "Store the coordinates $(x_1,x_2)$ and label values $t$ into NumPy arrays."
      ]
    },
    {
      "metadata": {
        "id": "tpL_niBTXggS",
        "colab_type": "code",
        "colab": {}
      },
      "cell_type": "code",
      "source": [
        "train_x = train_set[['x1', 'x2']].values\n",
        "train_t = train_set['t'].values\n",
        "test_x = test_set[['x1', 'x2']].values\n",
        "test_t = test_set['t'].values"
      ],
      "execution_count": 0,
      "outputs": []
    },
    {
      "metadata": {
        "id": "fmnjQdqAvQRw",
        "colab_type": "text"
      },
      "cell_type": "markdown",
      "source": [
        "####[CAT-05]\n",
        "Define a model to predict the probability of `t=1`."
      ]
    },
    {
      "metadata": {
        "id": "BakcuKxdQoSL",
        "colab_type": "code",
        "outputId": "d53db2ee-e1a7-4bf5-bde0-cfdc4d1f9ec7",
        "colab": {
          "base_uri": "https://localhost:8080/",
          "height": 245
        }
      },
      "cell_type": "code",
      "source": [
        "model = models.Sequential()\n",
        "model.add(layers.Dense(1, activation='sigmoid', input_shape=(2,),\n",
        "                       name='logistic_regression'))\n",
        "\n",
        "model.summary()"
      ],
      "execution_count": 4,
      "outputs": [
        {
          "output_type": "stream",
          "text": [
            "WARNING:tensorflow:From /usr/local/lib/python3.6/dist-packages/tensorflow/python/framework/op_def_library.py:263: colocate_with (from tensorflow.python.framework.ops) is deprecated and will be removed in a future version.\n",
            "Instructions for updating:\n",
            "Colocations handled automatically by placer.\n",
            "_________________________________________________________________\n",
            "Layer (type)                 Output Shape              Param #   \n",
            "=================================================================\n",
            "logistic_regression (Dense)  (None, 1)                 3         \n",
            "=================================================================\n",
            "Total params: 3\n",
            "Trainable params: 3\n",
            "Non-trainable params: 0\n",
            "_________________________________________________________________\n"
          ],
          "name": "stdout"
        }
      ]
    },
    {
      "metadata": {
        "id": "fBltXsSRvZn0",
        "colab_type": "text"
      },
      "cell_type": "markdown",
      "source": [
        "####[CAT-06]\n",
        "Compile the model using the Adam optimizer, and Cross entroy as a loss function."
      ]
    },
    {
      "metadata": {
        "id": "LlQCTsKKXkr5",
        "colab_type": "code",
        "colab": {}
      },
      "cell_type": "code",
      "source": [
        "model.compile(optimizer='adam', \n",
        "              loss='binary_crossentropy',\n",
        "              metrics=['acc'])"
      ],
      "execution_count": 0,
      "outputs": []
    },
    {
      "metadata": {
        "id": "PjbE4TVBvqCh",
        "colab_type": "text"
      },
      "cell_type": "markdown",
      "source": [
        "####[CAT-07]\n",
        "Apply the optimization for 10 epochs."
      ]
    },
    {
      "metadata": {
        "id": "qpARZzJsAnNA",
        "colab_type": "code",
        "outputId": "782483e2-c829-4e9b-da00-8abfb438e6e7",
        "colab": {
          "base_uri": "https://localhost:8080/",
          "height": 452
        }
      },
      "cell_type": "code",
      "source": [
        "history = model.fit(train_x, train_t,\n",
        "                    validation_data=(test_x, test_t),\n",
        "                    batch_size=len(train_x), epochs=10)"
      ],
      "execution_count": 6,
      "outputs": [
        {
          "output_type": "stream",
          "text": [
            "WARNING:tensorflow:From /usr/local/lib/python3.6/dist-packages/tensorflow/python/ops/math_ops.py:3066: to_int32 (from tensorflow.python.ops.math_ops) is deprecated and will be removed in a future version.\n",
            "Instructions for updating:\n",
            "Use tf.cast instead.\n",
            "Train on 1120 samples, validate on 280 samples\n",
            "Epoch 1/10\n",
            "1120/1120 [==============================] - 0s 108us/step - loss: 2.4493 - acc: 0.5321 - val_loss: 2.5057 - val_acc: 0.5464\n",
            "Epoch 2/10\n",
            "1120/1120 [==============================] - 0s 4us/step - loss: 2.4460 - acc: 0.5321 - val_loss: 2.5015 - val_acc: 0.5464\n",
            "Epoch 3/10\n",
            "1120/1120 [==============================] - 0s 4us/step - loss: 2.4415 - acc: 0.5330 - val_loss: 2.4955 - val_acc: 0.5464\n",
            "Epoch 4/10\n",
            "1120/1120 [==============================] - 0s 3us/step - loss: 2.4369 - acc: 0.5321 - val_loss: 2.4895 - val_acc: 0.5464\n",
            "Epoch 5/10\n",
            "1120/1120 [==============================] - 0s 4us/step - loss: 2.4322 - acc: 0.5330 - val_loss: 2.4835 - val_acc: 0.5464\n",
            "Epoch 6/10\n",
            "1120/1120 [==============================] - 0s 3us/step - loss: 2.4275 - acc: 0.5357 - val_loss: 2.4762 - val_acc: 0.5429\n",
            "Epoch 7/10\n",
            "1120/1120 [==============================] - 0s 4us/step - loss: 2.4231 - acc: 0.5348 - val_loss: 2.4697 - val_acc: 0.5429\n",
            "Epoch 8/10\n",
            "1120/1120 [==============================] - 0s 2us/step - loss: 2.4186 - acc: 0.5339 - val_loss: 2.4647 - val_acc: 0.5464\n",
            "Epoch 9/10\n",
            "1120/1120 [==============================] - 0s 2us/step - loss: 2.4138 - acc: 0.5339 - val_loss: 2.4574 - val_acc: 0.5464\n",
            "Epoch 10/10\n",
            "1120/1120 [==============================] - 0s 3us/step - loss: 2.4090 - acc: 0.5330 - val_loss: 2.4514 - val_acc: 0.5464\n"
          ],
          "name": "stdout"
        }
      ]
    },
    {
      "metadata": {
        "id": "6ZJDVflWv6bm",
        "colab_type": "text"
      },
      "cell_type": "markdown",
      "source": [
        "####[CAT-08]\n",
        "Apply the optimization for additional 5,000 epochs."
      ]
    },
    {
      "metadata": {
        "id": "R6aG8FEZSLdr",
        "colab_type": "code",
        "colab": {}
      },
      "cell_type": "code",
      "source": [
        "history = model.fit(train_x, train_t,\n",
        "                    validation_data=(test_x, test_t),\n",
        "                    batch_size=len(train_x), epochs=5000, verbose=0)"
      ],
      "execution_count": 0,
      "outputs": []
    },
    {
      "metadata": {
        "id": "BFIxYITmwBXA",
        "colab_type": "text"
      },
      "cell_type": "markdown",
      "source": [
        "####[CAT-09]\n",
        "Plot a chart to compare the accuracy for training and test datasets."
      ]
    },
    {
      "metadata": {
        "id": "lHFnv_-Z9KjC",
        "colab_type": "code",
        "outputId": "d9b47846-ae99-472e-9bfb-1e39537ec47a",
        "colab": {
          "base_uri": "https://localhost:8080/",
          "height": 286
        }
      },
      "cell_type": "code",
      "source": [
        "DataFrame({'acc': history.history['acc'], \n",
        "           'val_acc': history.history['val_acc']}).plot()"
      ],
      "execution_count": 8,
      "outputs": [
        {
          "output_type": "execute_result",
          "data": {
            "text/plain": [
              "<matplotlib.axes._subplots.AxesSubplot at 0x7f690ca035c0>"
            ]
          },
          "metadata": {
            "tags": []
          },
          "execution_count": 8
        },
        {
          "output_type": "display_data",
          "data": {
            "image/png": "[encoded data removed]",
            "text/plain": [
              "<Figure size 432x288 with 1 Axes>"
            ]
          },
          "metadata": {
            "tags": []
          }
        }
      ]
    }
  ]
}