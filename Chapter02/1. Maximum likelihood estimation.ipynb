{
  "nbformat": 4,
  "nbformat_minor": 0,
  "metadata": {
    "colab": {
      "name": "1. Maximum likelihood estimation.ipynb",
      "version": "0.3.2",
      "provenance": [],
      "collapsed_sections": []
    },
    "kernelspec": {
      "name": "python3",
      "display_name": "Python 3"
    }
  },
  "cells": [
    {
      "metadata": {
        "id": "7Xuy7KG9gwxE",
        "colab_type": "text"
      },
      "cell_type": "markdown",
      "source": [
        "# Maximum Likelihood Estimation"
      ]
    },
    {
      "metadata": {
        "id": "oFvzfM3Mg2_a",
        "colab_type": "text"
      },
      "cell_type": "markdown",
      "source": [
        "Note: This notebook is desinged to run with Python3 and CPU (no GPU) runtime.\n",
        "\n",
        "![Python 3 and CPU runtime](https://raw.githubusercontent.com/enakai00/colab_tfbook/master/docs/imgs/runtime_cpu.png)"
      ]
    },
    {
      "metadata": {
        "id": "VJO3PPzqsq8d",
        "colab_type": "text"
      },
      "cell_type": "markdown",
      "source": [
        "####[MLE-01]\n",
        "Import modules and set a random seed."
      ]
    },
    {
      "metadata": {
        "id": "gB5UUoAXIVmC",
        "colab_type": "code",
        "outputId": "dbd81eef-3e90-44c2-f223-2cddf25b0506",
        "colab": {
          "base_uri": "https://localhost:8080/",
          "height": 35
        }
      },
      "cell_type": "code",
      "source": [
        "import numpy as np\n",
        "from numpy.random import multivariate_normal, permutation\n",
        "import pandas as pd\n",
        "from pandas import DataFrame, Series\n",
        "import matplotlib.pyplot as plt\n",
        "\n",
        "import tensorflow as tf\n",
        "import keras\n",
        "from keras import layers\n",
        "from keras import models\n",
        "\n",
        "np.random.seed(20190220)\n",
        "tf.set_random_seed(20190220)"
      ],
      "execution_count": 1,
      "outputs": [
        {
          "output_type": "stream",
          "text": [
            "Using TensorFlow backend.\n"
          ],
          "name": "stderr"
        }
      ]
    },
    {
      "metadata": {
        "id": "yz2h7_8St1wi",
        "colab_type": "text"
      },
      "cell_type": "markdown",
      "source": [
        "####[MLE-02]\n",
        "Generate a training dateset."
      ]
    },
    {
      "metadata": {
        "id": "ASgzWK5AjWvn",
        "colab_type": "code",
        "colab": {}
      },
      "cell_type": "code",
      "source": [
        "n0, mu0, variance0 = 20, [10, 11], 20\n",
        "data0 = multivariate_normal(mu0, np.eye(2)*variance0 ,n0)\n",
        "df0 = DataFrame(data0, columns=['x1', 'x2'])\n",
        "df0['t'] = 0\n",
        "\n",
        "n1, mu1, variance1 = 15, [18, 20], 22\n",
        "data1 = multivariate_normal(mu1, np.eye(2)*variance1, n1)\n",
        "df1 = DataFrame(data1, columns=['x1', 'x2'])\n",
        "df1['t'] = 1\n",
        "\n",
        "df = pd.concat([df0, df1], ignore_index=True)\n",
        "train_set = df.reindex(permutation(df.index)).reset_index(drop=True)"
      ],
      "execution_count": 0,
      "outputs": []
    },
    {
      "metadata": {
        "id": "SAVhouWduMh7",
        "colab_type": "text"
      },
      "cell_type": "markdown",
      "source": [
        "####[MLE-03]\n",
        "The training dataset consists of coordinates $(x_1,x_2)$ and label values $t=0,1$."
      ]
    },
    {
      "metadata": {
        "id": "Hp4EnlqvToYN",
        "colab_type": "code",
        "outputId": "6d86eb69-3a52-4191-ff9f-d2b38d94de73",
        "colab": {
          "base_uri": "https://localhost:8080/",
          "height": 1098
        }
      },
      "cell_type": "code",
      "source": [
        "train_set"
      ],
      "execution_count": 3,
      "outputs": [
        {
          "output_type": "execute_result",
          "data": {
            "text/html": [
              "<div>\n",
              "<style scoped>\n",
              "    .dataframe tbody tr th:only-of-type {\n",
              "        vertical-align: middle;\n",
              "    }\n",
              "\n",
              "    .dataframe tbody tr th {\n",
              "        vertical-align: top;\n",
              "    }\n",
              "\n",
              "    .dataframe thead th {\n",
              "        text-align: right;\n",
              "    }\n",
              "</style>\n",
              "<table border=\"1\" class=\"dataframe\">\n",
              "  <thead>\n",
              "    <tr style=\"text-align: right;\">\n",
              "      <th></th>\n",
              "      <th>x1</th>\n",
              "      <th>x2</th>\n",
              "      <th>t</th>\n",
              "    </tr>\n",
              "  </thead>\n",
              "  <tbody>\n",
              "    <tr>\n",
              "      <th>0</th>\n",
              "      <td>11.148678</td>\n",
              "      <td>12.178698</td>\n",
              "      <td>0</td>\n",
              "    </tr>\n",
              "    <tr>\n",
              "      <th>1</th>\n",
              "      <td>8.628574</td>\n",
              "      <td>16.936525</td>\n",
              "      <td>0</td>\n",
              "    </tr>\n",
              "    <tr>\n",
              "      <th>2</th>\n",
              "      <td>6.751810</td>\n",
              "      <td>2.686665</td>\n",
              "      <td>0</td>\n",
              "    </tr>\n",
              "    <tr>\n",
              "      <th>3</th>\n",
              "      <td>14.613345</td>\n",
              "      <td>22.415744</td>\n",
              "      <td>1</td>\n",
              "    </tr>\n",
              "    <tr>\n",
              "      <th>4</th>\n",
              "      <td>-0.582185</td>\n",
              "      <td>9.712311</td>\n",
              "      <td>0</td>\n",
              "    </tr>\n",
              "    <tr>\n",
              "      <th>5</th>\n",
              "      <td>8.720424</td>\n",
              "      <td>20.263025</td>\n",
              "      <td>0</td>\n",
              "    </tr>\n",
              "    <tr>\n",
              "      <th>6</th>\n",
              "      <td>14.689335</td>\n",
              "      <td>11.718604</td>\n",
              "      <td>0</td>\n",
              "    </tr>\n",
              "    <tr>\n",
              "      <th>7</th>\n",
              "      <td>15.174583</td>\n",
              "      <td>18.703856</td>\n",
              "      <td>1</td>\n",
              "    </tr>\n",
              "    <tr>\n",
              "      <th>8</th>\n",
              "      <td>18.932923</td>\n",
              "      <td>20.026993</td>\n",
              "      <td>1</td>\n",
              "    </tr>\n",
              "    <tr>\n",
              "      <th>9</th>\n",
              "      <td>10.199965</td>\n",
              "      <td>19.306527</td>\n",
              "      <td>1</td>\n",
              "    </tr>\n",
              "    <tr>\n",
              "      <th>10</th>\n",
              "      <td>8.047290</td>\n",
              "      <td>9.257321</td>\n",
              "      <td>0</td>\n",
              "    </tr>\n",
              "    <tr>\n",
              "      <th>11</th>\n",
              "      <td>7.973561</td>\n",
              "      <td>1.842595</td>\n",
              "      <td>0</td>\n",
              "    </tr>\n",
              "    <tr>\n",
              "      <th>12</th>\n",
              "      <td>9.367123</td>\n",
              "      <td>12.547001</td>\n",
              "      <td>0</td>\n",
              "    </tr>\n",
              "    <tr>\n",
              "      <th>13</th>\n",
              "      <td>13.379836</td>\n",
              "      <td>17.101564</td>\n",
              "      <td>1</td>\n",
              "    </tr>\n",
              "    <tr>\n",
              "      <th>14</th>\n",
              "      <td>10.050234</td>\n",
              "      <td>15.911195</td>\n",
              "      <td>0</td>\n",
              "    </tr>\n",
              "    <tr>\n",
              "      <th>15</th>\n",
              "      <td>21.531288</td>\n",
              "      <td>15.107301</td>\n",
              "      <td>1</td>\n",
              "    </tr>\n",
              "    <tr>\n",
              "      <th>16</th>\n",
              "      <td>9.636055</td>\n",
              "      <td>10.316380</td>\n",
              "      <td>0</td>\n",
              "    </tr>\n",
              "    <tr>\n",
              "      <th>17</th>\n",
              "      <td>5.415042</td>\n",
              "      <td>10.557410</td>\n",
              "      <td>0</td>\n",
              "    </tr>\n",
              "    <tr>\n",
              "      <th>18</th>\n",
              "      <td>15.189524</td>\n",
              "      <td>10.026291</td>\n",
              "      <td>1</td>\n",
              "    </tr>\n",
              "    <tr>\n",
              "      <th>19</th>\n",
              "      <td>8.816570</td>\n",
              "      <td>23.696075</td>\n",
              "      <td>1</td>\n",
              "    </tr>\n",
              "    <tr>\n",
              "      <th>20</th>\n",
              "      <td>17.037535</td>\n",
              "      <td>12.352113</td>\n",
              "      <td>1</td>\n",
              "    </tr>\n",
              "    <tr>\n",
              "      <th>21</th>\n",
              "      <td>11.378429</td>\n",
              "      <td>7.172675</td>\n",
              "      <td>0</td>\n",
              "    </tr>\n",
              "    <tr>\n",
              "      <th>22</th>\n",
              "      <td>23.073613</td>\n",
              "      <td>9.808894</td>\n",
              "      <td>0</td>\n",
              "    </tr>\n",
              "    <tr>\n",
              "      <th>23</th>\n",
              "      <td>14.247538</td>\n",
              "      <td>19.111286</td>\n",
              "      <td>0</td>\n",
              "    </tr>\n",
              "    <tr>\n",
              "      <th>24</th>\n",
              "      <td>16.194011</td>\n",
              "      <td>19.591581</td>\n",
              "      <td>1</td>\n",
              "    </tr>\n",
              "    <tr>\n",
              "      <th>25</th>\n",
              "      <td>21.138444</td>\n",
              "      <td>27.280888</td>\n",
              "      <td>1</td>\n",
              "    </tr>\n",
              "    <tr>\n",
              "      <th>26</th>\n",
              "      <td>17.428121</td>\n",
              "      <td>13.953785</td>\n",
              "      <td>0</td>\n",
              "    </tr>\n",
              "    <tr>\n",
              "      <th>27</th>\n",
              "      <td>16.275732</td>\n",
              "      <td>25.689385</td>\n",
              "      <td>1</td>\n",
              "    </tr>\n",
              "    <tr>\n",
              "      <th>28</th>\n",
              "      <td>13.915948</td>\n",
              "      <td>24.620724</td>\n",
              "      <td>1</td>\n",
              "    </tr>\n",
              "    <tr>\n",
              "      <th>29</th>\n",
              "      <td>11.609024</td>\n",
              "      <td>11.623596</td>\n",
              "      <td>0</td>\n",
              "    </tr>\n",
              "    <tr>\n",
              "      <th>30</th>\n",
              "      <td>13.652538</td>\n",
              "      <td>3.678494</td>\n",
              "      <td>0</td>\n",
              "    </tr>\n",
              "    <tr>\n",
              "      <th>31</th>\n",
              "      <td>3.424919</td>\n",
              "      <td>26.121595</td>\n",
              "      <td>1</td>\n",
              "    </tr>\n",
              "    <tr>\n",
              "      <th>32</th>\n",
              "      <td>19.663299</td>\n",
              "      <td>21.072943</td>\n",
              "      <td>1</td>\n",
              "    </tr>\n",
              "    <tr>\n",
              "      <th>33</th>\n",
              "      <td>3.977605</td>\n",
              "      <td>7.202972</td>\n",
              "      <td>0</td>\n",
              "    </tr>\n",
              "    <tr>\n",
              "      <th>34</th>\n",
              "      <td>3.360409</td>\n",
              "      <td>17.789434</td>\n",
              "      <td>0</td>\n",
              "    </tr>\n",
              "  </tbody>\n",
              "</table>\n",
              "</div>"
            ],
            "text/plain": [
              "           x1         x2  t\n",
              "0   11.148678  12.178698  0\n",
              "1    8.628574  16.936525  0\n",
              "2    6.751810   2.686665  0\n",
              "3   14.613345  22.415744  1\n",
              "4   -0.582185   9.712311  0\n",
              "5    8.720424  20.263025  0\n",
              "6   14.689335  11.718604  0\n",
              "7   15.174583  18.703856  1\n",
              "8   18.932923  20.026993  1\n",
              "9   10.199965  19.306527  1\n",
              "10   8.047290   9.257321  0\n",
              "11   7.973561   1.842595  0\n",
              "12   9.367123  12.547001  0\n",
              "13  13.379836  17.101564  1\n",
              "14  10.050234  15.911195  0\n",
              "15  21.531288  15.107301  1\n",
              "16   9.636055  10.316380  0\n",
              "17   5.415042  10.557410  0\n",
              "18  15.189524  10.026291  1\n",
              "19   8.816570  23.696075  1\n",
              "20  17.037535  12.352113  1\n",
              "21  11.378429   7.172675  0\n",
              "22  23.073613   9.808894  0\n",
              "23  14.247538  19.111286  0\n",
              "24  16.194011  19.591581  1\n",
              "25  21.138444  27.280888  1\n",
              "26  17.428121  13.953785  0\n",
              "27  16.275732  25.689385  1\n",
              "28  13.915948  24.620724  1\n",
              "29  11.609024  11.623596  0\n",
              "30  13.652538   3.678494  0\n",
              "31   3.424919  26.121595  1\n",
              "32  19.663299  21.072943  1\n",
              "33   3.977605   7.202972  0\n",
              "34   3.360409  17.789434  0"
            ]
          },
          "metadata": {
            "tags": []
          },
          "execution_count": 3
        }
      ]
    },
    {
      "metadata": {
        "id": "qdQ0Tp2IvFy8",
        "colab_type": "text"
      },
      "cell_type": "markdown",
      "source": [
        "####[MLE-04]\n",
        "Store the coordinates $(x_1,x_2)$ and label values $t$ into NumPy arrays."
      ]
    },
    {
      "metadata": {
        "id": "tpL_niBTXggS",
        "colab_type": "code",
        "colab": {}
      },
      "cell_type": "code",
      "source": [
        "train_x = train_set[['x1', 'x2']].values\n",
        "train_t = train_set['t'].values.reshape([len(train_set), 1])"
      ],
      "execution_count": 0,
      "outputs": []
    },
    {
      "metadata": {
        "id": "fmnjQdqAvQRw",
        "colab_type": "text"
      },
      "cell_type": "markdown",
      "source": [
        "####[MLE-05]\n",
        "Define a model to predict the probability of `t=1`."
      ]
    },
    {
      "metadata": {
        "id": "BakcuKxdQoSL",
        "colab_type": "code",
        "outputId": "4cccbef8-e6a3-4e3b-cacb-53d12d816a13",
        "colab": {
          "base_uri": "https://localhost:8080/",
          "height": 245
        }
      },
      "cell_type": "code",
      "source": [
        "model = models.Sequential()\n",
        "model.add(layers.Dense(1, activation='sigmoid', input_shape=(2,),\n",
        "                       name='logistic_regression'))\n",
        "\n",
        "model.summary()"
      ],
      "execution_count": 5,
      "outputs": [
        {
          "output_type": "stream",
          "text": [
            "WARNING:tensorflow:From /usr/local/lib/python3.6/dist-packages/tensorflow/python/framework/op_def_library.py:263: colocate_with (from tensorflow.python.framework.ops) is deprecated and will be removed in a future version.\n",
            "Instructions for updating:\n",
            "Colocations handled automatically by placer.\n",
            "_________________________________________________________________\n",
            "Layer (type)                 Output Shape              Param #   \n",
            "=================================================================\n",
            "logistic_regression (Dense)  (None, 1)                 3         \n",
            "=================================================================\n",
            "Total params: 3\n",
            "Trainable params: 3\n",
            "Non-trainable params: 0\n",
            "_________________________________________________________________\n"
          ],
          "name": "stdout"
        }
      ]
    },
    {
      "metadata": {
        "id": "fBltXsSRvZn0",
        "colab_type": "text"
      },
      "cell_type": "markdown",
      "source": [
        "####[MLE-06]\n",
        "Compile the model using the Adam optimizer, and Cross entroy as a loss function."
      ]
    },
    {
      "metadata": {
        "id": "LlQCTsKKXkr5",
        "colab_type": "code",
        "colab": {}
      },
      "cell_type": "code",
      "source": [
        "model.compile(optimizer='adam',\n",
        "              loss='binary_crossentropy',\n",
        "              metrics=['acc'])"
      ],
      "execution_count": 0,
      "outputs": []
    },
    {
      "metadata": {
        "id": "PjbE4TVBvqCh",
        "colab_type": "text"
      },
      "cell_type": "markdown",
      "source": [
        "####[MLE-07]\n",
        "Apply the optimization for 10 epochs."
      ]
    },
    {
      "metadata": {
        "id": "qpARZzJsAnNA",
        "colab_type": "code",
        "outputId": "373a9543-7774-4d03-8951-72966e503e0a",
        "colab": {
          "base_uri": "https://localhost:8080/",
          "height": 435
        }
      },
      "cell_type": "code",
      "source": [
        "history = model.fit(train_x, train_t,\n",
        "                    batch_size=len(train_x), epochs=10)"
      ],
      "execution_count": 7,
      "outputs": [
        {
          "output_type": "stream",
          "text": [
            "WARNING:tensorflow:From /usr/local/lib/python3.6/dist-packages/tensorflow/python/ops/math_ops.py:3066: to_int32 (from tensorflow.python.ops.math_ops) is deprecated and will be removed in a future version.\n",
            "Instructions for updating:\n",
            "Use tf.cast instead.\n",
            "Epoch 1/10\n",
            "35/35 [==============================] - 0s 3ms/step - loss: 6.8228 - acc: 0.5714\n",
            "Epoch 2/10\n",
            "35/35 [==============================] - 0s 112us/step - loss: 6.8224 - acc: 0.5714\n",
            "Epoch 3/10\n",
            "35/35 [==============================] - 0s 47us/step - loss: 6.8208 - acc: 0.5714\n",
            "Epoch 4/10\n",
            "35/35 [==============================] - 0s 56us/step - loss: 6.8212 - acc: 0.5714\n",
            "Epoch 5/10\n",
            "35/35 [==============================] - 0s 44us/step - loss: 6.8193 - acc: 0.5714\n",
            "Epoch 6/10\n",
            "35/35 [==============================] - 0s 49us/step - loss: 6.8186 - acc: 0.5714\n",
            "Epoch 7/10\n",
            "35/35 [==============================] - 0s 54us/step - loss: 6.8172 - acc: 0.5714\n",
            "Epoch 8/10\n",
            "35/35 [==============================] - 0s 51us/step - loss: 6.8172 - acc: 0.5714\n",
            "Epoch 9/10\n",
            "35/35 [==============================] - 0s 45us/step - loss: 6.8153 - acc: 0.5714\n",
            "Epoch 10/10\n",
            "35/35 [==============================] - 0s 50us/step - loss: 6.8156 - acc: 0.5714\n"
          ],
          "name": "stdout"
        }
      ]
    },
    {
      "metadata": {
        "id": "6ZJDVflWv6bm",
        "colab_type": "text"
      },
      "cell_type": "markdown",
      "source": [
        "####[MLE-08]\n",
        "Apply the optimization for additional 5,000 epochs."
      ]
    },
    {
      "metadata": {
        "id": "R6aG8FEZSLdr",
        "colab_type": "code",
        "colab": {}
      },
      "cell_type": "code",
      "source": [
        "history = model.fit(train_x, train_t,\n",
        "                    batch_size=len(train_x), epochs=5000, verbose=0)"
      ],
      "execution_count": 0,
      "outputs": []
    },
    {
      "metadata": {
        "id": "BFIxYITmwBXA",
        "colab_type": "text"
      },
      "cell_type": "markdown",
      "source": [
        "####[MLE-09]\n",
        "Plot charts for accuracy and loss."
      ]
    },
    {
      "metadata": {
        "id": "lHFnv_-Z9KjC",
        "colab_type": "code",
        "outputId": "34495e04-db7d-49db-dc5f-705cc7e4ec60",
        "colab": {
          "base_uri": "https://localhost:8080/",
          "height": 538
        }
      },
      "cell_type": "code",
      "source": [
        "DataFrame({'acc': history.history['acc']}).plot()\n",
        "DataFrame({'loss': history.history['loss']}).plot()"
      ],
      "execution_count": 9,
      "outputs": [
        {
          "output_type": "execute_result",
          "data": {
            "text/plain": [
              "<matplotlib.axes._subplots.AxesSubplot at 0x7efdd061d0b8>"
            ]
          },
          "metadata": {
            "tags": []
          },
          "execution_count": 9
        },
        {
          "output_type": "display_data",
          "data": {
            "image/png": "[encoded data removed]",
            "text/plain": [
              "<Figure size 432x288 with 1 Axes>"
            ]
          },
          "metadata": {
            "tags": []
          }
        },
        {
          "output_type": "display_data",
          "data": {
            "image/png": "[encoded data removed]",
            "text/plain": [
              "<Figure size 432x288 with 1 Axes>"
            ]
          },
          "metadata": {
            "tags": []
          }
        }
      ]
    },
    {
      "metadata": {
        "id": "DrFqiUwcwSS4",
        "colab_type": "text"
      },
      "cell_type": "markdown",
      "source": [
        "####[MLE-10]\n",
        "Show weights after the training."
      ]
    },
    {
      "metadata": {
        "id": "ffVp0em2Sn4U",
        "colab_type": "code",
        "outputId": "90071962-f338-4a24-a974-362f59c577bc",
        "colab": {
          "base_uri": "https://localhost:8080/",
          "height": 52
        }
      },
      "cell_type": "code",
      "source": [
        "model.get_weights()"
      ],
      "execution_count": 10,
      "outputs": [
        {
          "output_type": "execute_result",
          "data": {
            "text/plain": [
              "[array([[0.05160005],\n",
              "        [0.13753065]], dtype=float32), array([-2.799804], dtype=float32)]"
            ]
          },
          "metadata": {
            "tags": []
          },
          "execution_count": 10
        }
      ]
    },
    {
      "metadata": {
        "id": "8vbl6mtdwi_z",
        "colab_type": "text"
      },
      "cell_type": "markdown",
      "source": [
        "####[MLE-11]\n",
        "Plot a chart using the final weights to show the result."
      ]
    },
    {
      "metadata": {
        "id": "EQCm_ZqJzV7T",
        "colab_type": "code",
        "outputId": "004fbd52-7ab8-42c1-9358-6835e14f6f4f",
        "colab": {
          "base_uri": "https://localhost:8080/",
          "height": 450
        }
      },
      "cell_type": "code",
      "source": [
        "[[w1], [w2]], [b] = model.get_weights()\n",
        "\n",
        "train_set0 = train_set[train_set['t']==0]\n",
        "train_set1 = train_set[train_set['t']==1]\n",
        "\n",
        "fig = plt.figure(figsize=(7, 7))\n",
        "subplot = fig.add_subplot(1, 1, 1)\n",
        "subplot.set_ylim([0, 30])\n",
        "subplot.set_xlim([0, 30])\n",
        "subplot.scatter(train_set1.x1, train_set1.x2, marker='x')\n",
        "subplot.scatter(train_set0.x1, train_set0.x2, marker='o')\n",
        "\n",
        "xs = np.linspace(0, 30, 10)\n",
        "ys = - (w1*xs/w2 + b/w2)\n",
        "subplot.plot(xs, ys)\n",
        "\n",
        "field = [[(1 / (1 + np.exp(-(w1*x1 + w2*x2 +b))))\n",
        "          for x1 in np.linspace(0, 30, 100)]\n",
        "         for x2 in np.linspace(0, 30, 100)]\n",
        "subplot.imshow(field, origin='lower', extent=(0, 30, 0, 30),\n",
        "               vmin=0, vmax=1, cmap=plt.cm.gray_r, alpha=0.5)"
      ],
      "execution_count": 11,
      "outputs": [
        {
          "output_type": "execute_result",
          "data": {
            "text/plain": [
              "<matplotlib.image.AxesImage at 0x7efdd04f65f8>"
            ]
          },
          "metadata": {
            "tags": []
          },
          "execution_count": 11
        },
        {
          "output_type": "display_data",
          "data": {
            "image/png": "[encoded data removed]",
            "text/plain": [
              "<Figure size 504x504 with 1 Axes>"
            ]
          },
          "metadata": {
            "tags": []
          }
        }
      ]
    }
  ]
}