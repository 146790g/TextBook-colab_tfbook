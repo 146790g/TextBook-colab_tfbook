{
  "nbformat": 4,
  "nbformat_minor": 0,
  "metadata": {
    "colab": {
      "name": "1. Maximum likelihood estimation.ipynb",
      "version": "0.3.2",
      "provenance": [],
      "collapsed_sections": []
    },
    "kernelspec": {
      "name": "python3",
      "display_name": "Python 3"
    }
  },
  "cells": [
    {
      "cell_type": "markdown",
      "metadata": {
        "id": "7Xuy7KG9gwxE",
        "colab_type": "text"
      },
      "source": [
        "# Maximum Likelihood Estimation"
      ]
    },
    {
      "cell_type": "markdown",
      "metadata": {
        "id": "oFvzfM3Mg2_a",
        "colab_type": "text"
      },
      "source": [
        "Note: This notebook is desinged to run with Python3 and CPU (no GPU) runtime.\n",
        "\n",
        "![Python 3 and CPU runtime](https://raw.githubusercontent.com/enakai00/colab_tfbook/master/docs/imgs/runtime_cpu.png)"
      ]
    },
    {
      "cell_type": "code",
      "metadata": {
        "id": "_FYfwYp9GMau",
        "colab_type": "code",
        "colab": {
          "base_uri": "https://localhost:8080/",
          "height": 34
        },
        "outputId": "c2a58d71-050c-4569-a96a-41a1baac5fb6"
      },
      "source": [
        "%%bash\n",
        "tf_version='2.0.0rc0'\n",
        "if pip freeze | grep -q \"^tensorflow==${tf_version}$\"; then\n",
        "  echo \"tensorflow==${tf_version} is already installed. No actions are required.\"\n",
        "else\n",
        "  echo \"Installing tensorflow==${tf_version}. Don't forget to restart the runtime.\"\n",
        "  pip install tensorflow==${tf_version}\n",
        "fi"
      ],
      "execution_count": 1,
      "outputs": [
        {
          "output_type": "stream",
          "text": [
            "tensorflow==2.0.0rc0 is already installed. No actions are required.\n"
          ],
          "name": "stdout"
        }
      ]
    },
    {
      "cell_type": "markdown",
      "metadata": {
        "id": "VJO3PPzqsq8d",
        "colab_type": "text"
      },
      "source": [
        "####[MLE-01]\n",
        "Import modules and set a random seed."
      ]
    },
    {
      "cell_type": "code",
      "metadata": {
        "id": "gB5UUoAXIVmC",
        "colab_type": "code",
        "colab": {}
      },
      "source": [
        "import numpy as np\n",
        "from numpy.random import multivariate_normal, permutation\n",
        "import pandas as pd\n",
        "from pandas import DataFrame\n",
        "import matplotlib.pyplot as plt\n",
        "\n",
        "import tensorflow as tf\n",
        "from tensorflow.keras import layers, models\n",
        "\n",
        "np.random.seed(20190220)\n",
        "tf.random.set_seed(20190220)"
      ],
      "execution_count": 0,
      "outputs": []
    },
    {
      "cell_type": "markdown",
      "metadata": {
        "id": "yz2h7_8St1wi",
        "colab_type": "text"
      },
      "source": [
        "####[MLE-02]\n",
        "Generate a training dateset."
      ]
    },
    {
      "cell_type": "code",
      "metadata": {
        "id": "ASgzWK5AjWvn",
        "colab_type": "code",
        "colab": {}
      },
      "source": [
        "n0, mu0, variance0 = 20, [10, 11], 20\n",
        "data0 = multivariate_normal(mu0, np.eye(2)*variance0 ,n0)\n",
        "df0 = DataFrame(data0, columns=['x1', 'x2'])\n",
        "df0['t'] = 0\n",
        "\n",
        "n1, mu1, variance1 = 15, [18, 20], 22\n",
        "data1 = multivariate_normal(mu1, np.eye(2)*variance1, n1)\n",
        "df1 = DataFrame(data1, columns=['x1', 'x2'])\n",
        "df1['t'] = 1\n",
        "\n",
        "df = pd.concat([df0, df1], ignore_index=True)\n",
        "train_set = df.reindex(permutation(df.index)).reset_index(drop=True)"
      ],
      "execution_count": 0,
      "outputs": []
    },
    {
      "cell_type": "markdown",
      "metadata": {
        "id": "SAVhouWduMh7",
        "colab_type": "text"
      },
      "source": [
        "####[MLE-03]\n",
        "The training dataset consists of coordinates $(x_1,x_2)$ and label values $t=0,1$."
      ]
    },
    {
      "cell_type": "code",
      "metadata": {
        "id": "Hp4EnlqvToYN",
        "colab_type": "code",
        "outputId": "4efc426f-87af-410a-d303-897cb0fb1289",
        "colab": {
          "base_uri": "https://localhost:8080/",
          "height": 623
        }
      },
      "source": [
        "train_set"
      ],
      "execution_count": 4,
      "outputs": [
        {
          "output_type": "execute_result",
          "data": {
            "application/vnd.google.colaboratory.module+javascript": "\n      import \"https://ssl.gstatic.com/colaboratory/data_table/a036b366c3cace79/data_table.js\";\n\n      window.createDataTable({\n        data: [[{\n            'v': 0,\n            'f': \"0\",\n        },\n{\n            'v': 11.148678491839021,\n            'f': \"11.148678491839021\",\n        },\n{\n            'v': 12.178697788373894,\n            'f': \"12.178697788373894\",\n        },\n{\n            'v': 0,\n            'f': \"0\",\n        }],\n [{\n            'v': 1,\n            'f': \"1\",\n        },\n{\n            'v': 8.628573632930504,\n            'f': \"8.628573632930504\",\n        },\n{\n            'v': 16.93652461133194,\n            'f': \"16.93652461133194\",\n        },\n{\n            'v': 0,\n            'f': \"0\",\n        }],\n [{\n            'v': 2,\n            'f': \"2\",\n        },\n{\n            'v': 6.751809711409513,\n            'f': \"6.751809711409513\",\n        },\n{\n            'v': 2.686664582293915,\n            'f': \"2.686664582293915\",\n        },\n{\n            'v': 0,\n            'f': \"0\",\n        }],\n [{\n            'v': 3,\n            'f': \"3\",\n        },\n{\n            'v': 14.613344928798629,\n            'f': \"14.613344928798629\",\n        },\n{\n            'v': 22.415743936959526,\n            'f': \"22.415743936959526\",\n        },\n{\n            'v': 1,\n            'f': \"1\",\n        }],\n [{\n            'v': 4,\n            'f': \"4\",\n        },\n{\n            'v': -0.5821852477565805,\n            'f': \"-0.5821852477565805\",\n        },\n{\n            'v': 9.712311013883095,\n            'f': \"9.712311013883095\",\n        },\n{\n            'v': 0,\n            'f': \"0\",\n        }],\n [{\n            'v': 5,\n            'f': \"5\",\n        },\n{\n            'v': 8.720423844035544,\n            'f': \"8.720423844035544\",\n        },\n{\n            'v': 20.26302515830653,\n            'f': \"20.26302515830653\",\n        },\n{\n            'v': 0,\n            'f': \"0\",\n        }],\n [{\n            'v': 6,\n            'f': \"6\",\n        },\n{\n            'v': 14.689335127299515,\n            'f': \"14.689335127299515\",\n        },\n{\n            'v': 11.71860392607349,\n            'f': \"11.71860392607349\",\n        },\n{\n            'v': 0,\n            'f': \"0\",\n        }],\n [{\n            'v': 7,\n            'f': \"7\",\n        },\n{\n            'v': 15.174583494908008,\n            'f': \"15.174583494908008\",\n        },\n{\n            'v': 18.70385632057702,\n            'f': \"18.70385632057702\",\n        },\n{\n            'v': 1,\n            'f': \"1\",\n        }],\n [{\n            'v': 8,\n            'f': \"8\",\n        },\n{\n            'v': 18.932922699030463,\n            'f': \"18.932922699030463\",\n        },\n{\n            'v': 20.0269931736878,\n            'f': \"20.0269931736878\",\n        },\n{\n            'v': 1,\n            'f': \"1\",\n        }],\n [{\n            'v': 9,\n            'f': \"9\",\n        },\n{\n            'v': 10.199964752920419,\n            'f': \"10.199964752920419\",\n        },\n{\n            'v': 19.306526976046708,\n            'f': \"19.306526976046708\",\n        },\n{\n            'v': 1,\n            'f': \"1\",\n        }],\n [{\n            'v': 10,\n            'f': \"10\",\n        },\n{\n            'v': 8.047289933334836,\n            'f': \"8.047289933334836\",\n        },\n{\n            'v': 9.257320832763638,\n            'f': \"9.257320832763638\",\n        },\n{\n            'v': 0,\n            'f': \"0\",\n        }],\n [{\n            'v': 11,\n            'f': \"11\",\n        },\n{\n            'v': 7.973561262168407,\n            'f': \"7.973561262168407\",\n        },\n{\n            'v': 1.842595123236249,\n            'f': \"1.842595123236249\",\n        },\n{\n            'v': 0,\n            'f': \"0\",\n        }],\n [{\n            'v': 12,\n            'f': \"12\",\n        },\n{\n            'v': 9.367123053307624,\n            'f': \"9.367123053307624\",\n        },\n{\n            'v': 12.547001358981642,\n            'f': \"12.547001358981642\",\n        },\n{\n            'v': 0,\n            'f': \"0\",\n        }],\n [{\n            'v': 13,\n            'f': \"13\",\n        },\n{\n            'v': 13.379836079161006,\n            'f': \"13.379836079161006\",\n        },\n{\n            'v': 17.1015636328557,\n            'f': \"17.1015636328557\",\n        },\n{\n            'v': 1,\n            'f': \"1\",\n        }],\n [{\n            'v': 14,\n            'f': \"14\",\n        },\n{\n            'v': 10.050233842530988,\n            'f': \"10.050233842530988\",\n        },\n{\n            'v': 15.911195126133807,\n            'f': \"15.911195126133807\",\n        },\n{\n            'v': 0,\n            'f': \"0\",\n        }],\n [{\n            'v': 15,\n            'f': \"15\",\n        },\n{\n            'v': 21.531288480169273,\n            'f': \"21.531288480169273\",\n        },\n{\n            'v': 15.107301478800009,\n            'f': \"15.107301478800009\",\n        },\n{\n            'v': 1,\n            'f': \"1\",\n        }],\n [{\n            'v': 16,\n            'f': \"16\",\n        },\n{\n            'v': 9.636054831669373,\n            'f': \"9.636054831669373\",\n        },\n{\n            'v': 10.316379886761457,\n            'f': \"10.316379886761457\",\n        },\n{\n            'v': 0,\n            'f': \"0\",\n        }],\n [{\n            'v': 17,\n            'f': \"17\",\n        },\n{\n            'v': 5.41504202958497,\n            'f': \"5.41504202958497\",\n        },\n{\n            'v': 10.557409992195577,\n            'f': \"10.557409992195577\",\n        },\n{\n            'v': 0,\n            'f': \"0\",\n        }],\n [{\n            'v': 18,\n            'f': \"18\",\n        },\n{\n            'v': 15.189523897189822,\n            'f': \"15.189523897189822\",\n        },\n{\n            'v': 10.026290576848922,\n            'f': \"10.026290576848922\",\n        },\n{\n            'v': 1,\n            'f': \"1\",\n        }],\n [{\n            'v': 19,\n            'f': \"19\",\n        },\n{\n            'v': 8.816569573408284,\n            'f': \"8.816569573408284\",\n        },\n{\n            'v': 23.696074880741275,\n            'f': \"23.696074880741275\",\n        },\n{\n            'v': 1,\n            'f': \"1\",\n        }],\n [{\n            'v': 20,\n            'f': \"20\",\n        },\n{\n            'v': 17.03753520520748,\n            'f': \"17.03753520520748\",\n        },\n{\n            'v': 12.352113203334666,\n            'f': \"12.352113203334666\",\n        },\n{\n            'v': 1,\n            'f': \"1\",\n        }],\n [{\n            'v': 21,\n            'f': \"21\",\n        },\n{\n            'v': 11.37842938532994,\n            'f': \"11.37842938532994\",\n        },\n{\n            'v': 7.17267538411078,\n            'f': \"7.17267538411078\",\n        },\n{\n            'v': 0,\n            'f': \"0\",\n        }],\n [{\n            'v': 22,\n            'f': \"22\",\n        },\n{\n            'v': 23.073613223954123,\n            'f': \"23.073613223954123\",\n        },\n{\n            'v': 9.808893804680626,\n            'f': \"9.808893804680626\",\n        },\n{\n            'v': 0,\n            'f': \"0\",\n        }],\n [{\n            'v': 23,\n            'f': \"23\",\n        },\n{\n            'v': 14.247537706921559,\n            'f': \"14.247537706921559\",\n        },\n{\n            'v': 19.11128630918645,\n            'f': \"19.11128630918645\",\n        },\n{\n            'v': 0,\n            'f': \"0\",\n        }],\n [{\n            'v': 24,\n            'f': \"24\",\n        },\n{\n            'v': 16.19401090216603,\n            'f': \"16.19401090216603\",\n        },\n{\n            'v': 19.591580701869358,\n            'f': \"19.591580701869358\",\n        },\n{\n            'v': 1,\n            'f': \"1\",\n        }],\n [{\n            'v': 25,\n            'f': \"25\",\n        },\n{\n            'v': 21.13844350857085,\n            'f': \"21.13844350857085\",\n        },\n{\n            'v': 27.280888090230967,\n            'f': \"27.280888090230967\",\n        },\n{\n            'v': 1,\n            'f': \"1\",\n        }],\n [{\n            'v': 26,\n            'f': \"26\",\n        },\n{\n            'v': 17.428120804037807,\n            'f': \"17.428120804037807\",\n        },\n{\n            'v': 13.953784725768667,\n            'f': \"13.953784725768667\",\n        },\n{\n            'v': 0,\n            'f': \"0\",\n        }],\n [{\n            'v': 27,\n            'f': \"27\",\n        },\n{\n            'v': 16.27573208309307,\n            'f': \"16.27573208309307\",\n        },\n{\n            'v': 25.689385252861776,\n            'f': \"25.689385252861776\",\n        },\n{\n            'v': 1,\n            'f': \"1\",\n        }],\n [{\n            'v': 28,\n            'f': \"28\",\n        },\n{\n            'v': 13.91594817222747,\n            'f': \"13.91594817222747\",\n        },\n{\n            'v': 24.620723769088418,\n            'f': \"24.620723769088418\",\n        },\n{\n            'v': 1,\n            'f': \"1\",\n        }],\n [{\n            'v': 29,\n            'f': \"29\",\n        },\n{\n            'v': 11.609024276434582,\n            'f': \"11.609024276434582\",\n        },\n{\n            'v': 11.623595593936258,\n            'f': \"11.623595593936258\",\n        },\n{\n            'v': 0,\n            'f': \"0\",\n        }],\n [{\n            'v': 30,\n            'f': \"30\",\n        },\n{\n            'v': 13.652538194467995,\n            'f': \"13.652538194467995\",\n        },\n{\n            'v': 3.6784940540144113,\n            'f': \"3.6784940540144113\",\n        },\n{\n            'v': 0,\n            'f': \"0\",\n        }],\n [{\n            'v': 31,\n            'f': \"31\",\n        },\n{\n            'v': 3.424919047740268,\n            'f': \"3.424919047740268\",\n        },\n{\n            'v': 26.121594668009898,\n            'f': \"26.121594668009898\",\n        },\n{\n            'v': 1,\n            'f': \"1\",\n        }],\n [{\n            'v': 32,\n            'f': \"32\",\n        },\n{\n            'v': 19.66329921318524,\n            'f': \"19.66329921318524\",\n        },\n{\n            'v': 21.072943456900944,\n            'f': \"21.072943456900944\",\n        },\n{\n            'v': 1,\n            'f': \"1\",\n        }],\n [{\n            'v': 33,\n            'f': \"33\",\n        },\n{\n            'v': 3.9776048149525716,\n            'f': \"3.9776048149525716\",\n        },\n{\n            'v': 7.2029723628144335,\n            'f': \"7.2029723628144335\",\n        },\n{\n            'v': 0,\n            'f': \"0\",\n        }],\n [{\n            'v': 34,\n            'f': \"34\",\n        },\n{\n            'v': 3.360409200013967,\n            'f': \"3.360409200013967\",\n        },\n{\n            'v': 17.78943367755693,\n            'f': \"17.78943367755693\",\n        },\n{\n            'v': 0,\n            'f': \"0\",\n        }]],\n        columns: [[\"number\", \"index\"], [\"number\", \"x1\"], [\"number\", \"x2\"], [\"number\", \"t\"]],\n        rowsPerPage: 25,\n        helpUrl: \"https://colab.research.google.com/notebooks/data_table.ipynb\",\n      });\n    ",
            "text/html": [
              "<div>\n",
              "<style scoped>\n",
              "    .dataframe tbody tr th:only-of-type {\n",
              "        vertical-align: middle;\n",
              "    }\n",
              "\n",
              "    .dataframe tbody tr th {\n",
              "        vertical-align: top;\n",
              "    }\n",
              "\n",
              "    .dataframe thead th {\n",
              "        text-align: right;\n",
              "    }\n",
              "</style>\n",
              "<table border=\"1\" class=\"dataframe\">\n",
              "  <thead>\n",
              "    <tr style=\"text-align: right;\">\n",
              "      <th></th>\n",
              "      <th>x1</th>\n",
              "      <th>x2</th>\n",
              "      <th>t</th>\n",
              "    </tr>\n",
              "  </thead>\n",
              "  <tbody>\n",
              "    <tr>\n",
              "      <th>0</th>\n",
              "      <td>11.148678</td>\n",
              "      <td>12.178698</td>\n",
              "      <td>0</td>\n",
              "    </tr>\n",
              "    <tr>\n",
              "      <th>1</th>\n",
              "      <td>8.628574</td>\n",
              "      <td>16.936525</td>\n",
              "      <td>0</td>\n",
              "    </tr>\n",
              "    <tr>\n",
              "      <th>2</th>\n",
              "      <td>6.751810</td>\n",
              "      <td>2.686665</td>\n",
              "      <td>0</td>\n",
              "    </tr>\n",
              "    <tr>\n",
              "      <th>3</th>\n",
              "      <td>14.613345</td>\n",
              "      <td>22.415744</td>\n",
              "      <td>1</td>\n",
              "    </tr>\n",
              "    <tr>\n",
              "      <th>4</th>\n",
              "      <td>-0.582185</td>\n",
              "      <td>9.712311</td>\n",
              "      <td>0</td>\n",
              "    </tr>\n",
              "    <tr>\n",
              "      <th>5</th>\n",
              "      <td>8.720424</td>\n",
              "      <td>20.263025</td>\n",
              "      <td>0</td>\n",
              "    </tr>\n",
              "    <tr>\n",
              "      <th>6</th>\n",
              "      <td>14.689335</td>\n",
              "      <td>11.718604</td>\n",
              "      <td>0</td>\n",
              "    </tr>\n",
              "    <tr>\n",
              "      <th>7</th>\n",
              "      <td>15.174583</td>\n",
              "      <td>18.703856</td>\n",
              "      <td>1</td>\n",
              "    </tr>\n",
              "    <tr>\n",
              "      <th>8</th>\n",
              "      <td>18.932923</td>\n",
              "      <td>20.026993</td>\n",
              "      <td>1</td>\n",
              "    </tr>\n",
              "    <tr>\n",
              "      <th>9</th>\n",
              "      <td>10.199965</td>\n",
              "      <td>19.306527</td>\n",
              "      <td>1</td>\n",
              "    </tr>\n",
              "    <tr>\n",
              "      <th>10</th>\n",
              "      <td>8.047290</td>\n",
              "      <td>9.257321</td>\n",
              "      <td>0</td>\n",
              "    </tr>\n",
              "    <tr>\n",
              "      <th>11</th>\n",
              "      <td>7.973561</td>\n",
              "      <td>1.842595</td>\n",
              "      <td>0</td>\n",
              "    </tr>\n",
              "    <tr>\n",
              "      <th>12</th>\n",
              "      <td>9.367123</td>\n",
              "      <td>12.547001</td>\n",
              "      <td>0</td>\n",
              "    </tr>\n",
              "    <tr>\n",
              "      <th>13</th>\n",
              "      <td>13.379836</td>\n",
              "      <td>17.101564</td>\n",
              "      <td>1</td>\n",
              "    </tr>\n",
              "    <tr>\n",
              "      <th>14</th>\n",
              "      <td>10.050234</td>\n",
              "      <td>15.911195</td>\n",
              "      <td>0</td>\n",
              "    </tr>\n",
              "    <tr>\n",
              "      <th>15</th>\n",
              "      <td>21.531288</td>\n",
              "      <td>15.107301</td>\n",
              "      <td>1</td>\n",
              "    </tr>\n",
              "    <tr>\n",
              "      <th>16</th>\n",
              "      <td>9.636055</td>\n",
              "      <td>10.316380</td>\n",
              "      <td>0</td>\n",
              "    </tr>\n",
              "    <tr>\n",
              "      <th>17</th>\n",
              "      <td>5.415042</td>\n",
              "      <td>10.557410</td>\n",
              "      <td>0</td>\n",
              "    </tr>\n",
              "    <tr>\n",
              "      <th>18</th>\n",
              "      <td>15.189524</td>\n",
              "      <td>10.026291</td>\n",
              "      <td>1</td>\n",
              "    </tr>\n",
              "    <tr>\n",
              "      <th>19</th>\n",
              "      <td>8.816570</td>\n",
              "      <td>23.696075</td>\n",
              "      <td>1</td>\n",
              "    </tr>\n",
              "    <tr>\n",
              "      <th>20</th>\n",
              "      <td>17.037535</td>\n",
              "      <td>12.352113</td>\n",
              "      <td>1</td>\n",
              "    </tr>\n",
              "    <tr>\n",
              "      <th>21</th>\n",
              "      <td>11.378429</td>\n",
              "      <td>7.172675</td>\n",
              "      <td>0</td>\n",
              "    </tr>\n",
              "    <tr>\n",
              "      <th>22</th>\n",
              "      <td>23.073613</td>\n",
              "      <td>9.808894</td>\n",
              "      <td>0</td>\n",
              "    </tr>\n",
              "    <tr>\n",
              "      <th>23</th>\n",
              "      <td>14.247538</td>\n",
              "      <td>19.111286</td>\n",
              "      <td>0</td>\n",
              "    </tr>\n",
              "    <tr>\n",
              "      <th>24</th>\n",
              "      <td>16.194011</td>\n",
              "      <td>19.591581</td>\n",
              "      <td>1</td>\n",
              "    </tr>\n",
              "    <tr>\n",
              "      <th>25</th>\n",
              "      <td>21.138444</td>\n",
              "      <td>27.280888</td>\n",
              "      <td>1</td>\n",
              "    </tr>\n",
              "    <tr>\n",
              "      <th>26</th>\n",
              "      <td>17.428121</td>\n",
              "      <td>13.953785</td>\n",
              "      <td>0</td>\n",
              "    </tr>\n",
              "    <tr>\n",
              "      <th>27</th>\n",
              "      <td>16.275732</td>\n",
              "      <td>25.689385</td>\n",
              "      <td>1</td>\n",
              "    </tr>\n",
              "    <tr>\n",
              "      <th>28</th>\n",
              "      <td>13.915948</td>\n",
              "      <td>24.620724</td>\n",
              "      <td>1</td>\n",
              "    </tr>\n",
              "    <tr>\n",
              "      <th>29</th>\n",
              "      <td>11.609024</td>\n",
              "      <td>11.623596</td>\n",
              "      <td>0</td>\n",
              "    </tr>\n",
              "    <tr>\n",
              "      <th>30</th>\n",
              "      <td>13.652538</td>\n",
              "      <td>3.678494</td>\n",
              "      <td>0</td>\n",
              "    </tr>\n",
              "    <tr>\n",
              "      <th>31</th>\n",
              "      <td>3.424919</td>\n",
              "      <td>26.121595</td>\n",
              "      <td>1</td>\n",
              "    </tr>\n",
              "    <tr>\n",
              "      <th>32</th>\n",
              "      <td>19.663299</td>\n",
              "      <td>21.072943</td>\n",
              "      <td>1</td>\n",
              "    </tr>\n",
              "    <tr>\n",
              "      <th>33</th>\n",
              "      <td>3.977605</td>\n",
              "      <td>7.202972</td>\n",
              "      <td>0</td>\n",
              "    </tr>\n",
              "    <tr>\n",
              "      <th>34</th>\n",
              "      <td>3.360409</td>\n",
              "      <td>17.789434</td>\n",
              "      <td>0</td>\n",
              "    </tr>\n",
              "  </tbody>\n",
              "</table>\n",
              "</div>"
            ],
            "text/plain": [
              "           x1         x2  t\n",
              "0   11.148678  12.178698  0\n",
              "1    8.628574  16.936525  0\n",
              "2    6.751810   2.686665  0\n",
              "3   14.613345  22.415744  1\n",
              "4   -0.582185   9.712311  0\n",
              "5    8.720424  20.263025  0\n",
              "6   14.689335  11.718604  0\n",
              "7   15.174583  18.703856  1\n",
              "8   18.932923  20.026993  1\n",
              "9   10.199965  19.306527  1\n",
              "10   8.047290   9.257321  0\n",
              "11   7.973561   1.842595  0\n",
              "12   9.367123  12.547001  0\n",
              "13  13.379836  17.101564  1\n",
              "14  10.050234  15.911195  0\n",
              "15  21.531288  15.107301  1\n",
              "16   9.636055  10.316380  0\n",
              "17   5.415042  10.557410  0\n",
              "18  15.189524  10.026291  1\n",
              "19   8.816570  23.696075  1\n",
              "20  17.037535  12.352113  1\n",
              "21  11.378429   7.172675  0\n",
              "22  23.073613   9.808894  0\n",
              "23  14.247538  19.111286  0\n",
              "24  16.194011  19.591581  1\n",
              "25  21.138444  27.280888  1\n",
              "26  17.428121  13.953785  0\n",
              "27  16.275732  25.689385  1\n",
              "28  13.915948  24.620724  1\n",
              "29  11.609024  11.623596  0\n",
              "30  13.652538   3.678494  0\n",
              "31   3.424919  26.121595  1\n",
              "32  19.663299  21.072943  1\n",
              "33   3.977605   7.202972  0\n",
              "34   3.360409  17.789434  0"
            ]
          },
          "metadata": {
            "tags": []
          },
          "execution_count": 4
        }
      ]
    },
    {
      "cell_type": "markdown",
      "metadata": {
        "id": "qdQ0Tp2IvFy8",
        "colab_type": "text"
      },
      "source": [
        "####[MLE-04]\n",
        "Store the coordinates $(x_1,x_2)$ and label values $t$ into NumPy arrays."
      ]
    },
    {
      "cell_type": "code",
      "metadata": {
        "id": "tpL_niBTXggS",
        "colab_type": "code",
        "colab": {}
      },
      "source": [
        "train_x = train_set[['x1', 'x2']].values\n",
        "train_t = train_set['t'].values"
      ],
      "execution_count": 0,
      "outputs": []
    },
    {
      "cell_type": "markdown",
      "metadata": {
        "id": "fmnjQdqAvQRw",
        "colab_type": "text"
      },
      "source": [
        "####[MLE-05]\n",
        "Define a model to predict the probability of `t=1`."
      ]
    },
    {
      "cell_type": "code",
      "metadata": {
        "id": "BakcuKxdQoSL",
        "colab_type": "code",
        "outputId": "01626728-aa82-4f9e-9868-296867a840ab",
        "colab": {
          "base_uri": "https://localhost:8080/",
          "height": 187
        }
      },
      "source": [
        "model = models.Sequential()\n",
        "model.add(layers.Dense(1, activation='sigmoid', input_shape=(2,),\n",
        "                       name='logistic_regression'))\n",
        "\n",
        "model.summary()"
      ],
      "execution_count": 6,
      "outputs": [
        {
          "output_type": "stream",
          "text": [
            "Model: \"sequential\"\n",
            "_________________________________________________________________\n",
            "Layer (type)                 Output Shape              Param #   \n",
            "=================================================================\n",
            "logistic_regression (Dense)  (None, 1)                 3         \n",
            "=================================================================\n",
            "Total params: 3\n",
            "Trainable params: 3\n",
            "Non-trainable params: 0\n",
            "_________________________________________________________________\n"
          ],
          "name": "stdout"
        }
      ]
    },
    {
      "cell_type": "markdown",
      "metadata": {
        "id": "fBltXsSRvZn0",
        "colab_type": "text"
      },
      "source": [
        "####[MLE-06]\n",
        "Compile the model using the Adam optimizer, and Cross entroy as a loss function."
      ]
    },
    {
      "cell_type": "code",
      "metadata": {
        "id": "LlQCTsKKXkr5",
        "colab_type": "code",
        "colab": {}
      },
      "source": [
        "model.compile(optimizer='adam',\n",
        "              loss='binary_crossentropy',\n",
        "              metrics=['acc'])"
      ],
      "execution_count": 0,
      "outputs": []
    },
    {
      "cell_type": "markdown",
      "metadata": {
        "id": "PjbE4TVBvqCh",
        "colab_type": "text"
      },
      "source": [
        "####[MLE-07]\n",
        "Apply the optimization for 10 epochs."
      ]
    },
    {
      "cell_type": "code",
      "metadata": {
        "id": "qpARZzJsAnNA",
        "colab_type": "code",
        "outputId": "30ceaa92-8203-4f86-99bb-491101a6ca1e",
        "colab": {
          "base_uri": "https://localhost:8080/",
          "height": 462
        }
      },
      "source": [
        "history = model.fit(train_x, train_t,\n",
        "                    batch_size=len(train_x), epochs=10)"
      ],
      "execution_count": 8,
      "outputs": [
        {
          "output_type": "stream",
          "text": [
            "WARNING: Logging before flag parsing goes to stderr.\n",
            "W0826 08:54:21.653700 139771733911424 deprecation.py:323] From /usr/local/lib/python3.6/dist-packages/tensorflow_core/python/ops/nn_impl.py:183: where (from tensorflow.python.ops.array_ops) is deprecated and will be removed in a future version.\n",
            "Instructions for updating:\n",
            "Use tf.where in 2.0, which has the same broadcast rule as np.where\n"
          ],
          "name": "stderr"
        },
        {
          "output_type": "stream",
          "text": [
            "Train on 35 samples\n",
            "Epoch 1/10\n",
            "35/35 [==============================] - 1s 21ms/sample - loss: 3.0620 - acc: 0.5714\n",
            "Epoch 2/10\n",
            "35/35 [==============================] - 0s 135us/sample - loss: 3.0470 - acc: 0.5714\n",
            "Epoch 3/10\n",
            "35/35 [==============================] - 0s 134us/sample - loss: 3.0321 - acc: 0.5714\n",
            "Epoch 4/10\n",
            "35/35 [==============================] - 0s 140us/sample - loss: 3.0172 - acc: 0.5714\n",
            "Epoch 5/10\n",
            "35/35 [==============================] - 0s 105us/sample - loss: 3.0022 - acc: 0.5714\n",
            "Epoch 6/10\n",
            "35/35 [==============================] - 0s 165us/sample - loss: 2.9873 - acc: 0.5714\n",
            "Epoch 7/10\n",
            "35/35 [==============================] - 0s 247us/sample - loss: 2.9724 - acc: 0.5714\n",
            "Epoch 8/10\n",
            "35/35 [==============================] - 0s 156us/sample - loss: 2.9576 - acc: 0.5714\n",
            "Epoch 9/10\n",
            "35/35 [==============================] - 0s 139us/sample - loss: 2.9427 - acc: 0.5714\n",
            "Epoch 10/10\n",
            "35/35 [==============================] - 0s 185us/sample - loss: 2.9278 - acc: 0.5714\n"
          ],
          "name": "stdout"
        }
      ]
    },
    {
      "cell_type": "markdown",
      "metadata": {
        "id": "6ZJDVflWv6bm",
        "colab_type": "text"
      },
      "source": [
        "####[MLE-08]\n",
        "Apply the optimization for additional 5,000 epochs."
      ]
    },
    {
      "cell_type": "code",
      "metadata": {
        "id": "R6aG8FEZSLdr",
        "colab_type": "code",
        "colab": {}
      },
      "source": [
        "history = model.fit(train_x, train_t,\n",
        "                    batch_size=len(train_x), epochs=5000, verbose=0)"
      ],
      "execution_count": 0,
      "outputs": []
    },
    {
      "cell_type": "markdown",
      "metadata": {
        "id": "BFIxYITmwBXA",
        "colab_type": "text"
      },
      "source": [
        "####[MLE-09]\n",
        "Plot charts for accuracy and loss."
      ]
    },
    {
      "cell_type": "code",
      "metadata": {
        "id": "lHFnv_-Z9KjC",
        "colab_type": "code",
        "outputId": "1527dd0c-cce9-44f6-93bd-2245787f14d2",
        "colab": {
          "base_uri": "https://localhost:8080/",
          "height": 538
        }
      },
      "source": [
        "DataFrame({'acc': history.history['acc']}).plot()\n",
        "DataFrame({'loss': history.history['loss']}).plot()"
      ],
      "execution_count": 10,
      "outputs": [
        {
          "output_type": "execute_result",
          "data": {
            "text/plain": [
              "<matplotlib.axes._subplots.AxesSubplot at 0x7f1ee2938198>"
            ]
          },
          "metadata": {
            "tags": []
          },
          "execution_count": 10
        },
        {
          "output_type": "display_data",
          "data": {
            "image/png": "[encoded data removed]",
            "text/plain": [
              "<Figure size 432x288 with 1 Axes>"
            ]
          },
          "metadata": {
            "tags": []
          }
        },
        {
          "output_type": "display_data",
          "data": {
            "image/png": "[encoded data removed]",
            "text/plain": [
              "<Figure size 432x288 with 1 Axes>"
            ]
          },
          "metadata": {
            "tags": []
          }
        }
      ]
    },
    {
      "cell_type": "markdown",
      "metadata": {
        "id": "DrFqiUwcwSS4",
        "colab_type": "text"
      },
      "source": [
        "####[MLE-10]\n",
        "Show weights after the training."
      ]
    },
    {
      "cell_type": "code",
      "metadata": {
        "id": "ffVp0em2Sn4U",
        "colab_type": "code",
        "outputId": "dfea32f9-c4dc-4ae4-9648-31ac0ee37337",
        "colab": {
          "base_uri": "https://localhost:8080/",
          "height": 51
        }
      },
      "source": [
        "model.get_weights()"
      ],
      "execution_count": 11,
      "outputs": [
        {
          "output_type": "execute_result",
          "data": {
            "text/plain": [
              "[array([[0.07224163],\n",
              "        [0.15967454]], dtype=float32), array([-3.4501996], dtype=float32)]"
            ]
          },
          "metadata": {
            "tags": []
          },
          "execution_count": 11
        }
      ]
    },
    {
      "cell_type": "markdown",
      "metadata": {
        "id": "8vbl6mtdwi_z",
        "colab_type": "text"
      },
      "source": [
        "####[MLE-11]\n",
        "Plot a chart using the final weights to show the result."
      ]
    },
    {
      "cell_type": "code",
      "metadata": {
        "id": "EQCm_ZqJzV7T",
        "colab_type": "code",
        "outputId": "d1f6b74d-582a-4521-af39-32dbaaf7dfba",
        "colab": {
          "base_uri": "https://localhost:8080/",
          "height": 449
        }
      },
      "source": [
        "[[w1], [w2]], [b] = model.get_weights()\n",
        "\n",
        "train_set0 = train_set[train_set['t']==0]\n",
        "train_set1 = train_set[train_set['t']==1]\n",
        "\n",
        "fig = plt.figure(figsize=(7, 7))\n",
        "subplot = fig.add_subplot(1, 1, 1)\n",
        "subplot.set_ylim([0, 30])\n",
        "subplot.set_xlim([0, 30])\n",
        "subplot.scatter(train_set1.x1, train_set1.x2, marker='x')\n",
        "subplot.scatter(train_set0.x1, train_set0.x2, marker='o')\n",
        "\n",
        "xs = np.linspace(0, 30, 10)\n",
        "ys = - (w1*xs/w2 + b/w2)\n",
        "subplot.plot(xs, ys)\n",
        "\n",
        "field = [[(1 / (1 + np.exp(-(w1*x1 + w2*x2 + b))))\n",
        "          for x1 in np.linspace(0, 30, 100)]\n",
        "         for x2 in np.linspace(0, 30, 100)]\n",
        "subplot.imshow(field, origin='lower', extent=(0, 30, 0, 30),\n",
        "               vmin=0, vmax=1, cmap=plt.cm.gray_r, alpha=0.5)"
      ],
      "execution_count": 12,
      "outputs": [
        {
          "output_type": "execute_result",
          "data": {
            "text/plain": [
              "<matplotlib.image.AxesImage at 0x7f1ee082a6a0>"
            ]
          },
          "metadata": {
            "tags": []
          },
          "execution_count": 12
        },
        {
          "output_type": "display_data",
          "data": {
            "image/png": "[encoded data removed]",
            "text/plain": [
              "<Figure size 504x504 with 1 Axes>"
            ]
          },
          "metadata": {
            "tags": []
          }
        }
      ]
    }
  ]
}