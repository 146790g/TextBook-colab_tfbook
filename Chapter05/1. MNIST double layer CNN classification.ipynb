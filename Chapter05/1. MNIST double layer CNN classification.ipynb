{
  "nbformat": 4,
  "nbformat_minor": 0,
  "metadata": {
    "colab": {
      "name": "1. MNIST double layer CNN classification.ipynb",
      "version": "0.3.2",
      "provenance": [],
      "collapsed_sections": []
    },
    "kernelspec": {
      "name": "python3",
      "display_name": "Python 3"
    },
    "accelerator": "GPU"
  },
  "cells": [
    {
      "cell_type": "markdown",
      "metadata": {
        "id": "1SWrL8CzpjuU",
        "colab_type": "text"
      },
      "source": [
        "# MNIST Double Layer CNN Classification"
      ]
    },
    {
      "cell_type": "markdown",
      "metadata": {
        "id": "KrzRk0GUyNd_",
        "colab_type": "text"
      },
      "source": [
        "Note: This notebook is desinged to run with Python3 and GPU runtime.\n",
        "\n",
        "![Python 3 and CPU runtime](https://raw.githubusercontent.com/enakai00/colab_tfbook/master/docs/imgs/runtime_gpu.png)"
      ]
    },
    {
      "cell_type": "markdown",
      "metadata": {
        "id": "VJO3PPzqsq8d",
        "colab_type": "text"
      },
      "source": [
        "####[CNN-01]\n",
        "Import modules and set a random seed."
      ]
    },
    {
      "cell_type": "code",
      "metadata": {
        "id": "gB5UUoAXIVmC",
        "colab_type": "code",
        "outputId": "82ddb035-961a-41b9-a3fd-2fa49cbaf83e",
        "colab": {
          "base_uri": "https://localhost:8080/",
          "height": 35
        }
      },
      "source": [
        "import numpy as np\n",
        "from pandas import DataFrame\n",
        "import matplotlib.pyplot as plt\n",
        "\n",
        "import tensorflow as tf\n",
        "import keras\n",
        "from keras import layers, models, initializers\n",
        "from keras.datasets import mnist\n",
        "\n",
        "np.random.seed(20190220)\n",
        "tf.set_random_seed(20190220)"
      ],
      "execution_count": 1,
      "outputs": [
        {
          "output_type": "stream",
          "text": [
            "Using TensorFlow backend.\n"
          ],
          "name": "stderr"
        }
      ]
    },
    {
      "cell_type": "markdown",
      "metadata": {
        "id": "yz2h7_8St1wi",
        "colab_type": "text"
      },
      "source": [
        "####[CNN-02]\n",
        "Download the MNIST dataset and store into NumPy arrays."
      ]
    },
    {
      "cell_type": "code",
      "metadata": {
        "id": "ASgzWK5AjWvn",
        "colab_type": "code",
        "colab": {}
      },
      "source": [
        "(train_images, train_labels), (test_images, test_labels) = mnist.load_data()\n",
        "train_images = train_images.reshape(\n",
        "                  (len(train_images), 784)).astype('float32') / 255\n",
        "test_images = test_images.reshape(\n",
        "                  (len(test_images), 784)).astype('float32') / 255\n",
        "train_labels = keras.utils.to_categorical(train_labels, 10)\n",
        "test_labels = keras.utils.to_categorical(test_labels, 10)"
      ],
      "execution_count": 0,
      "outputs": []
    },
    {
      "cell_type": "markdown",
      "metadata": {
        "id": "qdQ0Tp2IvFy8",
        "colab_type": "text"
      },
      "source": [
        "####[CNN-03]\n",
        "Define a CNN model with a single convolutional filter layer."
      ]
    },
    {
      "cell_type": "code",
      "metadata": {
        "id": "tpL_niBTXggS",
        "colab_type": "code",
        "outputId": "860c938d-ee47-44c9-889a-78ce86a2ccb3",
        "colab": {
          "base_uri": "https://localhost:8080/",
          "height": 573
        }
      },
      "source": [
        "model = models.Sequential()\n",
        "model.add(layers.Reshape((28, 28, 1), input_shape=(28*28,), name='reshape'))\n",
        "model.add(layers.Conv2D(32, (5, 5), padding='same',\n",
        "                        kernel_initializer=initializers.TruncatedNormal(),\n",
        "                        use_bias=True, activation='relu',\n",
        "                        name='conv_filter1'))\n",
        "model.add(layers.MaxPooling2D((2, 2), name='max_pooling1'))\n",
        "model.add(layers.Conv2D(64, (5, 5), padding='same',\n",
        "                        kernel_initializer=initializers.TruncatedNormal(),\n",
        "                        use_bias=True, activation='relu',\n",
        "                        name='conv_filter2'))\n",
        "model.add(layers.MaxPooling2D((2, 2), name='max_pooling2'))\n",
        "model.add(layers.Flatten(name='flatten'))\n",
        "model.add(layers.Dense(1024, activation='relu',\n",
        "                       kernel_initializer=initializers.TruncatedNormal(),\n",
        "                       name='hidden'))\n",
        "model.add(layers.Dropout(rate=0.5, name='dropout'))\n",
        "model.add(layers.Dense(10, activation='softmax', name='softmax'))\n",
        "\n",
        "model.summary()"
      ],
      "execution_count": 3,
      "outputs": [
        {
          "output_type": "stream",
          "text": [
            "WARNING:tensorflow:From /usr/local/lib/python3.6/dist-packages/tensorflow/python/framework/op_def_library.py:263: colocate_with (from tensorflow.python.framework.ops) is deprecated and will be removed in a future version.\n",
            "Instructions for updating:\n",
            "Colocations handled automatically by placer.\n",
            "WARNING:tensorflow:From /usr/local/lib/python3.6/dist-packages/keras/backend/tensorflow_backend.py:3445: calling dropout (from tensorflow.python.ops.nn_ops) with keep_prob is deprecated and will be removed in a future version.\n",
            "Instructions for updating:\n",
            "Please use `rate` instead of `keep_prob`. Rate should be set to `rate = 1 - keep_prob`.\n",
            "_________________________________________________________________\n",
            "Layer (type)                 Output Shape              Param #   \n",
            "=================================================================\n",
            "reshape (Reshape)            (None, 28, 28, 1)         0         \n",
            "_________________________________________________________________\n",
            "conv_filter1 (Conv2D)        (None, 28, 28, 32)        832       \n",
            "_________________________________________________________________\n",
            "max_pooling1 (MaxPooling2D)  (None, 14, 14, 32)        0         \n",
            "_________________________________________________________________\n",
            "conv_filter2 (Conv2D)        (None, 14, 14, 64)        51264     \n",
            "_________________________________________________________________\n",
            "max_pooling2 (MaxPooling2D)  (None, 7, 7, 64)          0         \n",
            "_________________________________________________________________\n",
            "flatten (Flatten)            (None, 3136)              0         \n",
            "_________________________________________________________________\n",
            "hidden (Dense)               (None, 1024)              3212288   \n",
            "_________________________________________________________________\n",
            "dropout (Dropout)            (None, 1024)              0         \n",
            "_________________________________________________________________\n",
            "softmax (Dense)              (None, 10)                10250     \n",
            "=================================================================\n",
            "Total params: 3,274,634\n",
            "Trainable params: 3,274,634\n",
            "Non-trainable params: 0\n",
            "_________________________________________________________________\n"
          ],
          "name": "stdout"
        }
      ]
    },
    {
      "cell_type": "markdown",
      "metadata": {
        "id": "fBltXsSRvZn0",
        "colab_type": "text"
      },
      "source": [
        "####[CNN-04]\n",
        "Compile the model using the Adam optimizer, and Cross entroy as a loss function."
      ]
    },
    {
      "cell_type": "code",
      "metadata": {
        "id": "BakcuKxdQoSL",
        "colab_type": "code",
        "colab": {}
      },
      "source": [
        "model.compile(optimizer='adam',\n",
        "              loss='categorical_crossentropy',\n",
        "              metrics=['acc'])"
      ],
      "execution_count": 0,
      "outputs": []
    },
    {
      "cell_type": "markdown",
      "metadata": {
        "id": "9s1eWABtyrH_",
        "colab_type": "text"
      },
      "source": [
        "####[CNN-05]\n",
        "Train the model. It achieves the 99.2% accuracy."
      ]
    },
    {
      "cell_type": "code",
      "metadata": {
        "id": "LlQCTsKKXkr5",
        "colab_type": "code",
        "outputId": "f3d9b5fa-d23b-4bcb-9341-3ae9f668487d",
        "colab": {
          "base_uri": "https://localhost:8080/",
          "height": 452
        }
      },
      "source": [
        "history = model.fit(train_images, train_labels,\n",
        "                    validation_data=(test_images, test_labels),\n",
        "                    batch_size=128, epochs=10)"
      ],
      "execution_count": 5,
      "outputs": [
        {
          "output_type": "stream",
          "text": [
            "WARNING:tensorflow:From /usr/local/lib/python3.6/dist-packages/tensorflow/python/ops/math_ops.py:3066: to_int32 (from tensorflow.python.ops.math_ops) is deprecated and will be removed in a future version.\n",
            "Instructions for updating:\n",
            "Use tf.cast instead.\n",
            "Train on 60000 samples, validate on 10000 samples\n",
            "Epoch 1/10\n",
            "60000/60000 [==============================] - 8s 133us/step - loss: 0.1486 - acc: 0.9533 - val_loss: 0.0391 - val_acc: 0.9873\n",
            "Epoch 2/10\n",
            "60000/60000 [==============================] - 4s 75us/step - loss: 0.0446 - acc: 0.9862 - val_loss: 0.0252 - val_acc: 0.9915\n",
            "Epoch 3/10\n",
            "60000/60000 [==============================] - 4s 75us/step - loss: 0.0302 - acc: 0.9905 - val_loss: 0.0232 - val_acc: 0.9918\n",
            "Epoch 4/10\n",
            "60000/60000 [==============================] - 4s 75us/step - loss: 0.0239 - acc: 0.9927 - val_loss: 0.0223 - val_acc: 0.9925\n",
            "Epoch 5/10\n",
            "60000/60000 [==============================] - 5s 76us/step - loss: 0.0182 - acc: 0.9940 - val_loss: 0.0234 - val_acc: 0.9933\n",
            "Epoch 6/10\n",
            "60000/60000 [==============================] - 5s 75us/step - loss: 0.0154 - acc: 0.9949 - val_loss: 0.0256 - val_acc: 0.9918\n",
            "Epoch 7/10\n",
            "60000/60000 [==============================] - 4s 75us/step - loss: 0.0144 - acc: 0.9954 - val_loss: 0.0286 - val_acc: 0.9910\n",
            "Epoch 8/10\n",
            "60000/60000 [==============================] - 4s 74us/step - loss: 0.0097 - acc: 0.9969 - val_loss: 0.0239 - val_acc: 0.9921\n",
            "Epoch 9/10\n",
            "60000/60000 [==============================] - 4s 75us/step - loss: 0.0111 - acc: 0.9963 - val_loss: 0.0241 - val_acc: 0.9921\n",
            "Epoch 10/10\n",
            "60000/60000 [==============================] - 4s 74us/step - loss: 0.0104 - acc: 0.9964 - val_loss: 0.0250 - val_acc: 0.9927\n"
          ],
          "name": "stdout"
        }
      ]
    },
    {
      "cell_type": "markdown",
      "metadata": {
        "id": "YaQHWbdhy06d",
        "colab_type": "text"
      },
      "source": [
        "####[CNN-06]\n",
        "Plot chars for accuracy and loss values."
      ]
    },
    {
      "cell_type": "code",
      "metadata": {
        "id": "YVBm18oNpFR_",
        "colab_type": "code",
        "outputId": "e934ff6f-19f0-4287-dbc1-df1a6b8ab16f",
        "colab": {
          "base_uri": "https://localhost:8080/",
          "height": 538
        }
      },
      "source": [
        "DataFrame({'acc': history.history['acc'], \n",
        "           'val_acc': history.history['val_acc']}).plot()\n",
        "DataFrame({'loss': history.history['loss'], \n",
        "           'val_loss': history.history['val_loss']}).plot()"
      ],
      "execution_count": 6,
      "outputs": [
        {
          "output_type": "execute_result",
          "data": {
            "text/plain": [
              "<matplotlib.axes._subplots.AxesSubplot at 0x7fd5a17fe048>"
            ]
          },
          "metadata": {
            "tags": []
          },
          "execution_count": 6
        },
        {
          "output_type": "display_data",
          "data": {
            "image/png": "[encoded data removed]",
            "text/plain": [
              "<Figure size 432x288 with 1 Axes>"
            ]
          },
          "metadata": {
            "tags": []
          }
        },
        {
          "output_type": "display_data",
          "data": {
            "image/png": "[encoded data removed]",
            "text/plain": [
              "<Figure size 432x288 with 1 Axes>"
            ]
          },
          "metadata": {
            "tags": []
          }
        }
      ]
    },
    {
      "cell_type": "markdown",
      "metadata": {
        "id": "MpSePiAysZHn",
        "colab_type": "text"
      },
      "source": [
        "####[CNN-07]\n",
        "Mount your Google Drive on `/content/gdrive`."
      ]
    },
    {
      "cell_type": "code",
      "metadata": {
        "id": "KTDOKlWoe2Kz",
        "colab_type": "code",
        "outputId": "d1c2e1a1-89bf-4833-dc83-85f7d8954ca1",
        "colab": {
          "base_uri": "https://localhost:8080/",
          "height": 35
        }
      },
      "source": [
        "from google.colab import drive\n",
        "drive.mount('/content/gdrive')"
      ],
      "execution_count": 7,
      "outputs": [
        {
          "output_type": "stream",
          "text": [
            "Drive already mounted at /content/gdrive; to attempt to forcibly remount, call drive.mount(\"/content/gdrive\", force_remount=True).\n"
          ],
          "name": "stdout"
        }
      ]
    },
    {
      "cell_type": "markdown",
      "metadata": {
        "id": "NP9DEPolzd0w",
        "colab_type": "text"
      },
      "source": [
        "####[MDF-08]\n",
        "Export the trained model as a file `MNIST_double.hd5` on your Google Drive."
      ]
    },
    {
      "cell_type": "code",
      "metadata": {
        "id": "jY2TeEWCwxix",
        "colab_type": "code",
        "outputId": "00e5e35c-4a0a-4d95-9281-5175d062138c",
        "colab": {
          "base_uri": "https://localhost:8080/",
          "height": 35
        }
      },
      "source": [
        "model.save('/content/gdrive/My Drive/MNIST_double.hd5')\n",
        "!ls -lh '/content/gdrive/My Drive/MNIST_double.hd5'"
      ],
      "execution_count": 8,
      "outputs": [
        {
          "output_type": "stream",
          "text": [
            "-rw------- 1 root root 38M Jun  7 08:02 '/content/gdrive/My Drive/MNIST_double.hd5'\n"
          ],
          "name": "stdout"
        }
      ]
    }
  ]
}