{
  "nbformat": 4,
  "nbformat_minor": 0,
  "metadata": {
    "colab": {
      "name": "2. Handwritten digit recognizer.ipynb",
      "version": "0.3.2",
      "provenance": [],
      "collapsed_sections": []
    },
    "kernelspec": {
      "name": "python3",
      "display_name": "Python 3"
    },
    "accelerator": "GPU"
  },
  "cells": [
    {
      "cell_type": "markdown",
      "metadata": {
        "id": "3pxCWfcZ2kFm",
        "colab_type": "text"
      },
      "source": [
        "# Handwritten Digit Recognizer"
      ]
    },
    {
      "cell_type": "markdown",
      "metadata": {
        "id": "V5T4eXX92xLB",
        "colab_type": "text"
      },
      "source": [
        "Note: This notebook is desinged to run with Python3 and GPU runtime.\n",
        "\n",
        "![Python 3 and CPU runtime](https://raw.githubusercontent.com/enakai00/colab_tfbook/master/docs/imgs/runtime_gpu.png)"
      ]
    },
    {
      "cell_type": "code",
      "metadata": {
        "id": "HBWFcUhQuahw",
        "colab_type": "code",
        "outputId": "fa8dda74-8b26-4f5f-a382-0da0b3fe85ef",
        "colab": {
          "base_uri": "https://localhost:8080/",
          "height": 34
        }
      },
      "source": [
        "%%bash\n",
        "tf_version='tensorflow-gpu==2.0.0rc0'\n",
        "if pip freeze | grep -q \"^${tf_version}$\"; then\n",
        "    echo \"${tf_version} is already installed. No actions are required.\"\n",
        "else\n",
        "    echo \"Installing ${tf_version}. Don't forget to restart the runtime.\"\n",
        "    if pip freeze | grep -q \"^tensorflow==\"; then\n",
        "        pip uninstall -y tensorflow\n",
        "    fi\n",
        "    pip install ${tf_version}\n",
        "fi"
      ],
      "execution_count": 1,
      "outputs": [
        {
          "output_type": "stream",
          "text": [
            "tensorflow-gpu==2.0.0rc0 is already installed. No actions are required.\n"
          ],
          "name": "stdout"
        }
      ]
    },
    {
      "cell_type": "markdown",
      "metadata": {
        "id": "VJO3PPzqsq8d",
        "colab_type": "text"
      },
      "source": [
        "####[HDR-01]\n",
        "Import modules."
      ]
    },
    {
      "cell_type": "code",
      "metadata": {
        "id": "gB5UUoAXIVmC",
        "colab_type": "code",
        "colab": {}
      },
      "source": [
        "import numpy as np\n",
        "import matplotlib.pyplot as plt\n",
        "\n",
        "from tensorflow.keras import layers, models"
      ],
      "execution_count": 0,
      "outputs": []
    },
    {
      "cell_type": "markdown",
      "metadata": {
        "id": "yz2h7_8St1wi",
        "colab_type": "text"
      },
      "source": [
        "####[HDR-02]\n",
        "Mount your Google Drive on `/content/gdrive`."
      ]
    },
    {
      "cell_type": "code",
      "metadata": {
        "id": "tpL_niBTXggS",
        "colab_type": "code",
        "outputId": "4d1fac1a-6a11-422c-f16f-2b08b2a08e40",
        "colab": {
          "base_uri": "https://localhost:8080/",
          "height": 34
        }
      },
      "source": [
        "from google.colab import drive\n",
        "drive.mount('/content/gdrive')"
      ],
      "execution_count": 10,
      "outputs": [
        {
          "output_type": "stream",
          "text": [
            "Drive already mounted at /content/gdrive; to attempt to forcibly remount, call drive.mount(\"/content/gdrive\", force_remount=True).\n"
          ],
          "name": "stdout"
        }
      ]
    },
    {
      "cell_type": "markdown",
      "metadata": {
        "id": "fBltXsSRvZn0",
        "colab_type": "text"
      },
      "source": [
        "####[HDR-03]\n",
        "Confirm that the exported model file `MNIST_double.hd5` is on your Google Drive."
      ]
    },
    {
      "cell_type": "code",
      "metadata": {
        "id": "zq-uJjvNgO6A",
        "colab_type": "code",
        "outputId": "f7bbfd16-1968-4fc3-df21-9a3b1b67d537",
        "colab": {
          "base_uri": "https://localhost:8080/",
          "height": 34
        }
      },
      "source": [
        "!ls '/content/gdrive/My Drive/MNIST_double.hd5'"
      ],
      "execution_count": 4,
      "outputs": [
        {
          "output_type": "stream",
          "text": [
            "'/content/gdrive/My Drive/MNIST_double.hd5'\n"
          ],
          "name": "stdout"
        }
      ]
    },
    {
      "cell_type": "markdown",
      "metadata": {
        "id": "aBJKXOtk3DWy",
        "colab_type": "text"
      },
      "source": [
        "####[HDR-04]\n",
        "Restore the model from the exported model file."
      ]
    },
    {
      "cell_type": "code",
      "metadata": {
        "id": "BakcuKxdQoSL",
        "colab_type": "code",
        "outputId": "6bed0e03-ee8c-4415-a3d6-f1bca585c97a",
        "colab": {
          "base_uri": "https://localhost:8080/",
          "height": 547
        }
      },
      "source": [
        "model = models.load_model('/content/gdrive/My Drive/MNIST_double.hd5')\n",
        "model.summary()"
      ],
      "execution_count": 5,
      "outputs": [
        {
          "output_type": "stream",
          "text": [
            "WARNING: Logging before flag parsing goes to stderr.\n",
            "W0826 12:17:37.542962 140234927585152 deprecation.py:323] From /usr/local/lib/python3.6/dist-packages/tensorflow_core/python/ops/math_grad.py:1424: where (from tensorflow.python.ops.array_ops) is deprecated and will be removed in a future version.\n",
            "Instructions for updating:\n",
            "Use tf.where in 2.0, which has the same broadcast rule as np.where\n"
          ],
          "name": "stderr"
        },
        {
          "output_type": "stream",
          "text": [
            "Model: \"sequential\"\n",
            "_________________________________________________________________\n",
            "Layer (type)                 Output Shape              Param #   \n",
            "=================================================================\n",
            "reshape (Reshape)            (None, 28, 28, 1)         0         \n",
            "_________________________________________________________________\n",
            "conv_filter1 (Conv2D)        (None, 28, 28, 32)        832       \n",
            "_________________________________________________________________\n",
            "max_pooling1 (MaxPooling2D)  (None, 14, 14, 32)        0         \n",
            "_________________________________________________________________\n",
            "conv_filter2 (Conv2D)        (None, 14, 14, 64)        51264     \n",
            "_________________________________________________________________\n",
            "max_pooling2 (MaxPooling2D)  (None, 7, 7, 64)          0         \n",
            "_________________________________________________________________\n",
            "flatten (Flatten)            (None, 3136)              0         \n",
            "_________________________________________________________________\n",
            "hidden (Dense)               (None, 1024)              3212288   \n",
            "_________________________________________________________________\n",
            "dropout (Dropout)            (None, 1024)              0         \n",
            "_________________________________________________________________\n",
            "softmax (Dense)              (None, 10)                10250     \n",
            "=================================================================\n",
            "Total params: 3,274,634\n",
            "Trainable params: 3,274,634\n",
            "Non-trainable params: 0\n",
            "_________________________________________________________________\n"
          ],
          "name": "stdout"
        }
      ]
    },
    {
      "cell_type": "markdown",
      "metadata": {
        "id": "O5Q6GaJC3ICa",
        "colab_type": "text"
      },
      "source": [
        "####[HDR-05]\n",
        "Define a model to extract outputs from intermediate layers."
      ]
    },
    {
      "cell_type": "code",
      "metadata": {
        "id": "gCrvgrephgYN",
        "colab_type": "code",
        "colab": {}
      },
      "source": [
        "layer_outputs = [model.get_layer('max_pooling1').output,\n",
        "                 model.get_layer('max_pooling2').output]\n",
        "model2 = models.Model(inputs=model.input, outputs=layer_outputs)"
      ],
      "execution_count": 0,
      "outputs": []
    },
    {
      "cell_type": "markdown",
      "metadata": {
        "id": "EMg7wjd13Lg2",
        "colab_type": "text"
      },
      "source": [
        "####[HDR-06]\n",
        "Define a Javascript function to create a drawing canvas."
      ]
    },
    {
      "cell_type": "code",
      "metadata": {
        "id": "mGb8L6T1qu7Y",
        "colab_type": "code",
        "colab": {}
      },
      "source": [
        "input_form = \"\"\"\n",
        "<table>\n",
        "<td style=\"border-style: none;\">\n",
        "<div style=\"border: solid 2px #666; width: 143px; height: 144px;\">\n",
        "<canvas width=\"140\" height=\"140\"></canvas>\n",
        "</div></td>\n",
        "<td style=\"border-style: none;\">\n",
        "<button onclick=\"clear_value()\">Clear</button>\n",
        "</td>\n",
        "</table>\n",
        "\"\"\"\n",
        "\n",
        "javascript = \"\"\"\n",
        "<script type=\"text/Javascript\">\n",
        "    var pixels = [];\n",
        "    for (var i = 0; i < 28*28; i++) pixels[i] = 0;\n",
        "    var click = 0;\n",
        "\n",
        "    var canvas = document.querySelector(\"canvas\");\n",
        "    canvas.addEventListener(\"mousemove\", function(e) {\n",
        "        if (e.buttons == 1) {\n",
        "            click = 1;\n",
        "            canvas.getContext(\"2d\").fillStyle = \"rgb(0, 0, 0)\";\n",
        "            canvas.getContext(\"2d\").fillRect(e.offsetX, e.offsetY, 8, 8);\n",
        "            x = Math.floor(e.offsetY*0.2);\n",
        "            y = Math.floor(e.offsetX*0.2) + 1;\n",
        "            for (var dy = 0; dy < 2; dy++) {\n",
        "                for (var dx = 0; dx < 2; dx++) {\n",
        "                    if ((x + dx < 28) && (y + dy < 28)) {\n",
        "                        pixels[(y+dy)+(x+dx)*28] = 1;\n",
        "                    }\n",
        "                }\n",
        "            }\n",
        "        } else {\n",
        "            if (click == 1) set_value()\n",
        "            click = 0;\n",
        "        }\n",
        "    });\n",
        "    \n",
        "    function set_value() {\n",
        "        var result = \"\";\n",
        "        for (var i = 0; i < 28*28; i++) result += pixels[i] + \",\";\n",
        "        google.colab.kernel.invokeFunction(\n",
        "                          'notebook.set_image', [result], {});\n",
        "    }\n",
        "    \n",
        "    function clear_value() {\n",
        "        canvas.getContext(\"2d\").fillStyle = \"rgb(255, 255, 255)\";\n",
        "        canvas.getContext(\"2d\").fillRect(0, 0, 140, 140);\n",
        "        for (var i = 0; i < 28*28; i++) pixels[i] = 0;\n",
        "    }\n",
        "</script>\n",
        "\"\"\""
      ],
      "execution_count": 0,
      "outputs": []
    },
    {
      "cell_type": "markdown",
      "metadata": {
        "id": "IY6_TVtx3cFw",
        "colab_type": "text"
      },
      "source": [
        "####[HDR-07]\n",
        "Show a drawing canvas."
      ]
    },
    {
      "cell_type": "code",
      "metadata": {
        "id": "aTtpz_KFq3RU",
        "colab_type": "code",
        "outputId": "c0164a47-b9de-4f38-d43b-7edbb036e3be",
        "colab": {
          "base_uri": "https://localhost:8080/",
          "height": 171
        }
      },
      "source": [
        "from google.colab import output  \n",
        "from IPython.display import HTML\n",
        "\n",
        "def set_image(result):\n",
        "    global image\n",
        "    image = np.array([float(x) for x in result.split(',')[:-1]])\n",
        "\n",
        "image = None\n",
        "output.register_callback('notebook.set_image', set_image)\n",
        "\n",
        "HTML(input_form + javascript)"
      ],
      "execution_count": 8,
      "outputs": [
        {
          "output_type": "execute_result",
          "data": {
            "text/html": [
              "\n",
              "<table>\n",
              "<td style=\"border-style: none;\">\n",
              "<div style=\"border: solid 2px #666; width: 143px; height: 144px;\">\n",
              "<canvas width=\"140\" height=\"140\"></canvas>\n",
              "</div></td>\n",
              "<td style=\"border-style: none;\">\n",
              "<button onclick=\"clear_value()\">Clear</button>\n",
              "</td>\n",
              "</table>\n",
              "\n",
              "<script type=\"text/Javascript\">\n",
              "    var pixels = [];\n",
              "    for (var i = 0; i < 28*28; i++) pixels[i] = 0;\n",
              "    var click = 0;\n",
              "\n",
              "    var canvas = document.querySelector(\"canvas\");\n",
              "    canvas.addEventListener(\"mousemove\", function(e) {\n",
              "        if (e.buttons == 1) {\n",
              "            click = 1;\n",
              "            canvas.getContext(\"2d\").fillStyle = \"rgb(0, 0, 0)\";\n",
              "            canvas.getContext(\"2d\").fillRect(e.offsetX, e.offsetY, 8, 8);\n",
              "            x = Math.floor(e.offsetY*0.2);\n",
              "            y = Math.floor(e.offsetX*0.2) + 1;\n",
              "            for (var dy = 0; dy < 2; dy++) {\n",
              "                for (var dx = 0; dx < 2; dx++) {\n",
              "                    if ((x + dx < 28) && (y + dy < 28)) {\n",
              "                        pixels[(y+dy)+(x+dx)*28] = 1;\n",
              "                    }\n",
              "                }\n",
              "            }\n",
              "        } else {\n",
              "            if (click == 1) set_value()\n",
              "            click = 0;\n",
              "        }\n",
              "    });\n",
              "    \n",
              "    function set_value() {\n",
              "        var result = \"\";\n",
              "        for (var i = 0; i < 28*28; i++) result += pixels[i] + \",\";\n",
              "        google.colab.kernel.invokeFunction(\n",
              "                          'notebook.set_image', [result], {});\n",
              "    }\n",
              "    \n",
              "    function clear_value() {\n",
              "        canvas.getContext(\"2d\").fillStyle = \"rgb(255, 255, 255)\";\n",
              "        canvas.getContext(\"2d\").fillRect(0, 0, 140, 140);\n",
              "        for (var i = 0; i < 28*28; i++) pixels[i] = 0;\n",
              "    }\n",
              "</script>\n"
            ],
            "text/plain": [
              "<IPython.core.display.HTML object>"
            ]
          },
          "metadata": {
            "tags": []
          },
          "execution_count": 8
        }
      ]
    },
    {
      "cell_type": "markdown",
      "metadata": {
        "id": "48D4ZoyT3mKI",
        "colab_type": "text"
      },
      "source": [
        "####[HDR-08]\n",
        "Make a prediction for the handwritten digit on the drawing canvas."
      ]
    },
    {
      "cell_type": "code",
      "metadata": {
        "id": "04AiP_WQq6qp",
        "colab_type": "code",
        "outputId": "499ea13a-4964-415f-e923-4b8f27598430",
        "colab": {
          "base_uri": "https://localhost:8080/",
          "height": 232
        }
      },
      "source": [
        "p_val = model.predict(image.reshape(1, 28*28))\n",
        "\n",
        "fig = plt.figure(figsize=(6, 3))\n",
        "pred = p_val[0]\n",
        "subplot = fig.add_subplot(1, 1, 1)\n",
        "subplot.set_xticks(range(10))\n",
        "subplot.set_xlim(-0.5, 9.5)\n",
        "subplot.set_ylim(0, 1)\n",
        "subplot.bar(range(10), pred, align='center')"
      ],
      "execution_count": 11,
      "outputs": [
        {
          "output_type": "execute_result",
          "data": {
            "text/plain": [
              "<BarContainer object of 10 artists>"
            ]
          },
          "metadata": {
            "tags": []
          },
          "execution_count": 11
        },
        {
          "output_type": "display_data",
          "data": {
            "image/png": "[encoded data removed]",
            "text/plain": [
              "<Figure size 432x216 with 1 Axes>"
            ]
          },
          "metadata": {
            "tags": []
          }
        }
      ]
    },
    {
      "cell_type": "markdown",
      "metadata": {
        "id": "p8zYpQqy3wbB",
        "colab_type": "text"
      },
      "source": [
        "####[HDR-09]\n",
        "Get output images from the convolutional filters."
      ]
    },
    {
      "cell_type": "code",
      "metadata": {
        "id": "oD-7fgQjibJb",
        "colab_type": "code",
        "colab": {}
      },
      "source": [
        "pool1_output, pool2_output = model2.predict(image.reshape(1, 28*28))"
      ],
      "execution_count": 0,
      "outputs": []
    },
    {
      "cell_type": "markdown",
      "metadata": {
        "id": "A1p-IgWo35LX",
        "colab_type": "text"
      },
      "source": [
        "####[HDR-10]\n",
        "Show output images from the first pooling layer."
      ]
    },
    {
      "cell_type": "code",
      "metadata": {
        "id": "pyCLzBUhroFE",
        "colab_type": "code",
        "outputId": "9b18c525-2481-4f65-813b-6fd6daaf3856",
        "colab": {
          "base_uri": "https://localhost:8080/",
          "height": 165
        }
      },
      "source": [
        "layer = pool1_output\n",
        "fig = plt.figure(figsize=(20, 10))\n",
        "for i in range(layer.shape[-1]):\n",
        "    subplot = fig.add_subplot(8, 16, i+1)\n",
        "    subplot.set_xticks([])\n",
        "    subplot.set_yticks([])\n",
        "    subplot.imshow(layer[0, :, :, i], cmap=plt.cm.gray_r)"
      ],
      "execution_count": 13,
      "outputs": [
        {
          "output_type": "display_data",
          "data": {
            "image/png": "[encoded data removed]",
            "text/plain": [
              "<Figure size 1440x720 with 32 Axes>"
            ]
          },
          "metadata": {
            "tags": []
          }
        }
      ]
    },
    {
      "cell_type": "markdown",
      "metadata": {
        "id": "BrQV55az4HKz",
        "colab_type": "text"
      },
      "source": [
        "####[HDR-11]\n",
        "Show output images from the second pooling layer."
      ]
    },
    {
      "cell_type": "code",
      "metadata": {
        "id": "Ix937xqIiJCi",
        "colab_type": "code",
        "outputId": "2e2061c7-5b04-4a03-e698-026145a2fde2",
        "colab": {
          "base_uri": "https://localhost:8080/",
          "height": 304
        }
      },
      "source": [
        "layer = pool2_output\n",
        "fig = plt.figure(figsize=(20, 10))\n",
        "for i in range(layer.shape[-1]):\n",
        "    subplot = fig.add_subplot(8, 16, i+1)\n",
        "    subplot.set_xticks([])\n",
        "    subplot.set_yticks([])\n",
        "    subplot.imshow(layer[0, :, :, i], cmap=plt.cm.gray_r)"
      ],
      "execution_count": 14,
      "outputs": [
        {
          "output_type": "display_data",
          "data": {
            "image/png": "[encoded data removed]",
            "text/plain": [
              "<Figure size 1440x720 with 64 Axes>"
            ]
          },
          "metadata": {
            "tags": []
          }
        }
      ]
    }
  ]
}