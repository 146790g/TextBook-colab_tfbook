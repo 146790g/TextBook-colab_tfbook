{
  "nbformat": 4,
  "nbformat_minor": 0,
  "metadata": {
    "colab": {
      "name": "4. CNN interpretation - sensitive area detection.ipynb",
      "version": "0.3.2",
      "provenance": [],
      "collapsed_sections": []
    },
    "kernelspec": {
      "name": "python3",
      "display_name": "Python 3"
    },
    "accelerator": "GPU"
  },
  "cells": [
    {
      "cell_type": "markdown",
      "metadata": {
        "id": "HzrB3ovU4edU",
        "colab_type": "text"
      },
      "source": [
        "# CNN Interpretation - Sensitive Area Detection"
      ]
    },
    {
      "cell_type": "markdown",
      "metadata": {
        "id": "ScVWtn2Y4oOW",
        "colab_type": "text"
      },
      "source": [
        "Note: This notebook is desinged to run with Python3 and GPU runtime.\n",
        "\n",
        "![Python 3 and CPU runtime](https://raw.githubusercontent.com/enakai00/colab_tfbook/master/docs/imgs/runtime_gpu.png)"
      ]
    },
    {
      "cell_type": "code",
      "metadata": {
        "id": "c3e_Lao-u9ym",
        "colab_type": "code",
        "colab": {
          "base_uri": "https://localhost:8080/",
          "height": 34
        },
        "outputId": "497c4f52-03c9-4873-f6d6-db268cafa021"
      },
      "source": [
        "%%bash\n",
        "tf_version='2.0.0rc0'\n",
        "if pip freeze | grep -q \"^tensorflow==${tf_version}$\"; then\n",
        "    echo \"tensorflow==${tf_version} is already installed. No actions are required.\"\n",
        "else\n",
        "    echo \"Installing tensorflow==${tf_version}. Don't forget to restart the runtime.\"\n",
        "    pip install tensorflow==${tf_version}\n",
        "fi"
      ],
      "execution_count": 1,
      "outputs": [
        {
          "output_type": "stream",
          "text": [
            "tensorflow==2.0.0rc0 is already installed. No actions are required.\n"
          ],
          "name": "stdout"
        }
      ]
    },
    {
      "cell_type": "markdown",
      "metadata": {
        "id": "VJO3PPzqsq8d",
        "colab_type": "text"
      },
      "source": [
        "####[CIS-01]\n",
        "Import modules and set a random seed."
      ]
    },
    {
      "cell_type": "code",
      "metadata": {
        "id": "gB5UUoAXIVmC",
        "colab_type": "code",
        "colab": {}
      },
      "source": [
        "import numpy as np\n",
        "import matplotlib.pyplot as plt\n",
        "import cv2\n",
        "\n",
        "import tensorflow as tf\n",
        "from tensorflow.keras import backend as K\n",
        "from tensorflow.keras import layers, models, preprocessing\n",
        "from tensorflow.keras.datasets import mnist\n",
        "from tensorflow.python.framework.ops import disable_eager_execution\n",
        "disable_eager_execution()"
      ],
      "execution_count": 0,
      "outputs": []
    },
    {
      "cell_type": "markdown",
      "metadata": {
        "id": "qc7x8qhj5kgX",
        "colab_type": "text"
      },
      "source": [
        "####[CIS-02]\n",
        "Define a function to detect the sensitive areas in the second filters against the input image, and generate a heatmap."
      ]
    },
    {
      "cell_type": "code",
      "metadata": {
        "id": "Hxg5F25PI_oP",
        "colab_type": "code",
        "colab": {}
      },
      "source": [
        "def get_heatmap(model, last_conv_layer, target_image):\n",
        "    target_image = target_image.reshape(1, 28*28)\n",
        "    pred_output = model.output[:, np.argmax(model.predict(target_image))]\n",
        "    grads = K.gradients(pred_output, last_conv_layer.output)[0]\n",
        "    pooled_grads = K.mean(grads, axis=(0, 1, 2))\n",
        "    get_vals = K.function([model.input],\n",
        "                          [pooled_grads, last_conv_layer.output[0]])\n",
        "    pooled_grads_val, conv_layer_output_val = get_vals([target_image])\n",
        "\n",
        "    heatmap = np.zeros([14, 14])\n",
        "    for i in range(last_conv_layer.output.shape[-1]):\n",
        "        if pooled_grads_val[i] > 0:\n",
        "            heatmap += conv_layer_output_val[:, :, i] * pooled_grads_val[i]\n",
        "    heatmap /= np.max(heatmap)\n",
        "\n",
        "    heatmap2 = np.uint8(255 * cv2.resize(heatmap, (28, 28)))\n",
        "    heatmap2 = cv2.applyColorMap(heatmap2, cv2.COLORMAP_JET)\n",
        "    target_image2 = np.uint8(255 * target_image.reshape(28, 28))\n",
        "    target_image2 = cv2.applyColorMap(target_image2, cv2.COLORMAP_BONE)\n",
        "    superimposed_img = heatmap2 + target_image2 * 0.6\n",
        "    cv2.imwrite('/tmp/result.jpg', superimposed_img)\n",
        "\n",
        "    return heatmap, preprocessing.image.load_img('/tmp/result.jpg')"
      ],
      "execution_count": 0,
      "outputs": []
    },
    {
      "cell_type": "markdown",
      "metadata": {
        "id": "_jAOBme_IGe3",
        "colab_type": "text"
      },
      "source": [
        "####[CIS-03]\n",
        "Download the MNIST dataset and store into NumPy arrays."
      ]
    },
    {
      "cell_type": "code",
      "metadata": {
        "id": "pfRBeN4FIDWv",
        "colab_type": "code",
        "colab": {}
      },
      "source": [
        "(train_images, train_labels), (test_images, test_labels) = mnist.load_data()\n",
        "train_images = train_images.reshape(\n",
        "                  (len(train_images), 784)).astype('float32') / 255\n",
        "test_images = test_images.reshape(\n",
        "                  (len(test_images), 784)).astype('float32') / 255\n",
        "train_labels = tf.keras.utils.to_categorical(train_labels, 10)\n",
        "test_labels = tf.keras.utils.to_categorical(test_labels, 10)"
      ],
      "execution_count": 0,
      "outputs": []
    },
    {
      "cell_type": "markdown",
      "metadata": {
        "id": "bCGRoxeyHrbD",
        "colab_type": "text"
      },
      "source": [
        "####[CIS-04]\n",
        "Mount your Google Drive on `/content/gdrive`."
      ]
    },
    {
      "cell_type": "code",
      "metadata": {
        "id": "tpL_niBTXggS",
        "colab_type": "code",
        "outputId": "956e4685-4fda-4cec-c9dd-1b4f628940cd",
        "colab": {
          "base_uri": "https://localhost:8080/",
          "height": 34
        }
      },
      "source": [
        "from google.colab import drive\n",
        "drive.mount('/content/gdrive')"
      ],
      "execution_count": 5,
      "outputs": [
        {
          "output_type": "stream",
          "text": [
            "Drive already mounted at /content/gdrive; to attempt to forcibly remount, call drive.mount(\"/content/gdrive\", force_remount=True).\n"
          ],
          "name": "stdout"
        }
      ]
    },
    {
      "cell_type": "markdown",
      "metadata": {
        "id": "s0Qd3G-645kT",
        "colab_type": "text"
      },
      "source": [
        "####[CIS-05]\n",
        "Confirm that the exported model file `MNIST_double.hd5` is on your Google Drive."
      ]
    },
    {
      "cell_type": "code",
      "metadata": {
        "id": "zq-uJjvNgO6A",
        "colab_type": "code",
        "outputId": "dd87b959-122b-4403-bf84-ad9223f07684",
        "colab": {
          "base_uri": "https://localhost:8080/",
          "height": 34
        }
      },
      "source": [
        "!ls -lh '/content/gdrive/My Drive/MNIST_double.hd5'"
      ],
      "execution_count": 6,
      "outputs": [
        {
          "output_type": "stream",
          "text": [
            "-rw------- 1 root root 38M Aug 26 11:32 '/content/gdrive/My Drive/MNIST_double.hd5'\n"
          ],
          "name": "stdout"
        }
      ]
    },
    {
      "cell_type": "markdown",
      "metadata": {
        "id": "fBltXsSRvZn0",
        "colab_type": "text"
      },
      "source": [
        "####[CIS-06]\n",
        "Restore the model from the exported model file."
      ]
    },
    {
      "cell_type": "code",
      "metadata": {
        "id": "BakcuKxdQoSL",
        "colab_type": "code",
        "outputId": "a0f43333-071a-4aa0-9706-6ad9296cdf73",
        "colab": {
          "base_uri": "https://localhost:8080/",
          "height": 547
        }
      },
      "source": [
        "model = models.load_model('/content/gdrive/My Drive/MNIST_double.hd5')\n",
        "model.summary()"
      ],
      "execution_count": 7,
      "outputs": [
        {
          "output_type": "stream",
          "text": [
            "WARNING: Logging before flag parsing goes to stderr.\n",
            "W0826 11:45:45.774194 140645899986816 deprecation.py:506] From /usr/local/lib/python3.6/dist-packages/tensorflow_core/python/ops/resource_variable_ops.py:1630: calling BaseResourceVariable.__init__ (from tensorflow.python.ops.resource_variable_ops) with constraint is deprecated and will be removed in a future version.\n",
            "Instructions for updating:\n",
            "If using Keras pass *_constraint arguments to layers.\n"
          ],
          "name": "stderr"
        },
        {
          "output_type": "stream",
          "text": [
            "Model: \"sequential\"\n",
            "_________________________________________________________________\n",
            "Layer (type)                 Output Shape              Param #   \n",
            "=================================================================\n",
            "reshape (Reshape)            (None, 28, 28, 1)         0         \n",
            "_________________________________________________________________\n",
            "conv_filter1 (Conv2D)        (None, 28, 28, 32)        832       \n",
            "_________________________________________________________________\n",
            "max_pooling1 (MaxPooling2D)  (None, 14, 14, 32)        0         \n",
            "_________________________________________________________________\n",
            "conv_filter2 (Conv2D)        (None, 14, 14, 64)        51264     \n",
            "_________________________________________________________________\n",
            "max_pooling2 (MaxPooling2D)  (None, 7, 7, 64)          0         \n",
            "_________________________________________________________________\n",
            "flatten (Flatten)            (None, 3136)              0         \n",
            "_________________________________________________________________\n",
            "hidden (Dense)               (None, 1024)              3212288   \n",
            "_________________________________________________________________\n",
            "dropout (Dropout)            (None, 1024)              0         \n",
            "_________________________________________________________________\n",
            "softmax (Dense)              (None, 10)                10250     \n",
            "=================================================================\n",
            "Total params: 3,274,634\n",
            "Trainable params: 3,274,634\n",
            "Non-trainable params: 0\n",
            "_________________________________________________________________\n"
          ],
          "name": "stdout"
        }
      ]
    },
    {
      "cell_type": "markdown",
      "metadata": {
        "id": "iU0LcSLD6mzw",
        "colab_type": "text"
      },
      "source": [
        "####[CIS-07]\n",
        "Show heatmaps for sample images."
      ]
    },
    {
      "cell_type": "code",
      "metadata": {
        "id": "vIjJule36bmH",
        "colab_type": "code",
        "outputId": "e763f3d7-3063-4379-de16-c6f8ff9e24d1",
        "colab": {
          "base_uri": "https://localhost:8080/",
          "height": 462
        }
      },
      "source": [
        "fig = plt.figure(figsize=(8, 8))\n",
        "last_conv_layer = model.get_layer('conv_filter2')  \n",
        "i = 1\n",
        "for img in test_images[[3, 5, 1, 32, 4, 15, 21, 0, 84, 12]]:\n",
        "    heatmap, superimposed = get_heatmap(model, last_conv_layer, img)\n",
        "\n",
        "    subplot = fig.add_subplot(5, 6, i)\n",
        "    subplot.set_xticks([])\n",
        "    subplot.set_yticks([])\n",
        "    subplot.imshow(img.reshape(28, 28), vmin=0, vmax=1, cmap=plt.cm.gray_r)\n",
        "\n",
        "    subplot = fig.add_subplot(5, 6, i+1)\n",
        "    subplot.set_xticks([])\n",
        "    subplot.set_yticks([])\n",
        "    subplot.imshow(heatmap, vmin=0, vmax=1, cmap=plt.cm.gray_r)\n",
        "\n",
        "    subplot = fig.add_subplot(5, 6, i+2)\n",
        "    subplot.set_xticks([])\n",
        "    subplot.set_yticks([])\n",
        "    subplot.imshow(superimposed)\n",
        "  \n",
        "    i += 3"
      ],
      "execution_count": 8,
      "outputs": [
        {
          "output_type": "display_data",
          "data": {
            "image/png": "[encoded data removed]",
            "text/plain": [
              "<Figure size 576x576 with 30 Axes>"
            ]
          },
          "metadata": {
            "tags": []
          }
        }
      ]
    }
  ]
}