{
  "nbformat": 4,
  "nbformat_minor": 0,
  "metadata": {
    "colab": {
      "name": "7. MNIST DCGAN example.ipynb",
      "version": "0.3.2",
      "provenance": [],
      "collapsed_sections": []
    },
    "kernelspec": {
      "name": "python3",
      "display_name": "Python 3"
    },
    "accelerator": "GPU"
  },
  "cells": [
    {
      "cell_type": "markdown",
      "metadata": {
        "id": "m_3F2cWjR5oY",
        "colab_type": "text"
      },
      "source": [
        "# MNIST DCGAN Example"
      ]
    },
    {
      "cell_type": "markdown",
      "metadata": {
        "id": "dA2m6DVoIMPP",
        "colab_type": "text"
      },
      "source": [
        "Note: This notebook is desinged to run with Python3 and GPU runtime.\n",
        "\n",
        "![Python 3 and CPU runtime](https://raw.githubusercontent.com/enakai00/colab_tfbook/master/docs/imgs/runtime_gpu.png)"
      ]
    },
    {
      "cell_type": "markdown",
      "metadata": {
        "id": "HqKgjio7IQCa",
        "colab_type": "text"
      },
      "source": [
        "####[MDE-01]\n",
        "Import modules and set a random seed."
      ]
    },
    {
      "cell_type": "code",
      "metadata": {
        "id": "8uoZRr9eOmwG",
        "colab_type": "code",
        "outputId": "7197582e-0260-4e8e-a45e-bd722d8cdc7f",
        "colab": {
          "base_uri": "https://localhost:8080/",
          "height": 34
        }
      },
      "source": [
        "import numpy as np\n",
        "import matplotlib.pyplot as plt\n",
        "\n",
        "import tensorflow as tf\n",
        "import keras\n",
        "from keras import layers, models, initializers\n",
        "from keras.datasets import mnist\n",
        "\n",
        "np.random.seed(20190615)\n",
        "tf.set_random_seed(20190615)"
      ],
      "execution_count": 1,
      "outputs": [
        {
          "output_type": "stream",
          "text": [
            "Using TensorFlow backend.\n"
          ],
          "name": "stderr"
        }
      ]
    },
    {
      "cell_type": "markdown",
      "metadata": {
        "id": "8NxTNnogIUeV",
        "colab_type": "text"
      },
      "source": [
        "####[MDE-02]\n",
        "Download the MNIST dataset and store into NumPy arrays."
      ]
    },
    {
      "cell_type": "code",
      "metadata": {
        "id": "0ByKCdhESGpP",
        "colab_type": "code",
        "colab": {}
      },
      "source": [
        "(train_images, train_labels), (test_images, test_labels) = mnist.load_data()\n",
        "train_images = train_images.reshape(\n",
        "                  (len(train_images), 784)).astype('float32') / 255\n",
        "test_images = test_images.reshape(\n",
        "                  (len(test_images), 784)).astype('float32') / 255\n",
        "train_labels = keras.utils.to_categorical(train_labels, 10)\n",
        "test_labels = keras.utils.to_categorical(test_labels, 10)"
      ],
      "execution_count": 0,
      "outputs": []
    },
    {
      "cell_type": "markdown",
      "metadata": {
        "id": "LyJSyjr9JA_G",
        "colab_type": "text"
      },
      "source": [
        "####[MDE-03]\n",
        "Defina a generator model."
      ]
    },
    {
      "cell_type": "code",
      "metadata": {
        "id": "qKvSYzl9SSkf",
        "colab_type": "code",
        "outputId": "d771fb06-67df-4a1e-995f-ea4814852a18",
        "colab": {
          "base_uri": "https://localhost:8080/",
          "height": 513
        }
      },
      "source": [
        "latent_dim = 64\n",
        "\n",
        "generator = models.Sequential()\n",
        "generator.add(\n",
        "  layers.Dense(7*7*128, kernel_initializer=initializers.TruncatedNormal(),\n",
        "               input_shape=(latent_dim,), name='expand'))\n",
        "generator.add(layers.LeakyReLU(name='leaky_relu1'))\n",
        "generator.add(layers.Reshape((7, 7, 128), name='reshape'))\n",
        "generator.add(\n",
        "  layers.Conv2DTranspose(64, 5, strides=2, padding='same',\n",
        "                         kernel_initializer=initializers.TruncatedNormal(),\n",
        "                         name='deconv1'))\n",
        "generator.add(layers.LeakyReLU(name='leaky_relu2'))\n",
        "generator.add(\n",
        "  layers.Conv2DTranspose(1, 5, strides=2, padding='same',\n",
        "                         kernel_initializer=initializers.TruncatedNormal(),\n",
        "                         activation='sigmoid', name='deconv2'))\n",
        "generator.add(layers.Flatten(name='flatten'))\n",
        "generator.summary()"
      ],
      "execution_count": 3,
      "outputs": [
        {
          "output_type": "stream",
          "text": [
            "WARNING: Logging before flag parsing goes to stderr.\n",
            "W0617 13:27:36.423468 139744256374656 deprecation_wrapper.py:119] From /usr/local/lib/python3.6/dist-packages/keras/backend/tensorflow_backend.py:74: The name tf.get_default_graph is deprecated. Please use tf.compat.v1.get_default_graph instead.\n",
            "\n",
            "W0617 13:27:36.426343 139744256374656 deprecation_wrapper.py:119] From /usr/local/lib/python3.6/dist-packages/keras/backend/tensorflow_backend.py:517: The name tf.placeholder is deprecated. Please use tf.compat.v1.placeholder instead.\n",
            "\n",
            "W0617 13:27:36.429745 139744256374656 deprecation_wrapper.py:119] From /usr/local/lib/python3.6/dist-packages/keras/backend/tensorflow_backend.py:4185: The name tf.truncated_normal is deprecated. Please use tf.random.truncated_normal instead.\n",
            "\n"
          ],
          "name": "stderr"
        },
        {
          "output_type": "stream",
          "text": [
            "_________________________________________________________________\n",
            "Layer (type)                 Output Shape              Param #   \n",
            "=================================================================\n",
            "expand (Dense)               (None, 6272)              407680    \n",
            "_________________________________________________________________\n",
            "leaky_relu1 (LeakyReLU)      (None, 6272)              0         \n",
            "_________________________________________________________________\n",
            "reshape (Reshape)            (None, 7, 7, 128)         0         \n",
            "_________________________________________________________________\n",
            "deconv1 (Conv2DTranspose)    (None, 14, 14, 64)        204864    \n",
            "_________________________________________________________________\n",
            "leaky_relu2 (LeakyReLU)      (None, 14, 14, 64)        0         \n",
            "_________________________________________________________________\n",
            "deconv2 (Conv2DTranspose)    (None, 28, 28, 1)         1601      \n",
            "_________________________________________________________________\n",
            "flatten (Flatten)            (None, 784)               0         \n",
            "=================================================================\n",
            "Total params: 614,145\n",
            "Trainable params: 614,145\n",
            "Non-trainable params: 0\n",
            "_________________________________________________________________\n"
          ],
          "name": "stdout"
        }
      ]
    },
    {
      "cell_type": "markdown",
      "metadata": {
        "id": "-3DbHA-0Jb5z",
        "colab_type": "text"
      },
      "source": [
        "####[MDE-04]\n",
        "Defina a discriminator model."
      ]
    },
    {
      "cell_type": "code",
      "metadata": {
        "id": "iyOLjN7kX1Px",
        "colab_type": "code",
        "outputId": "9e16f632-a730-4210-928f-2aa6c3ec2e42",
        "colab": {
          "base_uri": "https://localhost:8080/",
          "height": 547
        }
      },
      "source": [
        "discriminator = models.Sequential()\n",
        "discriminator.add(layers.Reshape((28, 28, 1), input_shape=((28*28,)),\n",
        "                                 name='reshape'))\n",
        "discriminator.add(\n",
        "  layers.Conv2D(64, (5, 5), strides=2, padding='same',\n",
        "                kernel_initializer=initializers.TruncatedNormal(),\n",
        "                name='conv1'))\n",
        "discriminator.add(layers.LeakyReLU(name='leaky_relu1'))\n",
        "discriminator.add(\n",
        "  layers.Conv2D(128, (5, 5), strides=2, padding='same',\n",
        "                kernel_initializer=initializers.TruncatedNormal(),\n",
        "                name='conv2'))\n",
        "discriminator.add(layers.LeakyReLU(name='leaky_relu2'))\n",
        "discriminator.add(layers.Flatten(name='flatten'))\n",
        "discriminator.add(layers.Dropout(rate=0.4, name='dropout'))\n",
        "discriminator.add(layers.Dense(1, activation='sigmoid', name='sigmoid'))\n",
        "\n",
        "discriminator.summary()"
      ],
      "execution_count": 4,
      "outputs": [
        {
          "output_type": "stream",
          "text": [
            "W0617 13:27:36.559780 139744256374656 deprecation_wrapper.py:119] From /usr/local/lib/python3.6/dist-packages/keras/backend/tensorflow_backend.py:133: The name tf.placeholder_with_default is deprecated. Please use tf.compat.v1.placeholder_with_default instead.\n",
            "\n",
            "W0617 13:27:36.568233 139744256374656 deprecation.py:506] From /usr/local/lib/python3.6/dist-packages/keras/backend/tensorflow_backend.py:3445: calling dropout (from tensorflow.python.ops.nn_ops) with keep_prob is deprecated and will be removed in a future version.\n",
            "Instructions for updating:\n",
            "Please use `rate` instead of `keep_prob`. Rate should be set to `rate = 1 - keep_prob`.\n",
            "W0617 13:27:36.583206 139744256374656 deprecation_wrapper.py:119] From /usr/local/lib/python3.6/dist-packages/keras/backend/tensorflow_backend.py:4138: The name tf.random_uniform is deprecated. Please use tf.random.uniform instead.\n",
            "\n"
          ],
          "name": "stderr"
        },
        {
          "output_type": "stream",
          "text": [
            "_________________________________________________________________\n",
            "Layer (type)                 Output Shape              Param #   \n",
            "=================================================================\n",
            "reshape (Reshape)            (None, 28, 28, 1)         0         \n",
            "_________________________________________________________________\n",
            "conv1 (Conv2D)               (None, 14, 14, 64)        1664      \n",
            "_________________________________________________________________\n",
            "leaky_relu1 (LeakyReLU)      (None, 14, 14, 64)        0         \n",
            "_________________________________________________________________\n",
            "conv2 (Conv2D)               (None, 7, 7, 128)         204928    \n",
            "_________________________________________________________________\n",
            "leaky_relu2 (LeakyReLU)      (None, 7, 7, 128)         0         \n",
            "_________________________________________________________________\n",
            "flatten (Flatten)            (None, 6272)              0         \n",
            "_________________________________________________________________\n",
            "dropout (Dropout)            (None, 6272)              0         \n",
            "_________________________________________________________________\n",
            "sigmoid (Dense)              (None, 1)                 6273      \n",
            "=================================================================\n",
            "Total params: 212,865\n",
            "Trainable params: 212,865\n",
            "Non-trainable params: 0\n",
            "_________________________________________________________________\n"
          ],
          "name": "stdout"
        }
      ]
    },
    {
      "cell_type": "markdown",
      "metadata": {
        "id": "9zzzeCD2J-9q",
        "colab_type": "text"
      },
      "source": [
        "####[MDE-05]\n",
        "Compile the discriminator using the Adam optimizer, and Cross entroy as a loss function."
      ]
    },
    {
      "cell_type": "code",
      "metadata": {
        "id": "XEwdyyX5SeHg",
        "colab_type": "code",
        "outputId": "3a2ca85f-16ad-49c0-f2ed-0cc626fd638e",
        "colab": {
          "base_uri": "https://localhost:8080/",
          "height": 122
        }
      },
      "source": [
        "discriminator.compile(optimizer='adam', loss='binary_crossentropy')"
      ],
      "execution_count": 5,
      "outputs": [
        {
          "output_type": "stream",
          "text": [
            "W0617 13:27:36.606012 139744256374656 deprecation_wrapper.py:119] From /usr/local/lib/python3.6/dist-packages/keras/optimizers.py:790: The name tf.train.Optimizer is deprecated. Please use tf.compat.v1.train.Optimizer instead.\n",
            "\n",
            "W0617 13:27:36.634743 139744256374656 deprecation.py:323] From /usr/local/lib/python3.6/dist-packages/tensorflow/python/ops/nn_impl.py:180: add_dispatch_support.<locals>.wrapper (from tensorflow.python.ops.array_ops) is deprecated and will be removed in a future version.\n",
            "Instructions for updating:\n",
            "Use tf.where in 2.0, which has the same broadcast rule as np.where\n"
          ],
          "name": "stderr"
        }
      ]
    },
    {
      "cell_type": "markdown",
      "metadata": {
        "id": "is6hVDllKRAi",
        "colab_type": "text"
      },
      "source": [
        "####[MDE-06]\n",
        "Define an end-to-end GAN model to train the generator."
      ]
    },
    {
      "cell_type": "code",
      "metadata": {
        "id": "VqLQnc3Gd_rR",
        "colab_type": "code",
        "outputId": "fc9bb3f2-e97c-4858-f4f8-6c1117e8770d",
        "colab": {
          "base_uri": "https://localhost:8080/",
          "height": 238
        }
      },
      "source": [
        "discriminator.trainable = False\n",
        "gan_input = keras.Input(shape=(latent_dim,))\n",
        "gan_output = discriminator(generator(gan_input))\n",
        "gan_model = models.Model(gan_input, gan_output)\n",
        "\n",
        "gan_model.summary()"
      ],
      "execution_count": 6,
      "outputs": [
        {
          "output_type": "stream",
          "text": [
            "_________________________________________________________________\n",
            "Layer (type)                 Output Shape              Param #   \n",
            "=================================================================\n",
            "input_1 (InputLayer)         (None, 64)                0         \n",
            "_________________________________________________________________\n",
            "sequential_1 (Sequential)    (None, 784)               614145    \n",
            "_________________________________________________________________\n",
            "sequential_2 (Sequential)    (None, 1)                 212865    \n",
            "=================================================================\n",
            "Total params: 827,010\n",
            "Trainable params: 614,145\n",
            "Non-trainable params: 212,865\n",
            "_________________________________________________________________\n"
          ],
          "name": "stdout"
        }
      ]
    },
    {
      "cell_type": "markdown",
      "metadata": {
        "id": "PVMUs1WtKrQu",
        "colab_type": "text"
      },
      "source": [
        "####[MDE-07]\n",
        "Compile the GAN model using the Adam optimizer, and Cross entroy as a loss function."
      ]
    },
    {
      "cell_type": "code",
      "metadata": {
        "id": "2A4dwLwTeywN",
        "colab_type": "code",
        "colab": {}
      },
      "source": [
        "gan_model.compile(optimizer='adam', loss='binary_crossentropy')"
      ],
      "execution_count": 0,
      "outputs": []
    },
    {
      "cell_type": "markdown",
      "metadata": {
        "id": "5FocFzOJK8ac",
        "colab_type": "text"
      },
      "source": [
        "####[MDE-08]\n",
        "Define some working variables to trace the training process."
      ]
    },
    {
      "cell_type": "code",
      "metadata": {
        "id": "bK7cwT-umD1r",
        "colab_type": "code",
        "colab": {}
      },
      "source": [
        "batch_size = 32\n",
        "image_num = 0\n",
        "step = 0\n",
        "examples = []\n",
        "sample_inputs = np.random.rand(8, latent_dim) * 2.0 - 1.0\n",
        "examples.append(generator.predict(sample_inputs))"
      ],
      "execution_count": 0,
      "outputs": []
    },
    {
      "cell_type": "markdown",
      "metadata": {
        "id": "zCGbB86tLNfK",
        "colab_type": "text"
      },
      "source": [
        "####[MDE-09]\n",
        "Train the model for 80,000 batches."
      ]
    },
    {
      "cell_type": "code",
      "metadata": {
        "id": "33eI8EHqTHgo",
        "colab_type": "code",
        "outputId": "bd10468e-cef8-4474-f62d-119a952b933b",
        "colab": {
          "base_uri": "https://localhost:8080/",
          "height": 275
        }
      },
      "source": [
        "for _ in range(80000):\n",
        "  random_inputs = np.random.rand(batch_size, latent_dim) * 2.0 - 1.0\n",
        "  generated_images = generator.predict(random_inputs)\n",
        "  real_images = train_images[image_num : image_num+batch_size]\n",
        "  all_images = np.concatenate([generated_images, real_images])\n",
        "  labels = np.concatenate([np.zeros((batch_size, 1)),\n",
        "                           np.ones((batch_size, 1))])\n",
        "  labels += 0.05 * np.random.random(labels.shape)\n",
        "  d_loss = discriminator.train_on_batch(all_images, labels)\n",
        "\n",
        "  random_inputs = np.random.rand(batch_size, latent_dim) * 2.0 - 1.0\n",
        "  fake_labels = np.ones((batch_size, 1))\n",
        "  g_loss = gan_model.train_on_batch(random_inputs, fake_labels)\n",
        "\n",
        "  image_num += batch_size\n",
        "  if image_num + batch_size > len(train_images):\n",
        "    image_num = 0\n",
        "\n",
        "  step += 1\n",
        "  if step % 8000 == 0:\n",
        "    print('step: {}, loss(discriminator, generator): {:6.4f}, {:6.4f}'.format(\n",
        "            step, d_loss, g_loss))\n",
        "    examples.append(generator.predict(sample_inputs))"
      ],
      "execution_count": 9,
      "outputs": [
        {
          "output_type": "stream",
          "text": [
            "/usr/local/lib/python3.6/dist-packages/keras/engine/training.py:490: UserWarning: Discrepancy between trainable weights and collected trainable weights, did you set `model.trainable` without calling `model.compile` after ?\n",
            "  'Discrepancy between trainable weights and collected trainable'\n",
            "/usr/local/lib/python3.6/dist-packages/keras/engine/training.py:490: UserWarning: Discrepancy between trainable weights and collected trainable weights, did you set `model.trainable` without calling `model.compile` after ?\n",
            "  'Discrepancy between trainable weights and collected trainable'\n"
          ],
          "name": "stderr"
        },
        {
          "output_type": "stream",
          "text": [
            "step: 8000, loss(discriminator, generator): 0.5180, 1.6223\n",
            "step: 16000, loss(discriminator, generator): 0.5731, 0.7225\n",
            "step: 24000, loss(discriminator, generator): 0.5040, 1.7312\n",
            "step: 32000, loss(discriminator, generator): 0.5488, 0.8418\n",
            "step: 40000, loss(discriminator, generator): 0.4771, 0.7931\n",
            "step: 48000, loss(discriminator, generator): 0.4611, 1.4691\n",
            "step: 56000, loss(discriminator, generator): 0.4372, 2.0176\n",
            "step: 64000, loss(discriminator, generator): 0.5563, 1.5455\n",
            "step: 72000, loss(discriminator, generator): 0.8252, 1.6481\n",
            "step: 80000, loss(discriminator, generator): 0.5449, 1.3346\n"
          ],
          "name": "stdout"
        }
      ]
    },
    {
      "cell_type": "markdown",
      "metadata": {
        "id": "kIwtyrxVLrWZ",
        "colab_type": "text"
      },
      "source": [
        "####[MDE-10]\n",
        "Show the progress of sample images."
      ]
    },
    {
      "cell_type": "code",
      "metadata": {
        "id": "yR5SvOxtSu1v",
        "colab_type": "code",
        "outputId": "07df2c19-e1c0-4a11-f83e-87639e20cf43",
        "colab": {
          "base_uri": "https://localhost:8080/",
          "height": 755
        }
      },
      "source": [
        "def show_images(examples):\n",
        "  fig = plt.figure(figsize=(10, 1.2*len(examples)))\n",
        "  c = 1\n",
        "  for images in examples:\n",
        "    for image in images:\n",
        "      subplot = fig.add_subplot(len(examples), 8, c)\n",
        "      subplot.set_xticks([])\n",
        "      subplot.set_yticks([])\n",
        "      subplot.imshow(image.reshape((28, 28)),\n",
        "                     vmin=0, vmax=1, cmap=plt.cm.gray_r)\n",
        "      c += 1\n",
        "\n",
        "show_images(examples)"
      ],
      "execution_count": 10,
      "outputs": [
        {
          "output_type": "display_data",
          "data": {
            "image/png": "[encoded data removed]",
            "text/plain": [
              "<Figure size 720x950.4 with 88 Axes>"
            ]
          },
          "metadata": {
            "tags": []
          }
        }
      ]
    },
    {
      "cell_type": "markdown",
      "metadata": {
        "id": "TBfRGalOL-kq",
        "colab_type": "text"
      },
      "source": [
        "####[MDE-10]\n",
        "Mount your Google Drive on `/content/gdrive`."
      ]
    },
    {
      "cell_type": "code",
      "metadata": {
        "id": "qwe3Gb8xH-wW",
        "colab_type": "code",
        "outputId": "6c7b8827-2ee5-4a92-a420-fd7e660468da",
        "colab": {
          "base_uri": "https://localhost:8080/",
          "height": 34
        }
      },
      "source": [
        "from google.colab import drive\n",
        "drive.mount('/content/gdrive')"
      ],
      "execution_count": 11,
      "outputs": [
        {
          "output_type": "stream",
          "text": [
            "Drive already mounted at /content/gdrive; to attempt to forcibly remount, call drive.mount(\"/content/gdrive\", force_remount=True).\n"
          ],
          "name": "stdout"
        }
      ]
    },
    {
      "cell_type": "markdown",
      "metadata": {
        "id": "l1HdULSEMDS9",
        "colab_type": "text"
      },
      "source": [
        "####[MDE-11]\n",
        "Export the trained model as a file `gan_generator.hd5` on your Google Drive."
      ]
    },
    {
      "cell_type": "code",
      "metadata": {
        "id": "ShhsTXJtH3rg",
        "colab_type": "code",
        "colab": {}
      },
      "source": [
        "generator.save('/content/gdrive/My Drive/gan_generator.hd5')"
      ],
      "execution_count": 0,
      "outputs": []
    }
  ]
}