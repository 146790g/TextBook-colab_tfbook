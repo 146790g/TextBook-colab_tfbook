{
  "nbformat": 4,
  "nbformat_minor": 0,
  "metadata": {
    "colab": {
      "name": "7. MNIST DCGAN example.ipynb",
      "provenance": [],
      "collapsed_sections": []
    },
    "kernelspec": {
      "name": "python3",
      "display_name": "Python 3"
    },
    "accelerator": "GPU"
  },
  "cells": [
    {
      "cell_type": "markdown",
      "metadata": {
        "id": "m_3F2cWjR5oY",
        "colab_type": "text"
      },
      "source": [
        "# MNIST DCGAN Example"
      ]
    },
    {
      "cell_type": "markdown",
      "metadata": {
        "id": "dA2m6DVoIMPP",
        "colab_type": "text"
      },
      "source": [
        "Note: This notebook is desinged to run with Python3 and GPU runtime.\n",
        "\n",
        "![Python 3 and CPU runtime](https://raw.githubusercontent.com/enakai00/colab_tfbook/master/docs/imgs/runtime_gpu.png)"
      ]
    },
    {
      "cell_type": "markdown",
      "metadata": {
        "id": "53sGGhqt_00C",
        "colab_type": "text"
      },
      "source": [
        "This notebook uses TensorFlow 2.x."
      ]
    },
    {
      "cell_type": "code",
      "metadata": {
        "id": "u0PiOopl7MH0",
        "colab_type": "code",
        "colab": {
          "base_uri": "https://localhost:8080/",
          "height": 34
        },
        "outputId": "7e425b64-d5be-4bec-8624-522178869dde"
      },
      "source": [
        "%tensorflow_version 2.x"
      ],
      "execution_count": 1,
      "outputs": [
        {
          "output_type": "stream",
          "text": [
            "TensorFlow 2.x selected.\n"
          ],
          "name": "stdout"
        }
      ]
    },
    {
      "cell_type": "markdown",
      "metadata": {
        "id": "HqKgjio7IQCa",
        "colab_type": "text"
      },
      "source": [
        "####[MDE-01]\n",
        "Import modules and set a random seed."
      ]
    },
    {
      "cell_type": "code",
      "metadata": {
        "id": "8uoZRr9eOmwG",
        "colab_type": "code",
        "colab": {}
      },
      "source": [
        "import numpy as np\n",
        "import matplotlib.pyplot as plt\n",
        "\n",
        "import tensorflow as tf\n",
        "from tensorflow.keras import layers, models, initializers\n",
        "from tensorflow.keras.datasets import mnist\n",
        "\n",
        "np.random.seed(20190615)\n",
        "tf.random.set_seed(20190615)"
      ],
      "execution_count": 0,
      "outputs": []
    },
    {
      "cell_type": "markdown",
      "metadata": {
        "id": "8NxTNnogIUeV",
        "colab_type": "text"
      },
      "source": [
        "####[MDE-02]\n",
        "Download the MNIST dataset and store into NumPy arrays."
      ]
    },
    {
      "cell_type": "code",
      "metadata": {
        "id": "0ByKCdhESGpP",
        "colab_type": "code",
        "outputId": "2d084c03-980b-47d9-ad38-805d0812e1f7",
        "colab": {
          "base_uri": "https://localhost:8080/",
          "height": 51
        }
      },
      "source": [
        "(train_images, train_labels), (test_images, test_labels) = mnist.load_data()\n",
        "train_images = train_images.reshape(\n",
        "                  (len(train_images), 784)).astype('float32') / 255\n",
        "test_images = test_images.reshape(\n",
        "                  (len(test_images), 784)).astype('float32') / 255\n",
        "train_labels = tf.keras.utils.to_categorical(train_labels, 10)\n",
        "test_labels = tf.keras.utils.to_categorical(test_labels, 10)"
      ],
      "execution_count": 3,
      "outputs": [
        {
          "output_type": "stream",
          "text": [
            "Downloading data from https://storage.googleapis.com/tensorflow/tf-keras-datasets/mnist.npz\n",
            "11493376/11490434 [==============================] - 0s 0us/step\n"
          ],
          "name": "stdout"
        }
      ]
    },
    {
      "cell_type": "markdown",
      "metadata": {
        "id": "LyJSyjr9JA_G",
        "colab_type": "text"
      },
      "source": [
        "####[MDE-03]\n",
        "Defina a generator model."
      ]
    },
    {
      "cell_type": "code",
      "metadata": {
        "id": "qKvSYzl9SSkf",
        "colab_type": "code",
        "outputId": "835d87fe-6276-4b83-f091-8bed99f87858",
        "colab": {
          "base_uri": "https://localhost:8080/",
          "height": 391
        }
      },
      "source": [
        "latent_dim = 64\n",
        "\n",
        "generator = models.Sequential()\n",
        "generator.add(\n",
        "  layers.Dense(7*7*128, kernel_initializer=initializers.TruncatedNormal(),\n",
        "               input_shape=(latent_dim,), name='expand'))\n",
        "generator.add(layers.LeakyReLU(name='leaky_relu1'))\n",
        "generator.add(layers.Reshape((7, 7, 128), name='reshape'))\n",
        "generator.add(\n",
        "  layers.Conv2DTranspose(64, 5, strides=2, padding='same',\n",
        "                         kernel_initializer=initializers.TruncatedNormal(),\n",
        "                         name='deconv1'))\n",
        "generator.add(layers.LeakyReLU(name='leaky_relu2'))\n",
        "generator.add(\n",
        "  layers.Conv2DTranspose(1, 5, strides=2, padding='same',\n",
        "                         kernel_initializer=initializers.TruncatedNormal(),\n",
        "                         activation='sigmoid', name='deconv2'))\n",
        "generator.add(layers.Flatten(name='flatten'))\n",
        "generator.summary()"
      ],
      "execution_count": 4,
      "outputs": [
        {
          "output_type": "stream",
          "text": [
            "Model: \"sequential\"\n",
            "_________________________________________________________________\n",
            "Layer (type)                 Output Shape              Param #   \n",
            "=================================================================\n",
            "expand (Dense)               (None, 6272)              407680    \n",
            "_________________________________________________________________\n",
            "leaky_relu1 (LeakyReLU)      (None, 6272)              0         \n",
            "_________________________________________________________________\n",
            "reshape (Reshape)            (None, 7, 7, 128)         0         \n",
            "_________________________________________________________________\n",
            "deconv1 (Conv2DTranspose)    (None, 14, 14, 64)        204864    \n",
            "_________________________________________________________________\n",
            "leaky_relu2 (LeakyReLU)      (None, 14, 14, 64)        0         \n",
            "_________________________________________________________________\n",
            "deconv2 (Conv2DTranspose)    (None, 28, 28, 1)         1601      \n",
            "_________________________________________________________________\n",
            "flatten (Flatten)            (None, 784)               0         \n",
            "=================================================================\n",
            "Total params: 614,145\n",
            "Trainable params: 614,145\n",
            "Non-trainable params: 0\n",
            "_________________________________________________________________\n"
          ],
          "name": "stdout"
        }
      ]
    },
    {
      "cell_type": "markdown",
      "metadata": {
        "id": "-3DbHA-0Jb5z",
        "colab_type": "text"
      },
      "source": [
        "####[MDE-04]\n",
        "Defina a discriminator model."
      ]
    },
    {
      "cell_type": "code",
      "metadata": {
        "id": "iyOLjN7kX1Px",
        "colab_type": "code",
        "outputId": "38c12908-3527-45f1-9e8b-983184c4b53f",
        "colab": {
          "base_uri": "https://localhost:8080/",
          "height": 425
        }
      },
      "source": [
        "discriminator = models.Sequential()\n",
        "discriminator.add(layers.Reshape((28, 28, 1), input_shape=((28*28,)),\n",
        "                                 name='reshape'))\n",
        "discriminator.add(\n",
        "  layers.Conv2D(64, (5, 5), strides=2, padding='same',\n",
        "                kernel_initializer=initializers.TruncatedNormal(),\n",
        "                name='conv1'))\n",
        "discriminator.add(layers.LeakyReLU(name='leaky_relu1'))\n",
        "discriminator.add(\n",
        "  layers.Conv2D(128, (5, 5), strides=2, padding='same',\n",
        "                kernel_initializer=initializers.TruncatedNormal(),\n",
        "                name='conv2'))\n",
        "discriminator.add(layers.LeakyReLU(name='leaky_relu2'))\n",
        "discriminator.add(layers.Flatten(name='flatten'))\n",
        "discriminator.add(layers.Dropout(rate=0.4, name='dropout'))\n",
        "discriminator.add(layers.Dense(1, activation='sigmoid', name='sigmoid'))\n",
        "\n",
        "discriminator.summary()"
      ],
      "execution_count": 5,
      "outputs": [
        {
          "output_type": "stream",
          "text": [
            "Model: \"sequential_1\"\n",
            "_________________________________________________________________\n",
            "Layer (type)                 Output Shape              Param #   \n",
            "=================================================================\n",
            "reshape (Reshape)            (None, 28, 28, 1)         0         \n",
            "_________________________________________________________________\n",
            "conv1 (Conv2D)               (None, 14, 14, 64)        1664      \n",
            "_________________________________________________________________\n",
            "leaky_relu1 (LeakyReLU)      (None, 14, 14, 64)        0         \n",
            "_________________________________________________________________\n",
            "conv2 (Conv2D)               (None, 7, 7, 128)         204928    \n",
            "_________________________________________________________________\n",
            "leaky_relu2 (LeakyReLU)      (None, 7, 7, 128)         0         \n",
            "_________________________________________________________________\n",
            "flatten (Flatten)            (None, 6272)              0         \n",
            "_________________________________________________________________\n",
            "dropout (Dropout)            (None, 6272)              0         \n",
            "_________________________________________________________________\n",
            "sigmoid (Dense)              (None, 1)                 6273      \n",
            "=================================================================\n",
            "Total params: 212,865\n",
            "Trainable params: 212,865\n",
            "Non-trainable params: 0\n",
            "_________________________________________________________________\n"
          ],
          "name": "stdout"
        }
      ]
    },
    {
      "cell_type": "markdown",
      "metadata": {
        "id": "9zzzeCD2J-9q",
        "colab_type": "text"
      },
      "source": [
        "####[MDE-05]\n",
        "Compile the discriminator using the Adam optimizer, and Cross entroy as a loss function."
      ]
    },
    {
      "cell_type": "code",
      "metadata": {
        "id": "XEwdyyX5SeHg",
        "colab_type": "code",
        "colab": {}
      },
      "source": [
        "discriminator.compile(optimizer='adam', loss='binary_crossentropy')"
      ],
      "execution_count": 0,
      "outputs": []
    },
    {
      "cell_type": "markdown",
      "metadata": {
        "id": "is6hVDllKRAi",
        "colab_type": "text"
      },
      "source": [
        "####[MDE-06]\n",
        "Define an end-to-end GAN model to train the generator."
      ]
    },
    {
      "cell_type": "code",
      "metadata": {
        "id": "VqLQnc3Gd_rR",
        "colab_type": "code",
        "outputId": "84ae9358-7b9e-402d-a0d9-a81e478e52e1",
        "colab": {
          "base_uri": "https://localhost:8080/",
          "height": 255
        }
      },
      "source": [
        "discriminator.trainable = False\n",
        "gan_input = tf.keras.Input(shape=(latent_dim,))\n",
        "gan_output = discriminator(generator(gan_input))\n",
        "gan_model = models.Model(gan_input, gan_output)\n",
        "gan_model.summary()"
      ],
      "execution_count": 7,
      "outputs": [
        {
          "output_type": "stream",
          "text": [
            "Model: \"model\"\n",
            "_________________________________________________________________\n",
            "Layer (type)                 Output Shape              Param #   \n",
            "=================================================================\n",
            "input_1 (InputLayer)         [(None, 64)]              0         \n",
            "_________________________________________________________________\n",
            "sequential (Sequential)      (None, 784)               614145    \n",
            "_________________________________________________________________\n",
            "sequential_1 (Sequential)    (None, 1)                 212865    \n",
            "=================================================================\n",
            "Total params: 827,010\n",
            "Trainable params: 614,145\n",
            "Non-trainable params: 212,865\n",
            "_________________________________________________________________\n"
          ],
          "name": "stdout"
        }
      ]
    },
    {
      "cell_type": "markdown",
      "metadata": {
        "id": "PVMUs1WtKrQu",
        "colab_type": "text"
      },
      "source": [
        "####[MDE-07]\n",
        "Compile the GAN model using the Adam optimizer, and Cross entroy as a loss function."
      ]
    },
    {
      "cell_type": "code",
      "metadata": {
        "id": "2A4dwLwTeywN",
        "colab_type": "code",
        "colab": {}
      },
      "source": [
        "gan_model.compile(optimizer='adam', loss='binary_crossentropy')"
      ],
      "execution_count": 0,
      "outputs": []
    },
    {
      "cell_type": "markdown",
      "metadata": {
        "id": "5FocFzOJK8ac",
        "colab_type": "text"
      },
      "source": [
        "####[MDE-08]\n",
        "Define some working variables to trace the training process."
      ]
    },
    {
      "cell_type": "code",
      "metadata": {
        "id": "bK7cwT-umD1r",
        "colab_type": "code",
        "colab": {}
      },
      "source": [
        "batch_size = 32\n",
        "image_num = 0\n",
        "step = 0\n",
        "examples = []\n",
        "sample_inputs = np.random.rand(8, latent_dim) * 2.0 - 1.0\n",
        "examples.append(generator.predict(sample_inputs))"
      ],
      "execution_count": 0,
      "outputs": []
    },
    {
      "cell_type": "markdown",
      "metadata": {
        "id": "zCGbB86tLNfK",
        "colab_type": "text"
      },
      "source": [
        "####[MDE-09]\n",
        "Train the model for 80,000 batches."
      ]
    },
    {
      "cell_type": "code",
      "metadata": {
        "id": "33eI8EHqTHgo",
        "colab_type": "code",
        "outputId": "5e6f397a-fa65-4f6b-abbc-7bd569b1591c",
        "colab": {
          "base_uri": "https://localhost:8080/",
          "height": 187
        }
      },
      "source": [
        "for _ in range(80000):\n",
        "  random_inputs = np.random.rand(batch_size, latent_dim) * 2.0 - 1.0\n",
        "  generated_images = generator.predict(random_inputs)\n",
        "  real_images = train_images[image_num : image_num+batch_size]\n",
        "  all_images = np.concatenate([generated_images, real_images])\n",
        "  labels = np.concatenate([np.zeros((batch_size, 1)),\n",
        "                           np.ones((batch_size, 1))])\n",
        "  labels += 0.05 * np.random.random(labels.shape)\n",
        "  d_loss = discriminator.train_on_batch(all_images, labels)\n",
        "\n",
        "  random_inputs = np.random.rand(batch_size, latent_dim) * 2.0 - 1.0\n",
        "  fake_labels = np.ones((batch_size, 1))\n",
        "  g_loss = gan_model.train_on_batch(random_inputs, fake_labels)\n",
        "\n",
        "  image_num += batch_size\n",
        "  if image_num + batch_size > len(train_images):\n",
        "    image_num = 0\n",
        "\n",
        "  step += 1\n",
        "  if step % 8000 == 0:\n",
        "    print('step: {}, loss(discriminator, generator): {:6.4f}, {:6.4f}'.format(\n",
        "            step, d_loss, g_loss))\n",
        "    examples.append(generator.predict(sample_inputs))"
      ],
      "execution_count": 10,
      "outputs": [
        {
          "output_type": "stream",
          "text": [
            "step: 8000, loss(discriminator, generator): 0.5331, 1.2596\n",
            "step: 16000, loss(discriminator, generator): 0.4953, 1.2334\n",
            "step: 24000, loss(discriminator, generator): 0.6052, 0.8818\n",
            "step: 32000, loss(discriminator, generator): 0.5232, 1.1416\n",
            "step: 40000, loss(discriminator, generator): 0.4652, 2.1513\n",
            "step: 48000, loss(discriminator, generator): 0.4622, 1.6619\n",
            "step: 56000, loss(discriminator, generator): 0.4519, 1.5564\n",
            "step: 64000, loss(discriminator, generator): 0.3794, 1.8192\n",
            "step: 72000, loss(discriminator, generator): 0.5245, 1.2730\n",
            "step: 80000, loss(discriminator, generator): 0.4430, 0.6436\n"
          ],
          "name": "stdout"
        }
      ]
    },
    {
      "cell_type": "markdown",
      "metadata": {
        "id": "kIwtyrxVLrWZ",
        "colab_type": "text"
      },
      "source": [
        "####[MDE-10]\n",
        "Show the progress of sample images."
      ]
    },
    {
      "cell_type": "code",
      "metadata": {
        "id": "yR5SvOxtSu1v",
        "colab_type": "code",
        "outputId": "037d9ed9-6e26-48e1-8314-5f402bdb1050",
        "colab": {
          "base_uri": "https://localhost:8080/",
          "height": 755
        }
      },
      "source": [
        "def show_images(examples):\n",
        "  fig = plt.figure(figsize=(10, 1.2*len(examples)))\n",
        "  c = 1\n",
        "  for images in examples:\n",
        "    for image in images:\n",
        "      subplot = fig.add_subplot(len(examples), 8, c)\n",
        "      subplot.set_xticks([])\n",
        "      subplot.set_yticks([])\n",
        "      subplot.imshow(image.reshape((28, 28)),\n",
        "                     vmin=0, vmax=1, cmap=plt.cm.gray_r)\n",
        "      c += 1\n",
        "\n",
        "show_images(examples)"
      ],
      "execution_count": 11,
      "outputs": [
        {
          "output_type": "display_data",
          "data": {
            "image/png": "[encoded data removed]",
            "text/plain": [
              "<Figure size 720x950.4 with 88 Axes>"
            ]
          },
          "metadata": {
            "tags": []
          }
        }
      ]
    },
    {
      "cell_type": "markdown",
      "metadata": {
        "id": "TBfRGalOL-kq",
        "colab_type": "text"
      },
      "source": [
        "####[MDE-10]\n",
        "Mount your Google Drive on `/content/gdrive`."
      ]
    },
    {
      "cell_type": "code",
      "metadata": {
        "id": "qwe3Gb8xH-wW",
        "colab_type": "code",
        "outputId": "8619d9a8-dc08-4876-b480-86c0c3dd1cea",
        "colab": {
          "base_uri": "https://localhost:8080/",
          "height": 34
        }
      },
      "source": [
        "from google.colab import drive\n",
        "drive.mount('/content/gdrive')"
      ],
      "execution_count": 14,
      "outputs": [
        {
          "output_type": "stream",
          "text": [
            "Drive already mounted at /content/gdrive; to attempt to forcibly remount, call drive.mount(\"/content/gdrive\", force_remount=True).\n"
          ],
          "name": "stdout"
        }
      ]
    },
    {
      "cell_type": "markdown",
      "metadata": {
        "id": "l1HdULSEMDS9",
        "colab_type": "text"
      },
      "source": [
        "####[MDE-11]\n",
        "Export the trained model as a file `gan_generator.hd5` on your Google Drive."
      ]
    },
    {
      "cell_type": "code",
      "metadata": {
        "id": "ShhsTXJtH3rg",
        "colab_type": "code",
        "colab": {
          "base_uri": "https://localhost:8080/",
          "height": 34
        },
        "outputId": "3607829b-a139-4f6c-8fb8-de0ae943ce73"
      },
      "source": [
        "generator.save('/content/gdrive/My Drive/gan_generator.hd5', save_format='h5')\n",
        "!ls -lh '/content/gdrive/My Drive/gan_generator.hd5'"
      ],
      "execution_count": 15,
      "outputs": [
        {
          "output_type": "stream",
          "text": [
            "-rw------- 1 root root 2.4M Oct 17 07:49 '/content/gdrive/My Drive/gan_generator.hd5'\n"
          ],
          "name": "stdout"
        }
      ]
    }
  ]
}