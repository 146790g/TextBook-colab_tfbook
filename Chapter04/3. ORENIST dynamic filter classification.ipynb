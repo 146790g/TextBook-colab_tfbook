{
  "nbformat": 4,
  "nbformat_minor": 0,
  "metadata": {
    "colab": {
      "name": "3. ORENIST dynamic filter classification.ipynb",
      "version": "0.3.2",
      "provenance": [],
      "collapsed_sections": []
    },
    "kernelspec": {
      "name": "python3",
      "display_name": "Python 3"
    },
    "accelerator": "GPU"
  },
  "cells": [
    {
      "cell_type": "markdown",
      "metadata": {
        "id": "02bY_iJhZirY",
        "colab_type": "text"
      },
      "source": [
        "# ORENIST Dynamic Filter Classification"
      ]
    },
    {
      "cell_type": "markdown",
      "metadata": {
        "id": "tpj9WxP5Zv9p",
        "colab_type": "text"
      },
      "source": [
        "Note: This notebook is desinged to run with Python3 and CPU (no GPU) runtime.\n",
        "\n",
        "![Python 3 and CPU runtime](https://raw.githubusercontent.com/enakai00/colab_tfbook/master/docs/imgs/runtime_cpu.png)"
      ]
    },
    {
      "cell_type": "markdown",
      "metadata": {
        "id": "-xkr13nCB0Il",
        "colab_type": "text"
      },
      "source": [
        "This notebook uses TensorFlow2.x."
      ]
    },
    {
      "cell_type": "code",
      "metadata": {
        "id": "kop8_9RihcJX",
        "colab_type": "code",
        "outputId": "7091e377-4709-4ba0-cc5f-62f8da56f64b",
        "colab": {
          "base_uri": "https://localhost:8080/",
          "height": 34
        }
      },
      "source": [
        "%tensorflow_version 2.x"
      ],
      "execution_count": 1,
      "outputs": [
        {
          "output_type": "stream",
          "text": [
            "TensorFlow 2.x selected.\n"
          ],
          "name": "stdout"
        }
      ]
    },
    {
      "cell_type": "markdown",
      "metadata": {
        "id": "VJO3PPzqsq8d",
        "colab_type": "text"
      },
      "source": [
        "####[ODF-01]\n",
        "Import modules and set a random seed."
      ]
    },
    {
      "cell_type": "code",
      "metadata": {
        "id": "gB5UUoAXIVmC",
        "colab_type": "code",
        "colab": {}
      },
      "source": [
        "import numpy as np\n",
        "import matplotlib.pyplot as plt\n",
        "from pandas import DataFrame\n",
        "import pickle\n",
        "\n",
        "import tensorflow as tf\n",
        "from tensorflow.keras import layers, models, initializers\n",
        "from tensorflow.keras.datasets import mnist\n",
        "\n",
        "np.random.seed(20190225)\n",
        "tf.random.set_seed(20190225)"
      ],
      "execution_count": 0,
      "outputs": []
    },
    {
      "cell_type": "markdown",
      "metadata": {
        "id": "yz2h7_8St1wi",
        "colab_type": "text"
      },
      "source": [
        "####[ODF-02]\n",
        "Download the ORENIST dataset and store into NumPy arrays."
      ]
    },
    {
      "cell_type": "code",
      "metadata": {
        "id": "ASgzWK5AjWvn",
        "colab_type": "code",
        "outputId": "4c0a7491-5ee0-4afc-8449-8bca9f5c99d7",
        "colab": {
          "base_uri": "https://localhost:8080/",
          "height": 85
        }
      },
      "source": [
        "!curl -LO https://github.com/enakai00/colab_tfbook/raw/master/Chapter04/ORENIST.data\n",
        "with open('ORENIST.data', 'rb') as file:\n",
        "    images, labels = pickle.load(file)"
      ],
      "execution_count": 3,
      "outputs": [
        {
          "output_type": "stream",
          "text": [
            "  % Total    % Received % Xferd  Average Speed   Time    Time     Time  Current\n",
            "                                 Dload  Upload   Total   Spent    Left  Speed\n",
            "\r  0     0    0     0    0     0      0      0 --:--:-- --:--:-- --:--:--     0\r100   151  100   151    0     0   2796      0 --:--:-- --:--:-- --:--:--  2796\n",
            "\r100  553k  100  553k    0     0  3025k      0 --:--:-- --:--:-- --:--:-- 3025k\n"
          ],
          "name": "stdout"
        }
      ]
    },
    {
      "cell_type": "markdown",
      "metadata": {
        "id": "fBltXsSRvZn0",
        "colab_type": "text"
      },
      "source": [
        "####[ODF-03]\n",
        "Define a model to classify the ORENIST dataset with the convolutional filters. \n",
        "\n",
        "The ouputs from filters are converted to a single pixel image with the pooling layer."
      ]
    },
    {
      "cell_type": "code",
      "metadata": {
        "id": "TZw9C2dLkSvG",
        "colab_type": "code",
        "outputId": "0e7621ad-c8d2-45f8-a846-9f8457802522",
        "colab": {
          "base_uri": "https://localhost:8080/",
          "height": 357
        }
      },
      "source": [
        "model = models.Sequential()\n",
        "model.add(layers.Reshape((28, 28, 1), input_shape=(28*28,), name='reshape'))\n",
        "model.add(layers.Conv2D(2, (5, 5), padding='same',\n",
        "                        kernel_initializer=initializers.TruncatedNormal(),\n",
        "                        use_bias=False, name='conv_filter'))\n",
        "model.add(layers.Lambda(lambda x: abs(x), name='abs'))\n",
        "model.add(layers.MaxPooling2D((28, 28), name='max_pooling'))\n",
        "model.add(layers.Flatten(name='flatten'))\n",
        "model.add(layers.Dense(3, activation='softmax', name='softmax'))\n",
        "\n",
        "model.summary()"
      ],
      "execution_count": 4,
      "outputs": [
        {
          "output_type": "stream",
          "text": [
            "Model: \"sequential\"\n",
            "_________________________________________________________________\n",
            "Layer (type)                 Output Shape              Param #   \n",
            "=================================================================\n",
            "reshape (Reshape)            (None, 28, 28, 1)         0         \n",
            "_________________________________________________________________\n",
            "conv_filter (Conv2D)         (None, 28, 28, 2)         50        \n",
            "_________________________________________________________________\n",
            "abs (Lambda)                 (None, 28, 28, 2)         0         \n",
            "_________________________________________________________________\n",
            "max_pooling (MaxPooling2D)   (None, 1, 1, 2)           0         \n",
            "_________________________________________________________________\n",
            "flatten (Flatten)            (None, 2)                 0         \n",
            "_________________________________________________________________\n",
            "softmax (Dense)              (None, 3)                 9         \n",
            "=================================================================\n",
            "Total params: 59\n",
            "Trainable params: 59\n",
            "Non-trainable params: 0\n",
            "_________________________________________________________________\n"
          ],
          "name": "stdout"
        }
      ]
    },
    {
      "cell_type": "markdown",
      "metadata": {
        "id": "o2LGyOmvakI5",
        "colab_type": "text"
      },
      "source": [
        "####[ODF-04]\n",
        "Compile the model using the Adam optimizer, and Cross entroy as a loss function."
      ]
    },
    {
      "cell_type": "code",
      "metadata": {
        "id": "YodHmwNEnWjz",
        "colab_type": "code",
        "colab": {}
      },
      "source": [
        "model.compile(optimizer='adam', \n",
        "              loss='categorical_crossentropy',\n",
        "              metrics=['acc'])"
      ],
      "execution_count": 0,
      "outputs": []
    },
    {
      "cell_type": "markdown",
      "metadata": {
        "id": "hmkXxrcKaoGo",
        "colab_type": "text"
      },
      "source": [
        "####[ODF-05]\n",
        "Train the model."
      ]
    },
    {
      "cell_type": "code",
      "metadata": {
        "id": "Bp6hT6n4nobF",
        "colab_type": "code",
        "colab": {
          "base_uri": "https://localhost:8080/",
          "height": 105
        },
        "outputId": "3bdc8fb1-f506-49c5-f49e-d2b116297d11"
      },
      "source": [
        "history = model.fit(images, labels,\n",
        "                    batch_size=len(images), epochs=2000, verbose=0)"
      ],
      "execution_count": 6,
      "outputs": [
        {
          "output_type": "stream",
          "text": [
            "WARNING: Logging before flag parsing goes to stderr.\n",
            "W0827 07:46:01.403615 140010230990720 deprecation.py:323] From /tensorflow-2.0.0b1/python3.6/tensorflow/python/ops/math_grad.py:1250: add_dispatch_support.<locals>.wrapper (from tensorflow.python.ops.array_ops) is deprecated and will be removed in a future version.\n",
            "Instructions for updating:\n",
            "Use tf.where in 2.0, which has the same broadcast rule as np.where\n"
          ],
          "name": "stderr"
        }
      ]
    },
    {
      "cell_type": "markdown",
      "metadata": {
        "id": "0hJvLUbTaukP",
        "colab_type": "text"
      },
      "source": [
        "####[ODF-06]\n",
        "Plot charts to see the accuracy and loss values. It achieves the 100% accuracy."
      ]
    },
    {
      "cell_type": "code",
      "metadata": {
        "id": "WVIdMBfb16-e",
        "colab_type": "code",
        "outputId": "9c488246-9f01-4cfc-e2cd-119b276c67a4",
        "colab": {
          "base_uri": "https://localhost:8080/",
          "height": 538
        }
      },
      "source": [
        "DataFrame({'acc': history.history['acc']}).plot()\n",
        "DataFrame({'loss': history.history['loss']}).plot()"
      ],
      "execution_count": 7,
      "outputs": [
        {
          "output_type": "execute_result",
          "data": {
            "text/plain": [
              "<matplotlib.axes._subplots.AxesSubplot at 0x7f56400c2780>"
            ]
          },
          "metadata": {
            "tags": []
          },
          "execution_count": 7
        },
        {
          "output_type": "display_data",
          "data": {
            "image/png": "[encoded data removed]",
            "text/plain": [
              "<Figure size 432x288 with 1 Axes>"
            ]
          },
          "metadata": {
            "tags": []
          }
        },
        {
          "output_type": "display_data",
          "data": {
            "image/png": "[encoded data removed]",
            "text/plain": [
              "<Figure size 432x288 with 1 Axes>"
            ]
          },
          "metadata": {
            "tags": []
          }
        }
      ]
    },
    {
      "cell_type": "markdown",
      "metadata": {
        "id": "FyatXZXkbBnv",
        "colab_type": "text"
      },
      "source": [
        "####[ODF-07]\n",
        "Define a model to extract outputs from intermediate layers."
      ]
    },
    {
      "cell_type": "code",
      "metadata": {
        "id": "Wrq-1Qk4_cj9",
        "colab_type": "code",
        "colab": {}
      },
      "source": [
        "layer_outputs = [model.get_layer('abs').output,\n",
        "                 model.get_layer('max_pooling').output]\n",
        "model2 = models.Model(inputs=model.input, outputs=layer_outputs)"
      ],
      "execution_count": 0,
      "outputs": []
    },
    {
      "cell_type": "markdown",
      "metadata": {
        "id": "5YbCTY4nbKOu",
        "colab_type": "text"
      },
      "source": [
        "####[ODF-08]\n",
        "Apply the trained filters to the ORENST dataset."
      ]
    },
    {
      "cell_type": "code",
      "metadata": {
        "id": "kneFxMS1_Qxd",
        "colab_type": "code",
        "colab": {}
      },
      "source": [
        "conv_output, pool_output = model2.predict(images[:9])\n",
        "filter_vals = model.get_layer('conv_filter').get_weights()[0]"
      ],
      "execution_count": 0,
      "outputs": []
    },
    {
      "cell_type": "markdown",
      "metadata": {
        "id": "OURhy38_bsVz",
        "colab_type": "text"
      },
      "source": [
        "####[ODF-09]\n",
        "Show images after applying the convolutional filters."
      ]
    },
    {
      "cell_type": "code",
      "metadata": {
        "id": "GTqAAbecDxu8",
        "colab_type": "code",
        "outputId": "df355ac2-e188-498e-d886-93f7d9b2c85e",
        "colab": {
          "base_uri": "https://localhost:8080/",
          "height": 213
        }
      },
      "source": [
        "fig = plt.figure(figsize=(10, 3))\n",
        "v_max = np.max(conv_output)\n",
        "\n",
        "for i in range(2):\n",
        "    subplot = fig.add_subplot(3, 10, 10*(i+1)+1)\n",
        "    subplot.set_xticks([])\n",
        "    subplot.set_yticks([])\n",
        "    subplot.imshow(filter_vals[:, :, 0, i], cmap=plt.cm.gray_r)\n",
        "\n",
        "for i in range(9):\n",
        "    subplot = fig.add_subplot(3, 10, i+2)\n",
        "    subplot.set_xticks([])\n",
        "    subplot.set_yticks([])\n",
        "    subplot.set_title('%d' % np.argmax(labels[i]))\n",
        "    subplot.imshow(images[i].reshape((28, 28)),\n",
        "                   vmin=0, vmax=1, cmap=plt.cm.gray_r)\n",
        "    \n",
        "    subplot = fig.add_subplot(3, 10, 10+i+2)\n",
        "    subplot.set_xticks([])\n",
        "    subplot.set_yticks([])\n",
        "    subplot.imshow(conv_output[i,:,:,0],\n",
        "                   vmin=0, vmax=v_max, cmap=plt.cm.gray_r)\n",
        "    \n",
        "    subplot = fig.add_subplot(3, 10, 20+i+2)\n",
        "    subplot.set_xticks([])\n",
        "    subplot.set_yticks([])\n",
        "    subplot.imshow(conv_output[i,:,:,1],\n",
        "                   vmin=0, vmax=v_max, cmap=plt.cm.gray_r)"
      ],
      "execution_count": 10,
      "outputs": [
        {
          "output_type": "display_data",
          "data": {
            "image/png": "[encoded data removed]",
            "text/plain": [
              "<Figure size 720x216 with 29 Axes>"
            ]
          },
          "metadata": {
            "tags": []
          }
        }
      ]
    },
    {
      "cell_type": "markdown",
      "metadata": {
        "id": "h8uoriXXbvoY",
        "colab_type": "text"
      },
      "source": [
        "####[ODF-10]\n",
        "Show images after applying the pooling layer."
      ]
    },
    {
      "cell_type": "code",
      "metadata": {
        "id": "mrMM5BhB_Yt7",
        "colab_type": "code",
        "outputId": "9f9d9569-24ac-41ab-e3df-a67b0e393898",
        "colab": {
          "base_uri": "https://localhost:8080/",
          "height": 213
        }
      },
      "source": [
        "fig = plt.figure(figsize=(10, 3))\n",
        "v_max = np.max(pool_output)\n",
        "\n",
        "\n",
        "for i in range(2):\n",
        "    subplot = fig.add_subplot(3, 10, 10*(i+1)+1)\n",
        "    subplot.set_xticks([])\n",
        "    subplot.set_yticks([])\n",
        "    subplot.imshow(filter_vals[:, :, 0, i], cmap=plt.cm.gray_r)\n",
        "\n",
        "for i in range(9):\n",
        "    subplot = fig.add_subplot(3, 10, i+2)\n",
        "    subplot.set_xticks([])\n",
        "    subplot.set_yticks([])\n",
        "    subplot.set_title('%d' % np.argmax(labels[i]))\n",
        "    subplot.imshow(images[i].reshape((28, 28)),\n",
        "                   vmin=0, vmax=1, cmap=plt.cm.gray_r)\n",
        "    \n",
        "    subplot = fig.add_subplot(3, 10, 10+i+2)\n",
        "    subplot.set_xticks([])\n",
        "    subplot.set_yticks([])\n",
        "    subplot.imshow(pool_output[i, :, :, 0],\n",
        "                   vmin=0, vmax=v_max, cmap=plt.cm.gray_r)\n",
        "    \n",
        "    subplot = fig.add_subplot(3, 10, 20+i+2)\n",
        "    subplot.set_xticks([])\n",
        "    subplot.set_yticks([])\n",
        "    subplot.imshow(pool_output[i, :, :, 1],\n",
        "                   vmin=0, vmax=v_max, cmap=plt.cm.gray_r)"
      ],
      "execution_count": 11,
      "outputs": [
        {
          "output_type": "display_data",
          "data": {
            "image/png": "[encoded data removed]",
            "text/plain": [
              "<Figure size 720x216 with 29 Axes>"
            ]
          },
          "metadata": {
            "tags": []
          }
        }
      ]
    },
    {
      "cell_type": "markdown",
      "metadata": {
        "id": "uF-l0s5VbzdZ",
        "colab_type": "text"
      },
      "source": [
        "####[ODF-11]\n",
        "Convert outputs from the pooling layer into binary values with a threshold 7.0.\n",
        "\n"
      ]
    },
    {
      "cell_type": "code",
      "metadata": {
        "id": "6-zDwcfRM4aj",
        "colab_type": "code",
        "outputId": "15fb8eb4-3f2c-4bcd-e2b0-b17523d2572f",
        "colab": {
          "base_uri": "https://localhost:8080/",
          "height": 213
        }
      },
      "source": [
        "fig = plt.figure(figsize=(10, 3))\n",
        "bin_index = np.sign(pool_output-7.0)\n",
        "\n",
        "for i in range(2):\n",
        "    subplot = fig.add_subplot(3, 10, 10*(i+1)+1)\n",
        "    subplot.set_xticks([])\n",
        "    subplot.set_yticks([])\n",
        "    subplot.imshow(filter_vals[:, :, 0, i], cmap=plt.cm.gray_r)\n",
        "\n",
        "for i in range(9):\n",
        "    subplot = fig.add_subplot(3, 10, i+2)\n",
        "    subplot.set_xticks([])\n",
        "    subplot.set_yticks([])\n",
        "    subplot.set_title('%d' % np.argmax(labels[i]))\n",
        "    subplot.imshow(images[i].reshape((28, 28)),\n",
        "                   vmin=0, vmax=1, cmap=plt.cm.gray_r)\n",
        "    \n",
        "    subplot = fig.add_subplot(3, 10, 10+i+2)\n",
        "    subplot.set_xticks([])\n",
        "    subplot.set_yticks([])\n",
        "    subplot.imshow(bin_index[i, :, :, 0],\n",
        "                   vmin=-1, vmax=1, cmap=plt.cm.gray_r)\n",
        "    \n",
        "    subplot = fig.add_subplot(3, 10, 20+i+2)\n",
        "    subplot.set_xticks([])\n",
        "    subplot.set_yticks([])\n",
        "    subplot.imshow(bin_index[i, :, :, 1],\n",
        "                   vmin=-1, vmax=1, cmap=plt.cm.gray_r)"
      ],
      "execution_count": 12,
      "outputs": [
        {
          "output_type": "display_data",
          "data": {
            "image/png": "[encoded data removed]",
            "text/plain": [
              "<Figure size 720x216 with 29 Axes>"
            ]
          },
          "metadata": {
            "tags": []
          }
        }
      ]
    }
  ]
}