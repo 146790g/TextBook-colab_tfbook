{
  "nbformat": 4,
  "nbformat_minor": 0,
  "metadata": {
    "colab": {
      "name": "4. MNIST dynamic filter classification.ipynb",
      "version": "0.3.2",
      "provenance": [],
      "collapsed_sections": []
    },
    "kernelspec": {
      "name": "python3",
      "display_name": "Python 3"
    },
    "accelerator": "GPU"
  },
  "cells": [
    {
      "cell_type": "markdown",
      "metadata": {
        "id": "oBDR3CvxewJw",
        "colab_type": "text"
      },
      "source": [
        "# MNIST Dynamic Filter Classification"
      ]
    },
    {
      "cell_type": "markdown",
      "metadata": {
        "id": "3K8paN7eevHX",
        "colab_type": "text"
      },
      "source": [
        "Note: This notebook is desinged to run with Python3 and GPU runtime.\n",
        "\n",
        "![Python 3 and CPU runtime](https://raw.githubusercontent.com/enakai00/colab_tfbook/master/docs/imgs/runtime_gpu.png)"
      ]
    },
    {
      "cell_type": "markdown",
      "metadata": {
        "id": "VJO3PPzqsq8d",
        "colab_type": "text"
      },
      "source": [
        "####[MDF-01]\n",
        "Import modules and set random seeds."
      ]
    },
    {
      "cell_type": "code",
      "metadata": {
        "id": "gB5UUoAXIVmC",
        "colab_type": "code",
        "outputId": "bd0fa4c8-542d-4c32-dbb2-3c3721de9603",
        "colab": {
          "base_uri": "https://localhost:8080/",
          "height": 35
        }
      },
      "source": [
        "import numpy as np\n",
        "from pandas import DataFrame\n",
        "\n",
        "import tensorflow as tf\n",
        "import keras\n",
        "from keras import layers, models, initializers\n",
        "from keras.datasets import mnist\n",
        "\n",
        "np.random.seed(20190222)\n",
        "tf.set_random_seed(20190222)"
      ],
      "execution_count": 1,
      "outputs": [
        {
          "output_type": "stream",
          "text": [
            "Using TensorFlow backend.\n"
          ],
          "name": "stderr"
        }
      ]
    },
    {
      "cell_type": "markdown",
      "metadata": {
        "id": "yz2h7_8St1wi",
        "colab_type": "text"
      },
      "source": [
        "####[MDF-02]\n",
        "Download the MNIST dataset and store into NumPy arrays."
      ]
    },
    {
      "cell_type": "code",
      "metadata": {
        "id": "ASgzWK5AjWvn",
        "colab_type": "code",
        "colab": {}
      },
      "source": [
        "(train_images, train_labels), (test_images, test_labels) = mnist.load_data()\n",
        "train_images = train_images.reshape(\n",
        "                  (len(train_images), 784)).astype('float32') / 255\n",
        "test_images = test_images.reshape(\n",
        "                  (len(test_images), 784)).astype('float32') / 255\n",
        "train_labels = keras.utils.to_categorical(train_labels, 10)\n",
        "test_labels = keras.utils.to_categorical(test_labels, 10)"
      ],
      "execution_count": 0,
      "outputs": []
    },
    {
      "cell_type": "markdown",
      "metadata": {
        "id": "qdQ0Tp2IvFy8",
        "colab_type": "text"
      },
      "source": [
        "####[MDF-03]\n",
        "Define a CNN model with a single convolutional filter layer."
      ]
    },
    {
      "cell_type": "code",
      "metadata": {
        "id": "tpL_niBTXggS",
        "colab_type": "code",
        "outputId": "48ec02e1-7395-4897-f47b-f1c7cc78fdf7",
        "colab": {
          "base_uri": "https://localhost:8080/",
          "height": 417
        }
      },
      "source": [
        "model = models.Sequential()\n",
        "model.add(layers.Reshape((28, 28, 1), input_shape=(28*28,), name='reshape'))\n",
        "model.add(layers.Conv2D(16, (5, 5), padding='same',\n",
        "                        kernel_initializer=initializers.TruncatedNormal(),\n",
        "                        use_bias=True, activation='relu',\n",
        "                        name='conv_filter'))\n",
        "model.add(layers.MaxPooling2D((2, 2), name='max_pooling'))\n",
        "model.add(layers.Flatten(name='flatten'))\n",
        "model.add(layers.Dense(1024, activation='relu',\n",
        "                       kernel_initializer=initializers.TruncatedNormal(),\n",
        "                       name='hidden'))\n",
        "model.add(layers.Dense(10, activation='softmax', name='softmax'))\n",
        "\n",
        "model.summary()"
      ],
      "execution_count": 3,
      "outputs": [
        {
          "output_type": "stream",
          "text": [
            "WARNING:tensorflow:From /usr/local/lib/python3.6/dist-packages/tensorflow/python/framework/op_def_library.py:263: colocate_with (from tensorflow.python.framework.ops) is deprecated and will be removed in a future version.\n",
            "Instructions for updating:\n",
            "Colocations handled automatically by placer.\n",
            "_________________________________________________________________\n",
            "Layer (type)                 Output Shape              Param #   \n",
            "=================================================================\n",
            "reshape (Reshape)            (None, 28, 28, 1)         0         \n",
            "_________________________________________________________________\n",
            "conv_filter (Conv2D)         (None, 28, 28, 16)        416       \n",
            "_________________________________________________________________\n",
            "max_pooling (MaxPooling2D)   (None, 14, 14, 16)        0         \n",
            "_________________________________________________________________\n",
            "flatten (Flatten)            (None, 3136)              0         \n",
            "_________________________________________________________________\n",
            "hidden (Dense)               (None, 1024)              3212288   \n",
            "_________________________________________________________________\n",
            "softmax (Dense)              (None, 10)                10250     \n",
            "=================================================================\n",
            "Total params: 3,222,954\n",
            "Trainable params: 3,222,954\n",
            "Non-trainable params: 0\n",
            "_________________________________________________________________\n"
          ],
          "name": "stdout"
        }
      ]
    },
    {
      "cell_type": "markdown",
      "metadata": {
        "id": "fBltXsSRvZn0",
        "colab_type": "text"
      },
      "source": [
        "####[MDF-04]\n",
        "Compile the model using the Adam optimizer, and Cross entroy as a loss function."
      ]
    },
    {
      "cell_type": "code",
      "metadata": {
        "id": "BakcuKxdQoSL",
        "colab_type": "code",
        "colab": {}
      },
      "source": [
        "model.compile(optimizer='adam', \n",
        "              loss='categorical_crossentropy',\n",
        "              metrics=['acc'])"
      ],
      "execution_count": 0,
      "outputs": []
    },
    {
      "cell_type": "markdown",
      "metadata": {
        "id": "knfetV1MiKQ-",
        "colab_type": "text"
      },
      "source": [
        "####[MDF-05]\n",
        "Train the model. It achieves the 98.9% accuracy."
      ]
    },
    {
      "cell_type": "code",
      "metadata": {
        "id": "LlQCTsKKXkr5",
        "colab_type": "code",
        "outputId": "d34d1949-5d75-454c-f452-47c98b086bde",
        "colab": {
          "base_uri": "https://localhost:8080/",
          "height": 452
        }
      },
      "source": [
        "history = model.fit(train_images, train_labels,\n",
        "                    validation_data=(test_images, test_labels),\n",
        "                    batch_size=128, epochs=10)"
      ],
      "execution_count": 5,
      "outputs": [
        {
          "output_type": "stream",
          "text": [
            "WARNING:tensorflow:From /usr/local/lib/python3.6/dist-packages/tensorflow/python/ops/math_ops.py:3066: to_int32 (from tensorflow.python.ops.math_ops) is deprecated and will be removed in a future version.\n",
            "Instructions for updating:\n",
            "Use tf.cast instead.\n",
            "Train on 60000 samples, validate on 10000 samples\n",
            "Epoch 1/10\n",
            "60000/60000 [==============================] - 6s 92us/step - loss: 0.1667 - acc: 0.9512 - val_loss: 0.0519 - val_acc: 0.9823\n",
            "Epoch 2/10\n",
            "60000/60000 [==============================] - 3s 48us/step - loss: 0.0508 - acc: 0.9842 - val_loss: 0.0479 - val_acc: 0.9834\n",
            "Epoch 3/10\n",
            "60000/60000 [==============================] - 3s 48us/step - loss: 0.0301 - acc: 0.9913 - val_loss: 0.0378 - val_acc: 0.9869\n",
            "Epoch 4/10\n",
            "60000/60000 [==============================] - 3s 48us/step - loss: 0.0219 - acc: 0.9931 - val_loss: 0.0358 - val_acc: 0.9884\n",
            "Epoch 5/10\n",
            "60000/60000 [==============================] - 3s 48us/step - loss: 0.0140 - acc: 0.9956 - val_loss: 0.0448 - val_acc: 0.9864\n",
            "Epoch 6/10\n",
            "60000/60000 [==============================] - 3s 48us/step - loss: 0.0107 - acc: 0.9965 - val_loss: 0.0373 - val_acc: 0.9889\n",
            "Epoch 7/10\n",
            "60000/60000 [==============================] - 3s 48us/step - loss: 0.0079 - acc: 0.9976 - val_loss: 0.0390 - val_acc: 0.9881\n",
            "Epoch 8/10\n",
            "60000/60000 [==============================] - 3s 48us/step - loss: 0.0086 - acc: 0.9970 - val_loss: 0.0326 - val_acc: 0.9902\n",
            "Epoch 9/10\n",
            "60000/60000 [==============================] - 3s 48us/step - loss: 0.0068 - acc: 0.9979 - val_loss: 0.0437 - val_acc: 0.9883\n",
            "Epoch 10/10\n",
            "60000/60000 [==============================] - 3s 48us/step - loss: 0.0054 - acc: 0.9984 - val_loss: 0.0411 - val_acc: 0.9892\n"
          ],
          "name": "stdout"
        }
      ]
    },
    {
      "cell_type": "markdown",
      "metadata": {
        "id": "TG5R1JCmtflv",
        "colab_type": "text"
      },
      "source": [
        "####[MDF-06]\n",
        "Plot charts for the accuracy and loss values."
      ]
    },
    {
      "cell_type": "code",
      "metadata": {
        "id": "s8xZbQ1j1k9Z",
        "colab_type": "code",
        "outputId": "676db9df-5284-48d1-c1a8-db974514b448",
        "colab": {
          "base_uri": "https://localhost:8080/",
          "height": 538
        }
      },
      "source": [
        "DataFrame({'acc': history.history['acc'], \n",
        "           'val_acc': history.history['val_acc']}).plot()\n",
        "DataFrame({'loss': history.history['loss'], \n",
        "           'val_loss': history.history['val_loss']}).plot()"
      ],
      "execution_count": 6,
      "outputs": [
        {
          "output_type": "execute_result",
          "data": {
            "text/plain": [
              "<matplotlib.axes._subplots.AxesSubplot at 0x7fc250a0a588>"
            ]
          },
          "metadata": {
            "tags": []
          },
          "execution_count": 6
        },
        {
          "output_type": "display_data",
          "data": {
            "image/png": "[encoded data removed]",
            "text/plain": [
              "<Figure size 432x288 with 1 Axes>"
            ]
          },
          "metadata": {
            "tags": []
          }
        },
        {
          "output_type": "display_data",
          "data": {
            "image/png": "[encoded data removed]",
            "text/plain": [
              "<Figure size 432x288 with 1 Axes>"
            ]
          },
          "metadata": {
            "tags": []
          }
        }
      ]
    },
    {
      "cell_type": "markdown",
      "metadata": {
        "id": "nPjRGMgSiYzH",
        "colab_type": "text"
      },
      "source": [
        "####[MDF-07]\n",
        "Mount your Google Drive on `/content/gdrive`."
      ]
    },
    {
      "cell_type": "code",
      "metadata": {
        "id": "KTDOKlWoe2Kz",
        "colab_type": "code",
        "outputId": "657fb34e-8c90-4baa-9a70-69f31e9bbfb7",
        "colab": {
          "base_uri": "https://localhost:8080/",
          "height": 35
        }
      },
      "source": [
        "from google.colab import drive\n",
        "drive.mount('/content/gdrive')"
      ],
      "execution_count": 7,
      "outputs": [
        {
          "output_type": "stream",
          "text": [
            "Drive already mounted at /content/gdrive; to attempt to forcibly remount, call drive.mount(\"/content/gdrive\", force_remount=True).\n"
          ],
          "name": "stdout"
        }
      ]
    },
    {
      "cell_type": "markdown",
      "metadata": {
        "id": "RX5280gwikJN",
        "colab_type": "text"
      },
      "source": [
        "####[MDF-08]\n",
        "Export the trained model as a file `MNIST_single.hd5` on your Google Drive."
      ]
    },
    {
      "cell_type": "code",
      "metadata": {
        "id": "jY2TeEWCwxix",
        "colab_type": "code",
        "outputId": "a1100d37-2e30-4009-c4d8-16d4e20ed7e5",
        "colab": {
          "base_uri": "https://localhost:8080/",
          "height": 35
        }
      },
      "source": [
        "model.save('/content/gdrive/My Drive/MNIST_single.hd5')\n",
        "!ls -lh '/content/gdrive/My Drive/MNIST_single.hd5'"
      ],
      "execution_count": 8,
      "outputs": [
        {
          "output_type": "stream",
          "text": [
            "-rw------- 1 root root 37M May 29 03:55 '/content/gdrive/My Drive/MNIST_single.hd5'\n"
          ],
          "name": "stdout"
        }
      ]
    }
  ]
}