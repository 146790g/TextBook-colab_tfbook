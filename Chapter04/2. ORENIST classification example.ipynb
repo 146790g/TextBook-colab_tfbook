{
  "nbformat": 4,
  "nbformat_minor": 0,
  "metadata": {
    "colab": {
      "name": "2. ORENIST classification example.ipynb",
      "version": "0.3.2",
      "provenance": [],
      "collapsed_sections": []
    },
    "kernelspec": {
      "name": "python3",
      "display_name": "Python 3"
    }
  },
  "cells": [
    {
      "cell_type": "markdown",
      "metadata": {
        "id": "lgnUDSqATi8P",
        "colab_type": "text"
      },
      "source": [
        "# ORENIST Classification Example"
      ]
    },
    {
      "cell_type": "markdown",
      "metadata": {
        "id": "BZiZZeljTnvv",
        "colab_type": "text"
      },
      "source": [
        "Note: This notebook is desinged to run with Python3 and CPU (no GPU) runtime.\n",
        "\n",
        "![Python 3 and CPU runtime](https://raw.githubusercontent.com/enakai00/colab_tfbook/master/docs/imgs/runtime_cpu.png)"
      ]
    },
    {
      "cell_type": "markdown",
      "metadata": {
        "id": "VJO3PPzqsq8d",
        "colab_type": "text"
      },
      "source": [
        "####[OCE-01]\n",
        "Import modules and set random seeds."
      ]
    },
    {
      "cell_type": "code",
      "metadata": {
        "id": "gB5UUoAXIVmC",
        "colab_type": "code",
        "outputId": "22d70385-a906-438f-a95a-85754b155aff",
        "colab": {
          "base_uri": "https://localhost:8080/",
          "height": 34
        }
      },
      "source": [
        "import numpy as np\n",
        "import matplotlib.pyplot as plt\n",
        "from pandas import DataFrame\n",
        "import pickle\n",
        "\n",
        "import tensorflow as tf\n",
        "import keras\n",
        "from keras import layers, models\n",
        "\n",
        "np.random.seed(20190223)\n",
        "tf.set_random_seed(20190223)"
      ],
      "execution_count": 1,
      "outputs": [
        {
          "output_type": "stream",
          "text": [
            "Using TensorFlow backend.\n"
          ],
          "name": "stderr"
        }
      ]
    },
    {
      "cell_type": "markdown",
      "metadata": {
        "id": "yz2h7_8St1wi",
        "colab_type": "text"
      },
      "source": [
        "####[OCE-02]\n",
        "Download the ORENIST dataset and store into NumPy arrays."
      ]
    },
    {
      "cell_type": "code",
      "metadata": {
        "id": "ASgzWK5AjWvn",
        "colab_type": "code",
        "outputId": "aa7a3eb1-f7f9-438e-a977-929cc61992ef",
        "colab": {
          "base_uri": "https://localhost:8080/",
          "height": 85
        }
      },
      "source": [
        "!curl -LO https://github.com/enakai00/colab_tfbook/raw/master/Chapter04/ORENIST.data\n",
        "with open('ORENIST.data', 'rb') as file:\n",
        "    images, labels = pickle.load(file)"
      ],
      "execution_count": 2,
      "outputs": [
        {
          "output_type": "stream",
          "text": [
            "  % Total    % Received % Xferd  Average Speed   Time    Time     Time  Current\n",
            "                                 Dload  Upload   Total   Spent    Left  Speed\n",
            "\r  0     0    0     0    0     0      0      0 --:--:-- --:--:-- --:--:--     0\r  0     0    0     0    0     0      0      0 --:--:-- --:--:-- --:--:--     0\r100   151  100   151    0     0    394      0 --:--:-- --:--:-- --:--:--   393\n",
            "\r100  553k  100  553k    0     0   826k      0 --:--:-- --:--:-- --:--:--  826k\n"
          ],
          "name": "stdout"
        }
      ]
    },
    {
      "cell_type": "markdown",
      "metadata": {
        "id": "fBltXsSRvZn0",
        "colab_type": "text"
      },
      "source": [
        "####[OCE-03]\n",
        "Define fixed convolutional filters to extract vertical and horizontal edges."
      ]
    },
    {
      "cell_type": "code",
      "metadata": {
        "id": "BakcuKxdQoSL",
        "colab_type": "code",
        "colab": {}
      },
      "source": [
        "def edge_filter(shape=None, dtype=None):\n",
        "    filter0 = np.array(\n",
        "            [[ 2, 1, 0,-1,-2],\n",
        "             [ 3, 2, 0,-2,-3],\n",
        "             [ 4, 3, 0,-3,-4],\n",
        "             [ 3, 2, 0,-2,-3],\n",
        "             [ 2, 1, 0,-1,-2]]) / 23.0\n",
        "    filter1 = np.array(\n",
        "            [[ 2, 3, 4, 3, 2],\n",
        "             [ 1, 2, 3, 2, 1],\n",
        "             [ 0, 0, 0, 0, 0],\n",
        "             [-1,-2,-3,-2,-1],\n",
        "             [-2,-3,-4,-3,-2]]) / 23.0\n",
        "    \n",
        "    filter_array = np.zeros([5, 5, 1, 2])\n",
        "    filter_array[:, :, 0, 0] = filter0\n",
        "    filter_array[:, :, 0, 1] = filter1\n",
        "\n",
        "    return filter_array"
      ],
      "execution_count": 0,
      "outputs": []
    },
    {
      "cell_type": "markdown",
      "metadata": {
        "id": "gBrSbqujUAyW",
        "colab_type": "text"
      },
      "source": [
        "####[OCE-04]\n",
        "Define a model to classify the ORENIST dataset with the fixed filters."
      ]
    },
    {
      "cell_type": "code",
      "metadata": {
        "id": "TZw9C2dLkSvG",
        "colab_type": "code",
        "outputId": "6ec81e4a-4e1b-43ff-ae56-f537f9341158",
        "colab": {
          "base_uri": "https://localhost:8080/",
          "height": 479
        }
      },
      "source": [
        "model = models.Sequential()\n",
        "model.add(layers.Reshape((28, 28, 1), input_shape=(28*28,), name='reshape'))\n",
        "model.add(layers.Conv2D(2, (5, 5), padding='same',\n",
        "                        kernel_initializer=edge_filter,\n",
        "                        use_bias=False, trainable=False,\n",
        "                        name='conv_filter'))\n",
        "model.add(layers.Lambda(lambda x: abs(x), name='abs'))\n",
        "model.add(layers.Lambda(lambda x: keras.backend.relu(x-0.2), name='cut_off'))\n",
        "model.add(layers.MaxPooling2D((2, 2), name='max_pooling'))\n",
        "\n",
        "model.add(layers.Flatten(name='flatten'))\n",
        "model.add(layers.Dense(2, activation='tanh', name='hidden'))\n",
        "model.add(layers.Dense(3, activation='softmax', name='softmax'))\n",
        "                       \n",
        "model.summary()"
      ],
      "execution_count": 4,
      "outputs": [
        {
          "output_type": "stream",
          "text": [
            "WARNING:tensorflow:From /usr/local/lib/python3.6/dist-packages/tensorflow/python/framework/op_def_library.py:263: colocate_with (from tensorflow.python.framework.ops) is deprecated and will be removed in a future version.\n",
            "Instructions for updating:\n",
            "Colocations handled automatically by placer.\n",
            "_________________________________________________________________\n",
            "Layer (type)                 Output Shape              Param #   \n",
            "=================================================================\n",
            "reshape (Reshape)            (None, 28, 28, 1)         0         \n",
            "_________________________________________________________________\n",
            "conv_filter (Conv2D)         (None, 28, 28, 2)         50        \n",
            "_________________________________________________________________\n",
            "abs (Lambda)                 (None, 28, 28, 2)         0         \n",
            "_________________________________________________________________\n",
            "cut_off (Lambda)             (None, 28, 28, 2)         0         \n",
            "_________________________________________________________________\n",
            "max_pooling (MaxPooling2D)   (None, 14, 14, 2)         0         \n",
            "_________________________________________________________________\n",
            "flatten (Flatten)            (None, 392)               0         \n",
            "_________________________________________________________________\n",
            "hidden (Dense)               (None, 2)                 786       \n",
            "_________________________________________________________________\n",
            "softmax (Dense)              (None, 3)                 9         \n",
            "=================================================================\n",
            "Total params: 845\n",
            "Trainable params: 795\n",
            "Non-trainable params: 50\n",
            "_________________________________________________________________\n"
          ],
          "name": "stdout"
        }
      ]
    },
    {
      "cell_type": "markdown",
      "metadata": {
        "id": "igebfyeyUwak",
        "colab_type": "text"
      },
      "source": [
        "####[OCE-05]\n",
        "Compile the model using the Adam optimizer, and Cross entroy as a loss function."
      ]
    },
    {
      "cell_type": "code",
      "metadata": {
        "id": "YodHmwNEnWjz",
        "colab_type": "code",
        "colab": {}
      },
      "source": [
        "model.compile(optimizer='adam', \n",
        "              loss='categorical_crossentropy',\n",
        "              metrics=['acc'])"
      ],
      "execution_count": 0,
      "outputs": []
    },
    {
      "cell_type": "markdown",
      "metadata": {
        "id": "J4iR0mUUU2-u",
        "colab_type": "text"
      },
      "source": [
        "####[OCE-06]\n",
        "Train the model."
      ]
    },
    {
      "cell_type": "markdown",
      "metadata": {
        "id": "nlZkzZQzU-nH",
        "colab_type": "text"
      },
      "source": [
        ""
      ]
    },
    {
      "cell_type": "code",
      "metadata": {
        "id": "Bp6hT6n4nobF",
        "colab_type": "code",
        "outputId": "e65ff9ec-f1d5-4a9b-85ed-f6cca24765e7",
        "colab": {
          "base_uri": "https://localhost:8080/",
          "height": 88
        }
      },
      "source": [
        "history = model.fit(images, labels,\n",
        "                    batch_size=len(images), epochs=200, verbose=0)"
      ],
      "execution_count": 6,
      "outputs": [
        {
          "output_type": "stream",
          "text": [
            "WARNING:tensorflow:From /usr/local/lib/python3.6/dist-packages/tensorflow/python/ops/math_ops.py:3066: to_int32 (from tensorflow.python.ops.math_ops) is deprecated and will be removed in a future version.\n",
            "Instructions for updating:\n",
            "Use tf.cast instead.\n"
          ],
          "name": "stdout"
        }
      ]
    },
    {
      "cell_type": "markdown",
      "metadata": {
        "id": "TyXnWVUWVA98",
        "colab_type": "text"
      },
      "source": [
        "####[OCE-07]\n",
        "Plot a chart to see the accuracy of the model. It achieves tha 100% accuracy."
      ]
    },
    {
      "cell_type": "code",
      "metadata": {
        "id": "WVIdMBfb16-e",
        "colab_type": "code",
        "outputId": "d6051a9e-d395-4909-9beb-71ecc3708b10",
        "colab": {
          "base_uri": "https://localhost:8080/",
          "height": 286
        }
      },
      "source": [
        "DataFrame({'acc': history.history['acc']}).plot()"
      ],
      "execution_count": 7,
      "outputs": [
        {
          "output_type": "execute_result",
          "data": {
            "text/plain": [
              "<matplotlib.axes._subplots.AxesSubplot at 0x7f6e8552b518>"
            ]
          },
          "metadata": {
            "tags": []
          },
          "execution_count": 7
        },
        {
          "output_type": "display_data",
          "data": {
            "image/png": "[encoded data removed]",
            "text/plain": [
              "<Figure size 432x288 with 1 Axes>"
            ]
          },
          "metadata": {
            "tags": []
          }
        }
      ]
    },
    {
      "cell_type": "markdown",
      "metadata": {
        "id": "IkLexxa0VL-O",
        "colab_type": "text"
      },
      "source": [
        "####[OCE-08]\n",
        "Define a model to extract outputs from the hidden layer."
      ]
    },
    {
      "cell_type": "code",
      "metadata": {
        "id": "Wrq-1Qk4_cj9",
        "colab_type": "code",
        "colab": {}
      },
      "source": [
        "layer_outputs = [model.get_layer('hidden').output]\n",
        "model2 = models.Model(inputs=model.input, outputs=layer_outputs)"
      ],
      "execution_count": 0,
      "outputs": []
    },
    {
      "cell_type": "markdown",
      "metadata": {
        "id": "YWa1XV84Von9",
        "colab_type": "text"
      },
      "source": [
        "####[OCE-09]\n",
        "Plot a chart to show the values of $(z_1, z_2)$ for each image."
      ]
    },
    {
      "cell_type": "code",
      "metadata": {
        "id": "kneFxMS1_Qxd",
        "colab_type": "code",
        "outputId": "7c8f4df0-4a1c-49fd-ee9c-b7946257fd5b",
        "colab": {
          "base_uri": "https://localhost:8080/",
          "height": 449
        }
      },
      "source": [
        "hidden_vals = model2.predict(images)\n",
        "\n",
        "z1_vals = [[],[],[]]\n",
        "z2_vals = [[],[],[]]\n",
        "\n",
        "for hidden_val, label in zip(hidden_vals, labels):\n",
        "    label_num = np.argmax(label)\n",
        "    z1_vals[label_num].append(hidden_val[0])\n",
        "    z2_vals[label_num].append(hidden_val[1])\n",
        "    \n",
        "fig = plt.figure(figsize=(7, 7))\n",
        "subplot = fig.add_subplot(1, 1, 1)\n",
        "subplot.scatter(z1_vals[0], z2_vals[0], s=100, marker='|')\n",
        "subplot.scatter(z1_vals[1], z2_vals[1], s=100, marker='_')\n",
        "subplot.scatter(z1_vals[2], z2_vals[2], s=100, marker='+')"
      ],
      "execution_count": 9,
      "outputs": [
        {
          "output_type": "execute_result",
          "data": {
            "text/plain": [
              "<matplotlib.collections.PathCollection at 0x7f6e7eba5da0>"
            ]
          },
          "metadata": {
            "tags": []
          },
          "execution_count": 9
        },
        {
          "output_type": "display_data",
          "data": {
            "image/png": "[encoded data removed]",
            "text/plain": [
              "<Figure size 504x504 with 1 Axes>"
            ]
          },
          "metadata": {
            "tags": []
          }
        }
      ]
    }
  ]
}