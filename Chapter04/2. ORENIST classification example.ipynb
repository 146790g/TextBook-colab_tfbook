{
  "nbformat": 4,
  "nbformat_minor": 0,
  "metadata": {
    "colab": {
      "name": "2. ORENIST classification example.ipynb",
      "version": "0.3.2",
      "provenance": [],
      "collapsed_sections": []
    },
    "kernelspec": {
      "name": "python3",
      "display_name": "Python 3"
    }
  },
  "cells": [
    {
      "metadata": {
        "id": "lgnUDSqATi8P",
        "colab_type": "text"
      },
      "cell_type": "markdown",
      "source": [
        "# ORENIST Classification Example"
      ]
    },
    {
      "metadata": {
        "id": "BZiZZeljTnvv",
        "colab_type": "text"
      },
      "cell_type": "markdown",
      "source": [
        "Note: This notebook is desinged to run with Python3 and CPU (no GPU) runtime.\n",
        "\n",
        "![Python 3 and CPU runtime](https://raw.githubusercontent.com/enakai00/colab_tfbook/master/docs/imgs/runtime_cpu.png)"
      ]
    },
    {
      "metadata": {
        "id": "VJO3PPzqsq8d",
        "colab_type": "text"
      },
      "cell_type": "markdown",
      "source": [
        "####[OCE-01]\n",
        "Import modules and set random seeds."
      ]
    },
    {
      "metadata": {
        "id": "gB5UUoAXIVmC",
        "colab_type": "code",
        "outputId": "6a1b598a-b4ac-4508-a33f-4f7c318fdf43",
        "colab": {
          "base_uri": "https://localhost:8080/",
          "height": 35
        }
      },
      "cell_type": "code",
      "source": [
        "import numpy as np\n",
        "import matplotlib.pyplot as plt\n",
        "from pandas import DataFrame\n",
        "import pickle\n",
        "\n",
        "import tensorflow as tf\n",
        "import keras\n",
        "from keras import layers\n",
        "from keras import models\n",
        "from keras.datasets import mnist\n",
        "\n",
        "np.random.seed(20190223)\n",
        "tf.set_random_seed(20190223)"
      ],
      "execution_count": 1,
      "outputs": [
        {
          "output_type": "stream",
          "text": [
            "Using TensorFlow backend.\n"
          ],
          "name": "stderr"
        }
      ]
    },
    {
      "metadata": {
        "id": "yz2h7_8St1wi",
        "colab_type": "text"
      },
      "cell_type": "markdown",
      "source": [
        "####[OCE-02]\n",
        "Download the ORENIST dataset and store into NumPy arrays."
      ]
    },
    {
      "metadata": {
        "id": "ASgzWK5AjWvn",
        "colab_type": "code",
        "outputId": "760c10a3-eb64-407b-f918-df6bfa1e3f61",
        "colab": {
          "base_uri": "https://localhost:8080/",
          "height": 86
        }
      },
      "cell_type": "code",
      "source": [
        "!curl -LO https://github.com/enakai00/colab_tfbook/raw/master/Chapter04/ORENIST.data\n",
        "with open('ORENIST.data', 'rb') as file:\n",
        "    images, labels = pickle.load(file)"
      ],
      "execution_count": 2,
      "outputs": [
        {
          "output_type": "stream",
          "text": [
            "  % Total    % Received % Xferd  Average Speed   Time    Time     Time  Current\n",
            "                                 Dload  Upload   Total   Spent    Left  Speed\n",
            "\r  0     0    0     0    0     0      0      0 --:--:-- --:--:-- --:--:--     0\r100   151  100   151    0     0    838      0 --:--:-- --:--:-- --:--:--   838\n",
            "\r  0  553k    0  1921    0     0   5321      0  0:01:46 --:--:--  0:01:46  5321\r100  553k  100  553k    0     0  1305k      0 --:--:-- --:--:-- --:--:-- 8898k\n"
          ],
          "name": "stdout"
        }
      ]
    },
    {
      "metadata": {
        "id": "fBltXsSRvZn0",
        "colab_type": "text"
      },
      "cell_type": "markdown",
      "source": [
        "####[OCE-03]\n",
        "Define fixed convolutional filters to extract vertical and horizontal edges."
      ]
    },
    {
      "metadata": {
        "id": "BakcuKxdQoSL",
        "colab_type": "code",
        "colab": {}
      },
      "cell_type": "code",
      "source": [
        "def edge_filter(shape=None, dtype=None):\n",
        "    filter0 = np.array(\n",
        "            [[ 2, 1, 0,-1,-2],\n",
        "             [ 3, 2, 0,-2,-3],\n",
        "             [ 4, 3, 0,-3,-4],\n",
        "             [ 3, 2, 0,-2,-3],\n",
        "             [ 2, 1, 0,-1,-2]]) / 23.0\n",
        "    filter1 = np.array(\n",
        "            [[ 2, 3, 4, 3, 2],\n",
        "             [ 1, 2, 3, 2, 1],\n",
        "             [ 0, 0, 0, 0, 0],\n",
        "             [-1,-2,-3,-2,-1],\n",
        "             [-2,-3,-4,-3,-2]]) / 23.0\n",
        "    \n",
        "    filter_array = np.zeros([5, 5, 1, 2])\n",
        "    filter_array[:, :, 0, 0] = filter0\n",
        "    filter_array[:, :, 0, 1] = filter1\n",
        "\n",
        "    return filter_array"
      ],
      "execution_count": 0,
      "outputs": []
    },
    {
      "metadata": {
        "id": "gBrSbqujUAyW",
        "colab_type": "text"
      },
      "cell_type": "markdown",
      "source": [
        "####[OCE-04]\n",
        "Define a model to classify the ORENIST dataset with the fixed filters."
      ]
    },
    {
      "metadata": {
        "id": "TZw9C2dLkSvG",
        "colab_type": "code",
        "outputId": "5d498d04-682b-488b-d8b9-72d9f4d9509b",
        "colab": {
          "base_uri": "https://localhost:8080/",
          "height": 486
        }
      },
      "cell_type": "code",
      "source": [
        "model = models.Sequential()\n",
        "model.add(layers.Reshape((28, 28, 1), input_shape=(28*28,), name='reshape'))\n",
        "model.add(layers.Conv2D(2, (5, 5), padding='same',\n",
        "                        kernel_initializer=edge_filter,\n",
        "                        use_bias=False,\n",
        "                        name='conv_filter'))\n",
        "model.add(layers.Lambda(lambda x: abs(x), name='abs'))\n",
        "model.add(layers.Lambda(lambda x: keras.backend.relu(x-0.2), name='cut_off'))\n",
        "model.add(layers.MaxPooling2D((2, 2), name='max_pooling'))\n",
        "\n",
        "model.add(layers.Flatten(name='flatten'))\n",
        "model.add(layers.Dense(2, activation='tanh', name='hidden'))\n",
        "model.add(layers.Dense(3, activation='softmax', name='softmax'))\n",
        "                       \n",
        "model.summary()"
      ],
      "execution_count": 4,
      "outputs": [
        {
          "output_type": "stream",
          "text": [
            "WARNING:tensorflow:From /usr/local/lib/python3.6/dist-packages/tensorflow/python/framework/op_def_library.py:263: colocate_with (from tensorflow.python.framework.ops) is deprecated and will be removed in a future version.\n",
            "Instructions for updating:\n",
            "Colocations handled automatically by placer.\n",
            "_________________________________________________________________\n",
            "Layer (type)                 Output Shape              Param #   \n",
            "=================================================================\n",
            "reshape (Reshape)            (None, 28, 28, 1)         0         \n",
            "_________________________________________________________________\n",
            "conv_filter (Conv2D)         (None, 28, 28, 2)         50        \n",
            "_________________________________________________________________\n",
            "abs (Lambda)                 (None, 28, 28, 2)         0         \n",
            "_________________________________________________________________\n",
            "cut_off (Lambda)             (None, 28, 28, 2)         0         \n",
            "_________________________________________________________________\n",
            "max_pooling (MaxPooling2D)   (None, 14, 14, 2)         0         \n",
            "_________________________________________________________________\n",
            "flatten (Flatten)            (None, 392)               0         \n",
            "_________________________________________________________________\n",
            "hidden (Dense)               (None, 2)                 786       \n",
            "_________________________________________________________________\n",
            "softmax (Dense)              (None, 3)                 9         \n",
            "=================================================================\n",
            "Total params: 845\n",
            "Trainable params: 845\n",
            "Non-trainable params: 0\n",
            "_________________________________________________________________\n"
          ],
          "name": "stdout"
        }
      ]
    },
    {
      "metadata": {
        "id": "igebfyeyUwak",
        "colab_type": "text"
      },
      "cell_type": "markdown",
      "source": [
        "####[OCE-05]\n",
        "Compile the model using the Adam optimizer, and Cross entroy as a loss function."
      ]
    },
    {
      "metadata": {
        "id": "YodHmwNEnWjz",
        "colab_type": "code",
        "colab": {}
      },
      "cell_type": "code",
      "source": [
        "model.compile(optimizer='adam', \n",
        "              loss='categorical_crossentropy',\n",
        "              metrics=['acc'])"
      ],
      "execution_count": 0,
      "outputs": []
    },
    {
      "metadata": {
        "id": "J4iR0mUUU2-u",
        "colab_type": "text"
      },
      "cell_type": "markdown",
      "source": [
        "####[OCE-06]\n",
        "Train the model."
      ]
    },
    {
      "metadata": {
        "id": "nlZkzZQzU-nH",
        "colab_type": "text"
      },
      "cell_type": "markdown",
      "source": [
        ""
      ]
    },
    {
      "metadata": {
        "id": "Bp6hT6n4nobF",
        "colab_type": "code",
        "outputId": "34c33203-d89c-49da-9d9c-b3fd3f01f418",
        "colab": {
          "base_uri": "https://localhost:8080/",
          "height": 89
        }
      },
      "cell_type": "code",
      "source": [
        "history = model.fit(images, labels,\n",
        "                    batch_size=len(images), epochs=100, verbose=0)"
      ],
      "execution_count": 6,
      "outputs": [
        {
          "output_type": "stream",
          "text": [
            "WARNING:tensorflow:From /usr/local/lib/python3.6/dist-packages/tensorflow/python/ops/math_ops.py:3066: to_int32 (from tensorflow.python.ops.math_ops) is deprecated and will be removed in a future version.\n",
            "Instructions for updating:\n",
            "Use tf.cast instead.\n"
          ],
          "name": "stdout"
        }
      ]
    },
    {
      "metadata": {
        "id": "TyXnWVUWVA98",
        "colab_type": "text"
      },
      "cell_type": "markdown",
      "source": [
        "####[OCE-07]\n",
        "Plot a chart to see the accuracy of the model. It achieves tha 100% accuracy."
      ]
    },
    {
      "metadata": {
        "id": "WVIdMBfb16-e",
        "colab_type": "code",
        "outputId": "a7d090e3-6b59-4699-bb3c-fde756d4d0df",
        "colab": {
          "base_uri": "https://localhost:8080/",
          "height": 286
        }
      },
      "cell_type": "code",
      "source": [
        "DataFrame({'acc': history.history['acc']}).plot()"
      ],
      "execution_count": 7,
      "outputs": [
        {
          "output_type": "execute_result",
          "data": {
            "text/plain": [
              "<matplotlib.axes._subplots.AxesSubplot at 0x7f732b2679e8>"
            ]
          },
          "metadata": {
            "tags": []
          },
          "execution_count": 7
        },
        {
          "output_type": "display_data",
          "data": {
            "image/png": "[encoded data removed]",
            "text/plain": [
              "<Figure size 432x288 with 1 Axes>"
            ]
          },
          "metadata": {
            "tags": []
          }
        }
      ]
    },
    {
      "metadata": {
        "id": "IkLexxa0VL-O",
        "colab_type": "text"
      },
      "cell_type": "markdown",
      "source": [
        "####[OCE-08]\n",
        "Define a model to extract outputs from the hidden layer."
      ]
    },
    {
      "metadata": {
        "id": "Wrq-1Qk4_cj9",
        "colab_type": "code",
        "colab": {}
      },
      "cell_type": "code",
      "source": [
        "layer_outputs = [model.get_layer('hidden').output]\n",
        "model2 = models.Model(inputs=model.input, outputs=layer_outputs)"
      ],
      "execution_count": 0,
      "outputs": []
    },
    {
      "metadata": {
        "id": "YWa1XV84Von9",
        "colab_type": "text"
      },
      "cell_type": "markdown",
      "source": [
        "####[OCE-09]\n",
        "Plot a chart to show the values of $(z_1, z_2)$ for each image."
      ]
    },
    {
      "metadata": {
        "id": "kneFxMS1_Qxd",
        "colab_type": "code",
        "outputId": "c0ed811b-2fe5-47dc-d0fb-c27929cab3a2",
        "colab": {
          "base_uri": "https://localhost:8080/",
          "height": 450
        }
      },
      "cell_type": "code",
      "source": [
        "hidden_vals = model2.predict(images)\n",
        "\n",
        "z1_vals = [[],[],[]]\n",
        "z2_vals = [[],[],[]]\n",
        "\n",
        "for hidden_val, label in zip(hidden_vals, labels):\n",
        "    label_num = np.argmax(label)\n",
        "    z1_vals[label_num].append(hidden_val[0])\n",
        "    z2_vals[label_num].append(hidden_val[1])\n",
        "    \n",
        "fig = plt.figure(figsize=(7, 7))\n",
        "subplot = fig.add_subplot(1, 1, 1)\n",
        "#subplot.grid(None)\n",
        "subplot.scatter(z1_vals[0], z2_vals[0], s=100, marker='|')\n",
        "subplot.scatter(z1_vals[1], z2_vals[1], s=100, marker='_')\n",
        "subplot.scatter(z1_vals[2], z2_vals[2], s=100, marker='+')"
      ],
      "execution_count": 9,
      "outputs": [
        {
          "output_type": "execute_result",
          "data": {
            "text/plain": [
              "<matplotlib.collections.PathCollection at 0x7f7323869278>"
            ]
          },
          "metadata": {
            "tags": []
          },
          "execution_count": 9
        },
        {
          "output_type": "display_data",
          "data": {
            "image/png": "[encoded data removed]",
            "text/plain": [
              "<Figure size 504x504 with 1 Axes>"
            ]
          },
          "metadata": {
            "tags": []
          }
        }
      ]
    }
  ]
}