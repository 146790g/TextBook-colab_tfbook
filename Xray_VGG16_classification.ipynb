{
  "nbformat": 4,
  "nbformat_minor": 0,
  "metadata": {
    "kernelspec": {
      "display_name": "Python 3",
      "language": "python",
      "name": "python3"
    },
    "language_info": {
      "codemirror_mode": {
        "name": "ipython",
        "version": 3
      },
      "file_extension": ".py",
      "mimetype": "text/x-python",
      "name": "python",
      "nbconvert_exporter": "python",
      "pygments_lexer": "ipython3",
      "version": "3.6.10"
    },
    "colab": {
      "name": "55 Xray VGG16 classification.ipynb",
      "provenance": [],
      "collapsed_sections": [],
      "include_colab_link": true
    },
    "accelerator": "GPU"
  },
  "cells": [
    {
      "cell_type": "markdown",
      "metadata": {
        "id": "view-in-github",
        "colab_type": "text"
      },
      "source": [
        "<a href=\"https://colab.research.google.com/github/146790g/TextBook-colab_tfbook/blob/master/Xray_VGG16_classification.ipynb\" target=\"_parent\"><img src=\"https://colab.research.google.com/assets/colab-badge.svg\" alt=\"Open In Colab\"/></a>"
      ]
    },
    {
      "cell_type": "markdown",
      "metadata": {
        "id": "Aos1i1OBdV3W",
        "colab_type": "text"
      },
      "source": [
        "# 深層学習 VGG16モデルを用いたＸ線写真の解析"
      ]
    },
    {
      "cell_type": "code",
      "metadata": {
        "id": "MjZpD7wcfTPA",
        "colab_type": "code",
        "colab": {}
      },
      "source": [
        "%tensorflow_version 2.x"
      ],
      "execution_count": null,
      "outputs": []
    },
    {
      "cell_type": "code",
      "metadata": {
        "id": "dIVAoJRwTq1x",
        "colab_type": "code",
        "colab": {
          "base_uri": "https://localhost:8080/",
          "height": 127
        },
        "outputId": "fba8636f-5dd4-443d-c925-ad73eabe6cf3"
      },
      "source": [
        "%pwd\n",
        "from google.colab import drive\n",
        "drive.mount('/content/gdrive')"
      ],
      "execution_count": null,
      "outputs": [
        {
          "output_type": "stream",
          "text": [
            "Go to this URL in a browser: https://accounts.google.com/o/oauth2/auth?client_id=947318989803-6bn6qk8qdgf4n4g3pfee6491hc0brc4i.apps.googleusercontent.com&redirect_uri=urn%3aietf%3awg%3aoauth%3a2.0%3aoob&response_type=code&scope=email%20https%3a%2f%2fwww.googleapis.com%2fauth%2fdocs.test%20https%3a%2f%2fwww.googleapis.com%2fauth%2fdrive%20https%3a%2f%2fwww.googleapis.com%2fauth%2fdrive.photos.readonly%20https%3a%2f%2fwww.googleapis.com%2fauth%2fpeopleapi.readonly\n",
            "\n",
            "Enter your authorization code:\n",
            "··········\n",
            "Mounted at /content/gdrive\n"
          ],
          "name": "stdout"
        }
      ]
    },
    {
      "cell_type": "code",
      "metadata": {
        "id": "mjdqpKr_VU7-",
        "colab_type": "code",
        "colab": {
          "base_uri": "https://localhost:8080/",
          "height": 71
        },
        "outputId": "f30d4ccb-6f3c-4372-c011-b3f7f8e3f6fd"
      },
      "source": [
        "!ls -lh '/content/gdrive/My Drive/Colab Notebooks/Xray for Penumonia/data'"
      ],
      "execution_count": null,
      "outputs": [
        {
          "output_type": "stream",
          "text": [
            "total 8.0K\n",
            "drwx------ 4 root root 4.0K Jun 23 04:53 train\n",
            "drwx------ 4 root root 4.0K Jun 23 04:53 validation\n"
          ],
          "name": "stdout"
        }
      ]
    },
    {
      "cell_type": "code",
      "metadata": {
        "id": "PM4Bw3tFdESi",
        "colab_type": "code",
        "colab": {}
      },
      "source": [
        "from keras.applications.vgg16 import VGG16\n",
        "from keras.preprocessing.image import ImageDataGenerator,load_img\n",
        "import numpy as np\n",
        "import os\n",
        "#import Pillow\n",
        "#from PIL import Image\n",
        "#import opencv\n",
        "from PIL import Image\n",
        "from keras.preprocessing.image import load_img, save_img, img_to_array, array_to_img\n",
        "import numpy as np\n",
        "from pandas import DataFrame\n",
        "import matplotlib.pyplot as plt\n",
        "\n",
        "import tensorflow as tf\n",
        "from tensorflow.keras import layers, models, initializers\n",
        "\n",
        "from keras.models import Sequential, Model\n",
        "from keras.layers import Input, Activation, Dropout, Flatten, Dense\n",
        "from keras.preprocessing.image import ImageDataGenerator\n",
        "from keras import optimizers\n",
        "import numpy as np\n",
        "\n",
        "\n",
        "\n",
        "\n",
        "#num_train = 1000              # 訓練データの画像数\n",
        "#num_validation = 1000          # テストデータの画像数\n",
        "\n",
        "img_h, img_w = 150, 150\n",
        "channels = 3\n",
        "batch_size = 32               # ミニバッチのサイズ\n",
        "train_data_dir = '/content/gdrive/My Drive/Colab Notebooks/Xray for Penumonia/data/train' # 訓練データのフォルダー\n",
        "validation_data_dir = '/content/gdrive/My Drive/Colab Notebooks/Xray for Penumonia/data/validation' # テストデータのフォルダー\n",
        "result_dir = '/content/gdrive/My Drive/Colab Notebooks/Xray for Penumonia/results'        # VGG16の出力結果を保存するフォルダー\n",
        "\n",
        "    \n"
      ],
      "execution_count": null,
      "outputs": []
    },
    {
      "cell_type": "markdown",
      "metadata": {
        "id": "O7f_38t-xU4q",
        "colab_type": "text"
      },
      "source": [
        "### VGG16とFC層を結合したモデルの構築"
      ]
    },
    {
      "cell_type": "code",
      "metadata": {
        "id": "DHpyu8f-sNvj",
        "colab_type": "code",
        "colab": {
          "base_uri": "https://localhost:8080/",
          "height": 1000
        },
        "outputId": "a2225791-11b4-4754-dd13-1329d5aa40e6"
      },
      "source": [
        " ## VGG16モデルと学習済み重みを読み込む\n",
        "vgg16_model = VGG16(include_top=False,        # 全結合層は層（FC）は読み込まない\n",
        "                    weights='imagenet',       # ImageNetで学習した重みを利用\n",
        "                    input_shape=(150, 150, 3) # 入力データの形状\n",
        "                   )\n",
        "# VGG16モデルのサマリを出力\n",
        "print('VGG16モデルのサマリ')\n",
        "vgg16_model.summary()\n",
        "\n",
        "# VGG16のblock1_conv1からblock4_poolまでを凍結\n",
        "# block5のみを学習可能にする\n",
        "vgg16_model.trainable = True\n",
        "set_trainable = False\n",
        "for layer in vgg16_model.layers:\n",
        "    if layer.name == 'block5_conv1':\n",
        "        set_trainable = True\n",
        "    if set_trainable:        \n",
        "        layer.trainable = True\n",
        "    else:\n",
        "        layer.trainable = False\n",
        "    \n",
        "## 凍結後のサマリを出力\n",
        "print('凍結後のサマリ')\n",
        "vgg16_model.summary()\n",
        "\n",
        "## VGG16モデルと独自のFC層を連結した計算モデルを構築\n",
        "# Sequentialオブジェクトを生成\n",
        "model = Sequential()\n",
        "\n",
        "# VGG16モデルを追加\n",
        "model.add(vgg16_model)\n",
        "# Flatten層\n",
        "model.add(Flatten())\n",
        "# 全結合層\n",
        "model.add(Dense(256,                 # ニューロン数は256\n",
        "                activation='relu'    # 活性化関数はReLU\n",
        "                ))\n",
        "#第８層（出力層）\n",
        "model.add(Dense(1, activation='sigmoid', name='sigmoid'))\n",
        "\n",
        "# VGG16に独自のFC層を結合したモデルのサマリを出力\n",
        "print('結合後のサマリ')\n",
        "model.summary()    \n",
        "     \n",
        "     \n",
        "     \n",
        "  "
      ],
      "execution_count": null,
      "outputs": [
        {
          "output_type": "stream",
          "text": [
            "VGG16モデルのサマリ\n",
            "Model: \"vgg16\"\n",
            "_________________________________________________________________\n",
            "Layer (type)                 Output Shape              Param #   \n",
            "=================================================================\n",
            "input_2 (InputLayer)         (None, 150, 150, 3)       0         \n",
            "_________________________________________________________________\n",
            "block1_conv1 (Conv2D)        (None, 150, 150, 64)      1792      \n",
            "_________________________________________________________________\n",
            "block1_conv2 (Conv2D)        (None, 150, 150, 64)      36928     \n",
            "_________________________________________________________________\n",
            "block1_pool (MaxPooling2D)   (None, 75, 75, 64)        0         \n",
            "_________________________________________________________________\n",
            "block2_conv1 (Conv2D)        (None, 75, 75, 128)       73856     \n",
            "_________________________________________________________________\n",
            "block2_conv2 (Conv2D)        (None, 75, 75, 128)       147584    \n",
            "_________________________________________________________________\n",
            "block2_pool (MaxPooling2D)   (None, 37, 37, 128)       0         \n",
            "_________________________________________________________________\n",
            "block3_conv1 (Conv2D)        (None, 37, 37, 256)       295168    \n",
            "_________________________________________________________________\n",
            "block3_conv2 (Conv2D)        (None, 37, 37, 256)       590080    \n",
            "_________________________________________________________________\n",
            "block3_conv3 (Conv2D)        (None, 37, 37, 256)       590080    \n",
            "_________________________________________________________________\n",
            "block3_pool (MaxPooling2D)   (None, 18, 18, 256)       0         \n",
            "_________________________________________________________________\n",
            "block4_conv1 (Conv2D)        (None, 18, 18, 512)       1180160   \n",
            "_________________________________________________________________\n",
            "block4_conv2 (Conv2D)        (None, 18, 18, 512)       2359808   \n",
            "_________________________________________________________________\n",
            "block4_conv3 (Conv2D)        (None, 18, 18, 512)       2359808   \n",
            "_________________________________________________________________\n",
            "block4_pool (MaxPooling2D)   (None, 9, 9, 512)         0         \n",
            "_________________________________________________________________\n",
            "block5_conv1 (Conv2D)        (None, 9, 9, 512)         2359808   \n",
            "_________________________________________________________________\n",
            "block5_conv2 (Conv2D)        (None, 9, 9, 512)         2359808   \n",
            "_________________________________________________________________\n",
            "block5_conv3 (Conv2D)        (None, 9, 9, 512)         2359808   \n",
            "_________________________________________________________________\n",
            "block5_pool (MaxPooling2D)   (None, 4, 4, 512)         0         \n",
            "=================================================================\n",
            "Total params: 14,714,688\n",
            "Trainable params: 14,714,688\n",
            "Non-trainable params: 0\n",
            "_________________________________________________________________\n",
            "凍結後のサマリ\n",
            "Model: \"vgg16\"\n",
            "_________________________________________________________________\n",
            "Layer (type)                 Output Shape              Param #   \n",
            "=================================================================\n",
            "input_2 (InputLayer)         (None, 150, 150, 3)       0         \n",
            "_________________________________________________________________\n",
            "block1_conv1 (Conv2D)        (None, 150, 150, 64)      1792      \n",
            "_________________________________________________________________\n",
            "block1_conv2 (Conv2D)        (None, 150, 150, 64)      36928     \n",
            "_________________________________________________________________\n",
            "block1_pool (MaxPooling2D)   (None, 75, 75, 64)        0         \n",
            "_________________________________________________________________\n",
            "block2_conv1 (Conv2D)        (None, 75, 75, 128)       73856     \n",
            "_________________________________________________________________\n",
            "block2_conv2 (Conv2D)        (None, 75, 75, 128)       147584    \n",
            "_________________________________________________________________\n",
            "block2_pool (MaxPooling2D)   (None, 37, 37, 128)       0         \n",
            "_________________________________________________________________\n",
            "block3_conv1 (Conv2D)        (None, 37, 37, 256)       295168    \n",
            "_________________________________________________________________\n",
            "block3_conv2 (Conv2D)        (None, 37, 37, 256)       590080    \n",
            "_________________________________________________________________\n",
            "block3_conv3 (Conv2D)        (None, 37, 37, 256)       590080    \n",
            "_________________________________________________________________\n",
            "block3_pool (MaxPooling2D)   (None, 18, 18, 256)       0         \n",
            "_________________________________________________________________\n",
            "block4_conv1 (Conv2D)        (None, 18, 18, 512)       1180160   \n",
            "_________________________________________________________________\n",
            "block4_conv2 (Conv2D)        (None, 18, 18, 512)       2359808   \n",
            "_________________________________________________________________\n",
            "block4_conv3 (Conv2D)        (None, 18, 18, 512)       2359808   \n",
            "_________________________________________________________________\n",
            "block4_pool (MaxPooling2D)   (None, 9, 9, 512)         0         \n",
            "_________________________________________________________________\n",
            "block5_conv1 (Conv2D)        (None, 9, 9, 512)         2359808   \n",
            "_________________________________________________________________\n",
            "block5_conv2 (Conv2D)        (None, 9, 9, 512)         2359808   \n",
            "_________________________________________________________________\n",
            "block5_conv3 (Conv2D)        (None, 9, 9, 512)         2359808   \n",
            "_________________________________________________________________\n",
            "block5_pool (MaxPooling2D)   (None, 4, 4, 512)         0         \n",
            "=================================================================\n",
            "Total params: 14,714,688\n",
            "Trainable params: 7,079,424\n",
            "Non-trainable params: 7,635,264\n",
            "_________________________________________________________________\n",
            "結合後のサマリ\n",
            "Model: \"sequential_2\"\n",
            "_________________________________________________________________\n",
            "Layer (type)                 Output Shape              Param #   \n",
            "=================================================================\n",
            "vgg16 (Model)                (None, 4, 4, 512)         14714688  \n",
            "_________________________________________________________________\n",
            "flatten_2 (Flatten)          (None, 8192)              0         \n",
            "_________________________________________________________________\n",
            "dense_2 (Dense)              (None, 256)               2097408   \n",
            "_________________________________________________________________\n",
            "sigmoid (Dense)              (None, 1)                 257       \n",
            "=================================================================\n",
            "Total params: 16,812,353\n",
            "Trainable params: 9,177,089\n",
            "Non-trainable params: 7,635,264\n",
            "_________________________________________________________________\n"
          ],
          "name": "stdout"
        }
      ]
    },
    {
      "cell_type": "code",
      "metadata": {
        "id": "Swj3r46OsC61",
        "colab_type": "code",
        "colab": {}
      },
      "source": [
        "## モデルのコンパイル\n",
        "# 最適化はRMSpropで行う\n",
        "# 学習率を小さくしたのはファインチューニングを\n",
        "\n",
        "model.compile(loss='binary_crossentropy',\n",
        "              optimizer=optimizers.RMSprop(lr=1e-5),\n",
        "              metrics=['accuracy'])"
      ],
      "execution_count": null,
      "outputs": []
    },
    {
      "cell_type": "code",
      "metadata": {
        "id": "bNUtYM7c09px",
        "colab_type": "code",
        "colab": {
          "base_uri": "https://localhost:8080/",
          "height": 35
        },
        "outputId": "5f55889d-27e3-4531-fac0-7215c0c23e5e"
      },
      "source": [
        "%pwd"
      ],
      "execution_count": null,
      "outputs": [
        {
          "output_type": "execute_result",
          "data": {
            "text/plain": [
              "'/content'"
            ]
          },
          "metadata": {
            "tags": []
          },
          "execution_count": 6
        }
      ]
    },
    {
      "cell_type": "markdown",
      "metadata": {
        "id": "lfuYrVr6yzjq",
        "colab_type": "text"
      },
      "source": [
        "### データ拡張"
      ]
    },
    {
      "cell_type": "code",
      "metadata": {
        "id": "HHM8zUDzzEdw",
        "colab_type": "code",
        "colab": {
          "base_uri": "https://localhost:8080/",
          "height": 53
        },
        "outputId": "5e37c9f6-6c88-4b44-d648-1faa561dbd50"
      },
      "source": [
        "\n",
        "img_h, img_w = 150, 150\n",
        "channels = 3\n",
        "batch_size = 32               # ミニバッチのサイズ\n",
        "#train_data_dir = 'content/data/train' # 訓練データのフォルダー\n",
        "#validation_data_dir = 'content/data/validation' # テストデータのフォルダー\n",
        "#result_dir = 'results'        # VGG16の出力結果を保存するフォルダー  \n",
        "\n",
        "\n",
        "## 訓練データを読み込むジェネレーターを生成\n",
        "# データ拡張を行う\n",
        "train_datagen = ImageDataGenerator(\n",
        "    rescale=1.0 / 255,\n",
        "    rotation_range=40,      # 40度の範囲でランダムに回転させる\n",
        "    width_shift_range=0.2,  # 横サイズの0.2の割合でランダムに水平移動\n",
        "    height_shift_range=0.2, # 縦サイズの0.2の割合でランダムに垂直移動\n",
        "    horizontal_flip=True,   # 水平方向にランダムに反転、左右の入れ替え\n",
        "    zoom_range=0.2,         # ランダムに拡大\n",
        "    shear_range=0.2         # シアー変換をかける\n",
        ")\n",
        "\n",
        "\n",
        "# Dog vs Catの訓練データを生成するするジェネレーター\n",
        "train_generator = train_datagen.flow_from_directory(\n",
        "    train_data_dir,             # 訓練データのフォルダー\n",
        "    target_size=(img_h, img_w), # 画像をリサイズ\n",
        "    batch_size=batch_size,      # ミニバッチのサイズ\n",
        "    class_mode='binary'         # 出力層は二値のラベルが必要\n",
        ")\n",
        "\n",
        "\n",
        "## テストデータを読み込むジェネレーターを生成\n",
        "test_datagen = ImageDataGenerator(rescale=1.0 / 255)\n",
        "\n",
        "\n",
        "# Dog vs Catのテストデータを生成するするジェネレーター\n",
        "validation_generator = test_datagen.flow_from_directory(\n",
        "    validation_data_dir,        # テストデータのフォルダー\n",
        "    target_size=(img_h, img_w), # 画像をリサイズ\n",
        "    batch_size=batch_size,      # ミニバッチのサイズ\n",
        "    class_mode='binary'         # 出力層は二値のラベルが必要\n",
        ")"
      ],
      "execution_count": null,
      "outputs": [
        {
          "output_type": "stream",
          "text": [
            "Found 5218 images belonging to 2 classes.\n",
            "Found 624 images belonging to 2 classes.\n"
          ],
          "name": "stdout"
        }
      ]
    },
    {
      "cell_type": "code",
      "metadata": {
        "id": "J6YaPZukfl9x",
        "colab_type": "code",
        "colab": {
          "base_uri": "https://localhost:8080/",
          "height": 1000
        },
        "outputId": "98933d1e-5b7b-4fc5-b55a-5651d51e37ac"
      },
      "source": [
        "epochs=50\n",
        "num_train = 5218\n",
        "num_validation = 624\n",
        "\n",
        "## 学習を行う\n",
        "\n",
        "# 訓練データのジェネレーターのサイズ：63\n",
        "print(len(train_generator))\n",
        "# 訓練データの数をミニバッチのサイズで割った値：62\n",
        "print(num_train//batch_size)\n",
        "# テストデータのジェネレーターのサイズ：25\n",
        "print(len(validation_generator))\n",
        "# テストデータの数をミニバッチのサイズで割った値：25\n",
        "print(num_validation//batch_size)\n",
        "\n",
        "# モデルのファインチューニング\n",
        "history = model.fit_generator(\n",
        "    \n",
        "    # 訓練データのジェネレーター\n",
        "    generator=train_generator,\n",
        "    # 各エポックにおけるステップ数として\n",
        "    # 訓練データの数をミニバッチのサイズで割った値を指定\n",
        "    steps_per_epoch=num_train//batch_size,\n",
        "    # エポック数（学習回数）\n",
        "    epochs=epochs,\n",
        "    # テストデータのジェネレーター\n",
        "    validation_data=validation_generator,\n",
        "    # テストにおける各エポックにおけるステップ数として\n",
        "    # テストデータの数をミニバッチのサイズで割った値を指定\n",
        "    validation_steps=num_validation//batch_size\n",
        ")"
      ],
      "execution_count": null,
      "outputs": [
        {
          "output_type": "stream",
          "text": [
            "164\n",
            "163\n",
            "20\n",
            "19\n",
            "Epoch 1/50\n",
            " 18/163 [==>...........................] - ETA: 15:51 - loss: 0.5531 - accuracy: 0.7326"
          ],
          "name": "stdout"
        },
        {
          "output_type": "stream",
          "text": [
            "/usr/local/lib/python3.6/dist-packages/keras/utils/data_utils.py:616: UserWarning: The input 84 could not be retrieved. It could be because a worker has died.\n",
            "  UserWarning)\n"
          ],
          "name": "stderr"
        },
        {
          "output_type": "stream",
          "text": [
            " 75/163 [============>.................] - ETA: 9:32 - loss: 0.3805 - accuracy: 0.8241"
          ],
          "name": "stdout"
        },
        {
          "output_type": "stream",
          "text": [
            "/usr/local/lib/python3.6/dist-packages/keras/utils/data_utils.py:616: UserWarning: The input 26 could not be retrieved. It could be because a worker has died.\n",
            "  UserWarning)\n"
          ],
          "name": "stderr"
        },
        {
          "output_type": "stream",
          "text": [
            "103/163 [=================>............] - ETA: 6:38 - loss: 0.3367 - accuracy: 0.8472"
          ],
          "name": "stdout"
        },
        {
          "output_type": "stream",
          "text": [
            "/usr/local/lib/python3.6/dist-packages/keras/utils/data_utils.py:616: UserWarning: The input 24 could not be retrieved. It could be because a worker has died.\n",
            "  UserWarning)\n"
          ],
          "name": "stderr"
        },
        {
          "output_type": "stream",
          "text": [
            "135/163 [=======================>......] - ETA: 3:12 - loss: 0.3106 - accuracy: 0.8620"
          ],
          "name": "stdout"
        },
        {
          "output_type": "stream",
          "text": [
            "/usr/local/lib/python3.6/dist-packages/keras/utils/data_utils.py:616: UserWarning: The input 132 could not be retrieved. It could be because a worker has died.\n",
            "  UserWarning)\n"
          ],
          "name": "stderr"
        },
        {
          "output_type": "stream",
          "text": [
            "163/163 [==============================] - 1215s 7s/step - loss: 0.2910 - accuracy: 0.8710 - val_loss: 0.4309 - val_accuracy: 0.8865\n",
            "Epoch 2/50\n",
            "163/163 [==============================] - 109s 671ms/step - loss: 0.1639 - accuracy: 0.9362 - val_loss: 0.5657 - val_accuracy: 0.8564\n",
            "Epoch 3/50\n",
            "163/163 [==============================] - 109s 666ms/step - loss: 0.1482 - accuracy: 0.9441 - val_loss: 0.0734 - val_accuracy: 0.9155\n",
            "Epoch 4/50\n",
            "163/163 [==============================] - 107s 658ms/step - loss: 0.1306 - accuracy: 0.9476 - val_loss: 0.1607 - val_accuracy: 0.9088\n",
            "Epoch 5/50\n",
            "163/163 [==============================] - 107s 654ms/step - loss: 0.1262 - accuracy: 0.9503 - val_loss: 0.1372 - val_accuracy: 0.8936\n",
            "Epoch 6/50\n",
            "163/163 [==============================] - 107s 658ms/step - loss: 0.1223 - accuracy: 0.9533 - val_loss: 0.4174 - val_accuracy: 0.8801\n",
            "Epoch 7/50\n",
            "163/163 [==============================] - 107s 654ms/step - loss: 0.1094 - accuracy: 0.9589 - val_loss: 0.0905 - val_accuracy: 0.9341\n",
            "Epoch 8/50\n",
            "163/163 [==============================] - 106s 653ms/step - loss: 0.1038 - accuracy: 0.9591 - val_loss: 0.1523 - val_accuracy: 0.9088\n",
            "Epoch 9/50\n",
            "163/163 [==============================] - 107s 656ms/step - loss: 0.0979 - accuracy: 0.9620 - val_loss: 0.3432 - val_accuracy: 0.9206\n",
            "Epoch 10/50\n",
            "163/163 [==============================] - 106s 651ms/step - loss: 0.0970 - accuracy: 0.9659 - val_loss: 0.2575 - val_accuracy: 0.9274\n",
            "Epoch 11/50\n",
            "163/163 [==============================] - 105s 646ms/step - loss: 0.0892 - accuracy: 0.9668 - val_loss: 0.1514 - val_accuracy: 0.8970\n",
            "Epoch 12/50\n",
            "163/163 [==============================] - 107s 657ms/step - loss: 0.0923 - accuracy: 0.9651 - val_loss: 0.2442 - val_accuracy: 0.9189\n",
            "Epoch 13/50\n",
            "163/163 [==============================] - 105s 643ms/step - loss: 0.0868 - accuracy: 0.9670 - val_loss: 0.1549 - val_accuracy: 0.8902\n",
            "Epoch 14/50\n",
            "163/163 [==============================] - 105s 644ms/step - loss: 0.0809 - accuracy: 0.9701 - val_loss: 0.1356 - val_accuracy: 0.9257\n",
            "Epoch 15/50\n",
            "163/163 [==============================] - 107s 656ms/step - loss: 0.0807 - accuracy: 0.9695 - val_loss: 0.3205 - val_accuracy: 0.9189\n",
            "Epoch 16/50\n",
            "163/163 [==============================] - 108s 660ms/step - loss: 0.0786 - accuracy: 0.9707 - val_loss: 0.1807 - val_accuracy: 0.9240\n",
            "Epoch 17/50\n",
            "163/163 [==============================] - 108s 662ms/step - loss: 0.0791 - accuracy: 0.9690 - val_loss: 0.0460 - val_accuracy: 0.9020\n",
            "Epoch 18/50\n",
            "163/163 [==============================] - 108s 664ms/step - loss: 0.0736 - accuracy: 0.9730 - val_loss: 0.1488 - val_accuracy: 0.9358\n",
            "Epoch 19/50\n",
            "163/163 [==============================] - 109s 667ms/step - loss: 0.0749 - accuracy: 0.9713 - val_loss: 0.1042 - val_accuracy: 0.9122\n",
            "Epoch 20/50\n",
            "163/163 [==============================] - 107s 659ms/step - loss: 0.0719 - accuracy: 0.9724 - val_loss: 0.5560 - val_accuracy: 0.9122\n",
            "Epoch 21/50\n",
            "163/163 [==============================] - 108s 661ms/step - loss: 0.0718 - accuracy: 0.9730 - val_loss: 0.0188 - val_accuracy: 0.9211\n",
            "Epoch 22/50\n",
            "163/163 [==============================] - 111s 679ms/step - loss: 0.0633 - accuracy: 0.9759 - val_loss: 0.3276 - val_accuracy: 0.9172\n",
            "Epoch 23/50\n",
            "163/163 [==============================] - 107s 658ms/step - loss: 0.0636 - accuracy: 0.9771 - val_loss: 0.4276 - val_accuracy: 0.9206\n",
            "Epoch 24/50\n",
            "163/163 [==============================] - 106s 649ms/step - loss: 0.0727 - accuracy: 0.9713 - val_loss: 0.5829 - val_accuracy: 0.9274\n",
            "Epoch 25/50\n",
            "163/163 [==============================] - 106s 651ms/step - loss: 0.0652 - accuracy: 0.9761 - val_loss: 0.2326 - val_accuracy: 0.9189\n",
            "Epoch 26/50\n",
            "163/163 [==============================] - 107s 658ms/step - loss: 0.0664 - accuracy: 0.9760 - val_loss: 0.2669 - val_accuracy: 0.9206\n",
            "Epoch 27/50\n",
            "163/163 [==============================] - 106s 652ms/step - loss: 0.0659 - accuracy: 0.9746 - val_loss: 0.1644 - val_accuracy: 0.9223\n",
            "Epoch 28/50\n",
            "163/163 [==============================] - 107s 654ms/step - loss: 0.0648 - accuracy: 0.9766 - val_loss: 0.4527 - val_accuracy: 0.9324\n",
            "Epoch 29/50\n",
            "163/163 [==============================] - 107s 654ms/step - loss: 0.0557 - accuracy: 0.9791 - val_loss: 0.2175 - val_accuracy: 0.9392\n",
            "Epoch 30/50\n",
            "163/163 [==============================] - 106s 653ms/step - loss: 0.0601 - accuracy: 0.9774 - val_loss: 0.2705 - val_accuracy: 0.8834\n",
            "Epoch 31/50\n",
            "163/163 [==============================] - 107s 655ms/step - loss: 0.0503 - accuracy: 0.9798 - val_loss: 0.4574 - val_accuracy: 0.9240\n",
            "Epoch 32/50\n",
            "163/163 [==============================] - 107s 655ms/step - loss: 0.0624 - accuracy: 0.9778 - val_loss: 0.0874 - val_accuracy: 0.9139\n",
            "Epoch 33/50\n",
            "163/163 [==============================] - 106s 648ms/step - loss: 0.0595 - accuracy: 0.9776 - val_loss: 0.2245 - val_accuracy: 0.9155\n",
            "Epoch 34/50\n",
            "163/163 [==============================] - 106s 649ms/step - loss: 0.0498 - accuracy: 0.9805 - val_loss: 0.5217 - val_accuracy: 0.9307\n",
            "Epoch 35/50\n",
            "163/163 [==============================] - 106s 651ms/step - loss: 0.0604 - accuracy: 0.9759 - val_loss: 0.1869 - val_accuracy: 0.9240\n",
            "Epoch 36/50\n",
            "163/163 [==============================] - 105s 643ms/step - loss: 0.0583 - accuracy: 0.9772 - val_loss: 0.2742 - val_accuracy: 0.9172\n",
            "Epoch 37/50\n",
            "163/163 [==============================] - 107s 655ms/step - loss: 0.0612 - accuracy: 0.9766 - val_loss: 0.1222 - val_accuracy: 0.9155\n",
            "Epoch 38/50\n",
            "163/163 [==============================] - 107s 656ms/step - loss: 0.0497 - accuracy: 0.9833 - val_loss: 0.6737 - val_accuracy: 0.9274\n",
            "Epoch 39/50\n",
            "163/163 [==============================] - 106s 649ms/step - loss: 0.0582 - accuracy: 0.9786 - val_loss: 0.4164 - val_accuracy: 0.9240\n",
            "Epoch 40/50\n",
            "163/163 [==============================] - 106s 650ms/step - loss: 0.0531 - accuracy: 0.9817 - val_loss: 0.0148 - val_accuracy: 0.9257\n",
            "Epoch 41/50\n",
            "163/163 [==============================] - 107s 655ms/step - loss: 0.0497 - accuracy: 0.9825 - val_loss: 0.4360 - val_accuracy: 0.9276\n",
            "Epoch 42/50\n",
            "163/163 [==============================] - 109s 669ms/step - loss: 0.0543 - accuracy: 0.9807 - val_loss: 0.2852 - val_accuracy: 0.9206\n",
            "Epoch 43/50\n",
            "163/163 [==============================] - 105s 647ms/step - loss: 0.0514 - accuracy: 0.9803 - val_loss: 0.1154 - val_accuracy: 0.9240\n",
            "Epoch 44/50\n",
            "163/163 [==============================] - 106s 651ms/step - loss: 0.0521 - accuracy: 0.9810 - val_loss: 0.4628 - val_accuracy: 0.9358\n",
            "Epoch 45/50\n",
            "163/163 [==============================] - 106s 651ms/step - loss: 0.0515 - accuracy: 0.9822 - val_loss: 0.3820 - val_accuracy: 0.9105\n",
            "Epoch 46/50\n",
            "163/163 [==============================] - 106s 648ms/step - loss: 0.0485 - accuracy: 0.9830 - val_loss: 0.2470 - val_accuracy: 0.9341\n",
            "Epoch 47/50\n",
            "163/163 [==============================] - 107s 654ms/step - loss: 0.0470 - accuracy: 0.9836 - val_loss: 0.0949 - val_accuracy: 0.9291\n",
            "Epoch 48/50\n",
            "163/163 [==============================] - 104s 640ms/step - loss: 0.0435 - accuracy: 0.9836 - val_loss: 0.1164 - val_accuracy: 0.9392\n",
            "Epoch 49/50\n",
            "163/163 [==============================] - 106s 650ms/step - loss: 0.0494 - accuracy: 0.9814 - val_loss: 0.0815 - val_accuracy: 0.9392\n",
            "Epoch 50/50\n",
            "163/163 [==============================] - 105s 643ms/step - loss: 0.0545 - accuracy: 0.9792 - val_loss: 0.0296 - val_accuracy: 0.9341\n"
          ],
          "name": "stdout"
        }
      ]
    },
    {
      "cell_type": "code",
      "metadata": {
        "id": "maVWQmC3Phtt",
        "colab_type": "code",
        "colab": {}
      },
      "source": [
        "result_dir = '/content/gdrive/My Drive/Colab Notebooks/Xray for Penumonia/results'\n",
        "model.save_weights(os.path.join(result_dir,'finetuning.h5'))"
      ],
      "execution_count": null,
      "outputs": []
    },
    {
      "cell_type": "code",
      "metadata": {
        "id": "Go5ZshvNdEUY",
        "colab_type": "code",
        "colab": {
          "base_uri": "https://localhost:8080/",
          "height": 1000
        },
        "outputId": "6d63a7d7-04f9-4721-839e-652c98bcdfba"
      },
      "source": [
        "type(history)\n",
        "history.history"
      ],
      "execution_count": null,
      "outputs": [
        {
          "output_type": "execute_result",
          "data": {
            "text/plain": [
              "{'accuracy': [0.87099886,\n",
              "  0.93617433,\n",
              "  0.94408023,\n",
              "  0.9475511,\n",
              "  0.9502507,\n",
              "  0.9533359,\n",
              "  0.95892787,\n",
              "  0.9591207,\n",
              "  0.9620131,\n",
              "  0.96586967,\n",
              "  0.9668338,\n",
              "  0.9651074,\n",
              "  0.9670287,\n",
              "  0.97011185,\n",
              "  0.9695334,\n",
              "  0.9706903,\n",
              "  0.96895486,\n",
              "  0.9730042,\n",
              "  0.9712688,\n",
              "  0.9723926,\n",
              "  0.9730411,\n",
              "  0.97589666,\n",
              "  0.9770536,\n",
              "  0.9712688,\n",
              "  0.9760895,\n",
              "  0.9760353,\n",
              "  0.9745927,\n",
              "  0.9766104,\n",
              "  0.97905356,\n",
              "  0.9774393,\n",
              "  0.9797532,\n",
              "  0.9778249,\n",
              "  0.9776321,\n",
              "  0.9805245,\n",
              "  0.97589666,\n",
              "  0.9772464,\n",
              "  0.9766104,\n",
              "  0.9833204,\n",
              "  0.9785962,\n",
              "  0.98168147,\n",
              "  0.98245275,\n",
              "  0.9807173,\n",
              "  0.98033166,\n",
              "  0.9810199,\n",
              "  0.9821567,\n",
              "  0.9830312,\n",
              "  0.98360974,\n",
              "  0.98360974,\n",
              "  0.98140335,\n",
              "  0.9791747],\n",
              " 'loss': [0.29047743736479303,\n",
              "  0.16475467377540184,\n",
              "  0.14855698915898824,\n",
              "  0.13139328702608938,\n",
              "  0.12688411305222758,\n",
              "  0.12135064022632074,\n",
              "  0.10997254147190375,\n",
              "  0.10387971825147752,\n",
              "  0.0984265713087246,\n",
              "  0.0975755151769601,\n",
              "  0.08967112304285066,\n",
              "  0.09229920624806745,\n",
              "  0.086421560730757,\n",
              "  0.08129873966731381,\n",
              "  0.08111456868645976,\n",
              "  0.07908205457779126,\n",
              "  0.07956223590897706,\n",
              "  0.07404229331230613,\n",
              "  0.07455412556179876,\n",
              "  0.07192687831956185,\n",
              "  0.07227536634151167,\n",
              "  0.06365710708883408,\n",
              "  0.06396621611181932,\n",
              "  0.07221179146634259,\n",
              "  0.0656071654400271,\n",
              "  0.06640053333634613,\n",
              "  0.06572395398103054,\n",
              "  0.06477116736686257,\n",
              "  0.056360943430860705,\n",
              "  0.06028592058863653,\n",
              "  0.050591603617014695,\n",
              "  0.06278565655992902,\n",
              "  0.059775110040448325,\n",
              "  0.04997123609703915,\n",
              "  0.06071635932582845,\n",
              "  0.058206408744698734,\n",
              "  0.061213813075064426,\n",
              "  0.05026394471184033,\n",
              "  0.058515959809433866,\n",
              "  0.0533764508124519,\n",
              "  0.049992796489275924,\n",
              "  0.05458521106278321,\n",
              "  0.051734557837684506,\n",
              "  0.05209395456652048,\n",
              "  0.05204533049385493,\n",
              "  0.04868686943114913,\n",
              "  0.04722976702851963,\n",
              "  0.04375935484052624,\n",
              "  0.049374581541383265,\n",
              "  0.054771926014424106],\n",
              " 'val_accuracy': [0.8865131735801697,\n",
              "  0.8564189076423645,\n",
              "  0.9155405163764954,\n",
              "  0.9087837934494019,\n",
              "  0.8935810923576355,\n",
              "  0.8800675868988037,\n",
              "  0.9341216087341309,\n",
              "  0.9087837934494019,\n",
              "  0.9206081032752991,\n",
              "  0.9273648858070374,\n",
              "  0.8969594836235046,\n",
              "  0.9189189076423645,\n",
              "  0.8902027010917664,\n",
              "  0.9256756901741028,\n",
              "  0.9189189076423645,\n",
              "  0.9239864945411682,\n",
              "  0.9020270109176636,\n",
              "  0.9358108043670654,\n",
              "  0.912162184715271,\n",
              "  0.912162184715271,\n",
              "  0.9210526347160339,\n",
              "  0.9172297120094299,\n",
              "  0.9206081032752991,\n",
              "  0.9273648858070374,\n",
              "  0.9189189076423645,\n",
              "  0.9206081032752991,\n",
              "  0.9222972989082336,\n",
              "  0.9324324131011963,\n",
              "  0.9391891956329346,\n",
              "  0.8834459185600281,\n",
              "  0.9239864945411682,\n",
              "  0.9138513803482056,\n",
              "  0.9155405163764954,\n",
              "  0.9307432174682617,\n",
              "  0.9239864945411682,\n",
              "  0.9172297120094299,\n",
              "  0.9155405163764954,\n",
              "  0.9273648858070374,\n",
              "  0.9239864945411682,\n",
              "  0.9256756901741028,\n",
              "  0.9276315569877625,\n",
              "  0.9206081032752991,\n",
              "  0.9239864945411682,\n",
              "  0.9358108043670654,\n",
              "  0.9104729890823364,\n",
              "  0.9341216087341309,\n",
              "  0.9290540814399719,\n",
              "  0.9391891956329346,\n",
              "  0.9391891956329346,\n",
              "  0.9341216087341309],\n",
              " 'val_loss': [0.4308803379535675,\n",
              "  0.5656510591506958,\n",
              "  0.07339510321617126,\n",
              "  0.16072231531143188,\n",
              "  0.13717862963676453,\n",
              "  0.41743600368499756,\n",
              "  0.09053594619035721,\n",
              "  0.1523401439189911,\n",
              "  0.3432144224643707,\n",
              "  0.25746262073516846,\n",
              "  0.15143567323684692,\n",
              "  0.24423325061798096,\n",
              "  0.1549319326877594,\n",
              "  0.13563434779644012,\n",
              "  0.3204955458641052,\n",
              "  0.18069547414779663,\n",
              "  0.04597502201795578,\n",
              "  0.1487969160079956,\n",
              "  0.10417985171079636,\n",
              "  0.5560163855552673,\n",
              "  0.018788747489452362,\n",
              "  0.327596515417099,\n",
              "  0.4275876581668854,\n",
              "  0.5828770995140076,\n",
              "  0.23255965113639832,\n",
              "  0.2669048011302948,\n",
              "  0.16437798738479614,\n",
              "  0.45270663499832153,\n",
              "  0.2175108641386032,\n",
              "  0.2705310583114624,\n",
              "  0.4573889970779419,\n",
              "  0.08736266195774078,\n",
              "  0.22448863089084625,\n",
              "  0.5217316150665283,\n",
              "  0.18688750267028809,\n",
              "  0.27418220043182373,\n",
              "  0.12220948934555054,\n",
              "  0.6736925840377808,\n",
              "  0.4163612723350525,\n",
              "  0.01484215259552002,\n",
              "  0.4359699785709381,\n",
              "  0.2851821184158325,\n",
              "  0.11535735428333282,\n",
              "  0.46280306577682495,\n",
              "  0.38199475407600403,\n",
              "  0.24703797698020935,\n",
              "  0.0948697105050087,\n",
              "  0.1164473444223404,\n",
              "  0.08152085542678833,\n",
              "  0.02963321842253208]}"
            ]
          },
          "metadata": {
            "tags": []
          },
          "execution_count": 18
        }
      ]
    },
    {
      "cell_type": "code",
      "metadata": {
        "id": "3ggTwUkDQ0ep",
        "colab_type": "code",
        "colab": {
          "base_uri": "https://localhost:8080/",
          "height": 35
        },
        "outputId": "8778ca83-b392-45f4-f75e-890c17fdec77"
      },
      "source": [
        "np.mean(history.history['accuracy'][45:50])"
      ],
      "execution_count": null,
      "outputs": [
        {
          "output_type": "execute_result",
          "data": {
            "text/plain": [
              "0.9821657"
            ]
          },
          "metadata": {
            "tags": []
          },
          "execution_count": 25
        }
      ]
    },
    {
      "cell_type": "code",
      "metadata": {
        "id": "WPDj4NS3Regk",
        "colab_type": "code",
        "colab": {
          "base_uri": "https://localhost:8080/",
          "height": 35
        },
        "outputId": "bd19133a-3e97-4d17-d36b-76a3fafb8568"
      },
      "source": [
        "np.mean(history.history['val_accuracy'][45:50])"
      ],
      "execution_count": null,
      "outputs": [
        {
          "output_type": "execute_result",
          "data": {
            "text/plain": [
              "0.9351351380348205"
            ]
          },
          "metadata": {
            "tags": []
          },
          "execution_count": 26
        }
      ]
    },
    {
      "cell_type": "markdown",
      "metadata": {
        "id": "xkMWot8gQW-2",
        "colab_type": "text"
      },
      "source": [
        "epochが、46番から５０番までの精度の平均値を算出すると、  \n",
        "訓練データ：精度：98.2 ％  \n",
        "テストデータ：精度：93.5％  \n",
        "であった。\n"
      ]
    },
    {
      "cell_type": "code",
      "metadata": {
        "id": "Z7D3UdojdEUe",
        "colab_type": "code",
        "colab": {
          "base_uri": "https://localhost:8080/",
          "height": 573
        },
        "outputId": "baea0c49-2a74-423e-8a73-ee58105aa9d7"
      },
      "source": [
        "%matplotlib inline\n",
        "import matplotlib.pyplot as plt\n",
        "\n",
        "def plot_acc_loss(history):\n",
        "    # 精度の推移をプロット\n",
        "    plt.plot(history.history['accuracy'],\"-\",label=\"accuracy\")\n",
        "    plt.plot(history.history['val_accuracy'],\"-\",label=\"val_acc\")\n",
        "    plt.title('accuracy')\n",
        "    plt.xlabel('epoch')\n",
        "    plt.ylabel('accuracy')\n",
        "    plt.legend(loc=\"lower right\")\n",
        "    plt.show()\n",
        "\n",
        "    # 損失の推移をプロット\n",
        "    plt.plot(history.history['loss'],\"-\",label=\"loss\",)\n",
        "    plt.plot(history.history['val_loss'],\"-\",label=\"val_loss\")\n",
        "    plt.title('loss')\n",
        "    plt.xlabel('epoch')\n",
        "    plt.ylabel('loss')\n",
        "    plt.legend(loc='upper right')\n",
        "    plt.show()\n",
        "    \n",
        "# 損失と精度をグラフに出力\n",
        "plot_acc_loss(history)"
      ],
      "execution_count": null,
      "outputs": [
        {
          "output_type": "display_data",
          "data": {
            "image/png": "[encoded data removed]",
            "text/plain": [
              "<Figure size 432x288 with 1 Axes>"
            ]
          },
          "metadata": {
            "tags": [],
            "needs_background": "light"
          }
        },
        {
          "output_type": "display_data",
          "data": {
            "image/png": "[encoded data removed]",
            "text/plain": [
              "<Figure size 432x288 with 1 Axes>"
            ]
          },
          "metadata": {
            "tags": [],
            "needs_background": "light"
          }
        }
      ]
    },
    {
      "cell_type": "code",
      "metadata": {
        "id": "9XTEo0DedEUm",
        "colab_type": "code",
        "colab": {}
      },
      "source": [
        ""
      ],
      "execution_count": null,
      "outputs": []
    },
    {
      "cell_type": "code",
      "metadata": {
        "id": "1i_CQMRafjsA",
        "colab_type": "code",
        "colab": {}
      },
      "source": [
        ""
      ],
      "execution_count": null,
      "outputs": []
    }
  ]
}