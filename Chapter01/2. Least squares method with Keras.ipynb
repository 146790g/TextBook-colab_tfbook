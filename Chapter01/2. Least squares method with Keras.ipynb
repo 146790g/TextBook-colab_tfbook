{
  "nbformat": 4,
  "nbformat_minor": 0,
  "metadata": {
    "colab": {
      "name": "2. Least squares method with Keras.ipynb",
      "version": "0.3.2",
      "provenance": [],
      "collapsed_sections": []
    },
    "kernelspec": {
      "name": "python3",
      "display_name": "Python 3"
    }
  },
  "cells": [
    {
      "metadata": {
        "id": "CbJ273-zXvzb",
        "colab_type": "text"
      },
      "cell_type": "markdown",
      "source": [
        "# Least Squares Method with Keras"
      ]
    },
    {
      "metadata": {
        "id": "wg-evE3LWM-O",
        "colab_type": "text"
      },
      "cell_type": "markdown",
      "source": [
        "Note: This notebook is desinged to run with Python3 and CPU (no GPU) runtime.\n",
        "\n",
        "![Python 3 and CPU runtime](https://raw.githubusercontent.com/enakai00/colab_tfbook/master/docs/imgs/runtime_cpu.png)"
      ]
    },
    {
      "metadata": {
        "id": "VJO3PPzqsq8d",
        "colab_type": "text"
      },
      "cell_type": "markdown",
      "source": [
        "####[LSM-01]\n",
        "Import modules."
      ]
    },
    {
      "metadata": {
        "id": "gB5UUoAXIVmC",
        "colab_type": "code",
        "outputId": "12de3067-5789-490c-b81b-3a098c0f2d1b",
        "colab": {
          "base_uri": "https://localhost:8080/",
          "height": 34
        }
      },
      "cell_type": "code",
      "source": [
        "import numpy as np\n",
        "import matplotlib.pyplot as plt\n",
        "from pandas import DataFrame\n",
        "\n",
        "import keras\n",
        "from keras import layers\n",
        "from keras import models\n",
        "\n",
        "plt.rcParams['axes.facecolor'] = 'snow'"
      ],
      "execution_count": 1,
      "outputs": [
        {
          "output_type": "stream",
          "text": [
            "Using TensorFlow backend.\n"
          ],
          "name": "stderr"
        }
      ]
    },
    {
      "metadata": {
        "id": "yz2h7_8St1wi",
        "colab_type": "text"
      },
      "cell_type": "markdown",
      "source": [
        "####[LSM-02]\n",
        "Prepare the training dateset."
      ]
    },
    {
      "metadata": {
        "id": "ASgzWK5AjWvn",
        "colab_type": "code",
        "colab": {}
      },
      "cell_type": "code",
      "source": [
        "train_t = np.array([5.2, 5.7, 8.6, 14.9, 18.2, 20.4,\n",
        "                    25.5, 26.4, 22.8, 17.5, 11.1, 6.6])\n",
        "train_t = train_t.reshape([12, 1])\n",
        "train_x = np.array([[mon**n for n in range(1, 5)]\n",
        "                    for mon in range(1, 13)])"
      ],
      "execution_count": 0,
      "outputs": []
    },
    {
      "metadata": {
        "id": "SAVhouWduMh7",
        "colab_type": "text"
      },
      "cell_type": "markdown",
      "source": [
        "####[LSM-03]\n",
        "`train_x` contains the list $[x, x^2, x^3, x^4]$ for $x=1,...,12$."
      ]
    },
    {
      "metadata": {
        "id": "Hp4EnlqvToYN",
        "colab_type": "code",
        "outputId": "37535238-4780-4080-eb67-3205901c85ec",
        "colab": {
          "base_uri": "https://localhost:8080/",
          "height": 221
        }
      },
      "cell_type": "code",
      "source": [
        "train_x"
      ],
      "execution_count": 3,
      "outputs": [
        {
          "output_type": "execute_result",
          "data": {
            "text/plain": [
              "array([[    1,     1,     1,     1],\n",
              "       [    2,     4,     8,    16],\n",
              "       [    3,     9,    27,    81],\n",
              "       [    4,    16,    64,   256],\n",
              "       [    5,    25,   125,   625],\n",
              "       [    6,    36,   216,  1296],\n",
              "       [    7,    49,   343,  2401],\n",
              "       [    8,    64,   512,  4096],\n",
              "       [    9,    81,   729,  6561],\n",
              "       [   10,   100,  1000, 10000],\n",
              "       [   11,   121,  1331, 14641],\n",
              "       [   12,   144,  1728, 20736]])"
            ]
          },
          "metadata": {
            "tags": []
          },
          "execution_count": 3
        }
      ]
    },
    {
      "metadata": {
        "id": "qdQ0Tp2IvFy8",
        "colab_type": "text"
      },
      "cell_type": "markdown",
      "source": [
        "####[LSM-04]\n",
        "`train_t` contins the corresponding lables for $x=1,...,12$."
      ]
    },
    {
      "metadata": {
        "id": "tpL_niBTXggS",
        "colab_type": "code",
        "outputId": "d6b8cb6b-8024-4c71-c493-41475a6370c7",
        "colab": {
          "base_uri": "https://localhost:8080/",
          "height": 221
        }
      },
      "cell_type": "code",
      "source": [
        "train_t"
      ],
      "execution_count": 4,
      "outputs": [
        {
          "output_type": "execute_result",
          "data": {
            "text/plain": [
              "array([[ 5.2],\n",
              "       [ 5.7],\n",
              "       [ 8.6],\n",
              "       [14.9],\n",
              "       [18.2],\n",
              "       [20.4],\n",
              "       [25.5],\n",
              "       [26.4],\n",
              "       [22.8],\n",
              "       [17.5],\n",
              "       [11.1],\n",
              "       [ 6.6]])"
            ]
          },
          "metadata": {
            "tags": []
          },
          "execution_count": 4
        }
      ]
    },
    {
      "metadata": {
        "id": "fmnjQdqAvQRw",
        "colab_type": "text"
      },
      "cell_type": "markdown",
      "source": [
        "####[LSM-05]\n",
        "Define a model to predict labels using a polynomal function."
      ]
    },
    {
      "metadata": {
        "id": "BakcuKxdQoSL",
        "colab_type": "code",
        "outputId": "f557620b-c12f-41aa-a76f-edb337711a81",
        "colab": {
          "base_uri": "https://localhost:8080/",
          "height": 241
        }
      },
      "cell_type": "code",
      "source": [
        "model = models.Sequential()\n",
        "model.add(layers.Dense(1, input_shape=(4,), name='polynomial'))\n",
        "model.summary()"
      ],
      "execution_count": 5,
      "outputs": [
        {
          "output_type": "stream",
          "text": [
            "WARNING:tensorflow:From /usr/local/lib/python3.6/dist-packages/tensorflow/python/framework/op_def_library.py:263: colocate_with (from tensorflow.python.framework.ops) is deprecated and will be removed in a future version.\n",
            "Instructions for updating:\n",
            "Colocations handled automatically by placer.\n",
            "_________________________________________________________________\n",
            "Layer (type)                 Output Shape              Param #   \n",
            "=================================================================\n",
            "polynomial (Dense)           (None, 1)                 5         \n",
            "=================================================================\n",
            "Total params: 5\n",
            "Trainable params: 5\n",
            "Non-trainable params: 0\n",
            "_________________________________________________________________\n"
          ],
          "name": "stdout"
        }
      ]
    },
    {
      "metadata": {
        "id": "fBltXsSRvZn0",
        "colab_type": "text"
      },
      "cell_type": "markdown",
      "source": [
        "####[LSM-06]\n",
        "Compile the model using the Adam optimizer, and MSE (Mean Square Error) as a loss function."
      ]
    },
    {
      "metadata": {
        "id": "LlQCTsKKXkr5",
        "colab_type": "code",
        "colab": {}
      },
      "cell_type": "code",
      "source": [
        "model.compile(optimizer='adam', loss='mse')"
      ],
      "execution_count": 0,
      "outputs": []
    },
    {
      "metadata": {
        "id": "PjbE4TVBvqCh",
        "colab_type": "text"
      },
      "cell_type": "markdown",
      "source": [
        "####[LSM-07]\n",
        "Apply the optimization for 10 epochs."
      ]
    },
    {
      "metadata": {
        "id": "qpARZzJsAnNA",
        "colab_type": "code",
        "outputId": "37767e54-89c1-442c-bb23-e2db850c3fb7",
        "colab": {
          "base_uri": "https://localhost:8080/",
          "height": 428
        }
      },
      "cell_type": "code",
      "source": [
        "history = model.fit(train_x, train_t, batch_size=12, epochs=10)"
      ],
      "execution_count": 7,
      "outputs": [
        {
          "output_type": "stream",
          "text": [
            "WARNING:tensorflow:From /usr/local/lib/python3.6/dist-packages/tensorflow/python/ops/math_ops.py:3066: to_int32 (from tensorflow.python.ops.math_ops) is deprecated and will be removed in a future version.\n",
            "Instructions for updating:\n",
            "Use tf.cast instead.\n",
            "Epoch 1/10\n",
            "12/12 [==============================] - 1s 43ms/step - loss: 20858754.0000\n",
            "Epoch 2/10\n",
            "12/12 [==============================] - 0s 417us/step - loss: 20797310.0000\n",
            "Epoch 3/10\n",
            "12/12 [==============================] - 0s 486us/step - loss: 20726546.0000\n",
            "Epoch 4/10\n",
            "12/12 [==============================] - 0s 434us/step - loss: 20651700.0000\n",
            "Epoch 5/10\n",
            "12/12 [==============================] - 0s 447us/step - loss: 20574614.0000\n",
            "Epoch 6/10\n",
            "12/12 [==============================] - 0s 357us/step - loss: 20496170.0000\n",
            "Epoch 7/10\n",
            "12/12 [==============================] - 0s 263us/step - loss: 20416850.0000\n",
            "Epoch 8/10\n",
            "12/12 [==============================] - 0s 126us/step - loss: 20336958.0000\n",
            "Epoch 9/10\n",
            "12/12 [==============================] - 0s 100us/step - loss: 20256682.0000\n",
            "Epoch 10/10\n",
            "12/12 [==============================] - 0s 188us/step - loss: 20176164.0000\n"
          ],
          "name": "stdout"
        }
      ]
    },
    {
      "metadata": {
        "id": "6ZJDVflWv6bm",
        "colab_type": "text"
      },
      "cell_type": "markdown",
      "source": [
        "####[LSM-08]\n",
        "Apply the optimization for additional 100,000 epochs."
      ]
    },
    {
      "metadata": {
        "id": "R6aG8FEZSLdr",
        "colab_type": "code",
        "colab": {}
      },
      "cell_type": "code",
      "source": [
        "history = model.fit(train_x, train_t,\n",
        "                    batch_size=12, epochs=100000, verbose=0)"
      ],
      "execution_count": 0,
      "outputs": []
    },
    {
      "metadata": {
        "id": "BFIxYITmwBXA",
        "colab_type": "text"
      },
      "cell_type": "markdown",
      "source": [
        "####[LSM-09]\n",
        "Plot charts to see how the loss has changed."
      ]
    },
    {
      "metadata": {
        "id": "lHUrBkTt_BV_",
        "colab_type": "code",
        "outputId": "7446be57-9dca-4e4c-c764-09af2a6c92df",
        "colab": {
          "base_uri": "https://localhost:8080/",
          "height": 709
        }
      },
      "cell_type": "code",
      "source": [
        "DataFrame({'loss': history.history['loss']}).plot(grid=False)\n",
        "DataFrame({'loss': history.history['loss']}).plot(ylim=(0,10), grid=False)"
      ],
      "execution_count": 9,
      "outputs": [
        {
          "output_type": "execute_result",
          "data": {
            "text/plain": [
              "<matplotlib.axes._subplots.AxesSubplot at 0x7fd4dceabe48>"
            ]
          },
          "metadata": {
            "tags": []
          },
          "execution_count": 9
        },
        {
          "output_type": "display_data",
          "data": {
            "image/png": "[encoded data removed]",
            "text/plain": [
              "<Figure size 576x396 with 1 Axes>"
            ]
          },
          "metadata": {
            "tags": []
          }
        },
        {
          "output_type": "display_data",
          "data": {
            "image/png": "[encoded data removed]",
            "text/plain": [
              "<Figure size 576x396 with 1 Axes>"
            ]
          },
          "metadata": {
            "tags": []
          }
        }
      ]
    },
    {
      "metadata": {
        "id": "DrFqiUwcwSS4",
        "colab_type": "text"
      },
      "cell_type": "markdown",
      "source": [
        "####[LSM-10]\n",
        "Show weights after the training."
      ]
    },
    {
      "metadata": {
        "id": "ffVp0em2Sn4U",
        "colab_type": "code",
        "outputId": "0e17a7c9-ef72-43c7-c7ed-45677367dd88",
        "colab": {
          "base_uri": "https://localhost:8080/",
          "height": 85
        }
      },
      "cell_type": "code",
      "source": [
        "model.get_weights()"
      ],
      "execution_count": 10,
      "outputs": [
        {
          "output_type": "execute_result",
          "data": {
            "text/plain": [
              "[array([[-1.0045354 ],\n",
              "        [ 1.6120154 ],\n",
              "        [-0.18201105],\n",
              "        [ 0.0046497 ]], dtype=float32), array([3.2060754], dtype=float32)]"
            ]
          },
          "metadata": {
            "tags": []
          },
          "execution_count": 10
        }
      ]
    },
    {
      "metadata": {
        "id": "9ewLkGc-waB4",
        "colab_type": "text"
      },
      "cell_type": "markdown",
      "source": [
        "####[LSM-11]\n",
        "Define a function to predict values using the final weights."
      ]
    },
    {
      "metadata": {
        "id": "587A6vekhVdw",
        "colab_type": "code",
        "colab": {}
      },
      "cell_type": "code",
      "source": [
        "w, b = model.get_weights()\n",
        "def predict(x):\n",
        "    pred = b[0] + sum([w[n][0] * x**(n+1) for n in range(0, 4)])\n",
        "    return pred"
      ],
      "execution_count": 0,
      "outputs": []
    },
    {
      "metadata": {
        "id": "8vbl6mtdwi_z",
        "colab_type": "text"
      },
      "cell_type": "markdown",
      "source": [
        "####[LSM-12]\n",
        "Plot a chart for predictions."
      ]
    },
    {
      "metadata": {
        "id": "EQCm_ZqJzV7T",
        "colab_type": "code",
        "outputId": "f2fd081b-51a8-4da4-bbea-6326b90e01df",
        "colab": {
          "base_uri": "https://localhost:8080/",
          "height": 364
        }
      },
      "cell_type": "code",
      "source": [
        "fig = plt.figure()\n",
        "subplot = fig.add_subplot(1, 1, 1)\n",
        "subplot.grid(None)\n",
        "subplot.set_xlim(1, 12)\n",
        "subplot.scatter(range(1, 13), train_t)\n",
        "xs = np.linspace(1, 12, 100)\n",
        "ys = predict(xs)\n",
        "subplot.plot(xs, ys)"
      ],
      "execution_count": 12,
      "outputs": [
        {
          "output_type": "execute_result",
          "data": {
            "text/plain": [
              "[<matplotlib.lines.Line2D at 0x7fd4da5efe10>]"
            ]
          },
          "metadata": {
            "tags": []
          },
          "execution_count": 12
        },
        {
          "output_type": "display_data",
          "data": {
            "image/png": "[encoded data removed]",
            "text/plain": [
              "<Figure size 576x396 with 1 Axes>"
            ]
          },
          "metadata": {
            "tags": []
          }
        }
      ]
    }
  ]
}