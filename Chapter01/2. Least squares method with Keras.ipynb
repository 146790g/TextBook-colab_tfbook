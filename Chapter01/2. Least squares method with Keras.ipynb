{
  "nbformat": 4,
  "nbformat_minor": 0,
  "metadata": {
    "colab": {
      "name": "2. Least squares method with Keras.ipynb",
      "version": "0.3.2",
      "provenance": [],
      "collapsed_sections": []
    },
    "kernelspec": {
      "name": "python3",
      "display_name": "Python 3"
    }
  },
  "cells": [
    {
      "cell_type": "markdown",
      "metadata": {
        "id": "CbJ273-zXvzb",
        "colab_type": "text"
      },
      "source": [
        "# Least Squares Method with Keras"
      ]
    },
    {
      "cell_type": "markdown",
      "metadata": {
        "id": "wg-evE3LWM-O",
        "colab_type": "text"
      },
      "source": [
        "Note: This notebook is desinged to run with Python3 and CPU (no GPU) runtime.\n",
        "\n",
        "![Python 3 and CPU runtime](https://raw.githubusercontent.com/enakai00/colab_tfbook/master/docs/imgs/runtime_cpu.png)"
      ]
    },
    {
      "cell_type": "code",
      "metadata": {
        "id": "C_YVPOrSDKCT",
        "colab_type": "code",
        "colab": {
          "base_uri": "https://localhost:8080/",
          "height": 34
        },
        "outputId": "ee71f285-02af-416c-8890-b9ee81a08c51"
      },
      "source": [
        "%%bash\n",
        "tf_version='2.0.0rc0'\n",
        "if pip freeze | grep -q \"^tensorflow==${tf_version}$\"; then\n",
        "  echo \"tensorflow==${tf_version} is already installed. No actions are required.\"\n",
        "else\n",
        "  echo \"Installing tensorflow==${tf_version}. Don't forget to restart the runtime.\"\n",
        "  pip install tensorflow==${tf_version}\n",
        "fi"
      ],
      "execution_count": 1,
      "outputs": [
        {
          "output_type": "stream",
          "text": [
            "tensorflow==2.0.0rc0 is already installed. No actions are required.\n"
          ],
          "name": "stdout"
        }
      ]
    },
    {
      "cell_type": "markdown",
      "metadata": {
        "id": "VJO3PPzqsq8d",
        "colab_type": "text"
      },
      "source": [
        "####[LSM-01]\n",
        "Import modules."
      ]
    },
    {
      "cell_type": "code",
      "metadata": {
        "id": "gB5UUoAXIVmC",
        "colab_type": "code",
        "colab": {}
      },
      "source": [
        "import numpy as np\n",
        "import matplotlib.pyplot as plt\n",
        "from pandas import DataFrame\n",
        "\n",
        "from tensorflow.keras import layers, models"
      ],
      "execution_count": 0,
      "outputs": []
    },
    {
      "cell_type": "markdown",
      "metadata": {
        "id": "yz2h7_8St1wi",
        "colab_type": "text"
      },
      "source": [
        "####[LSM-02]\n",
        "Prepare the training dateset."
      ]
    },
    {
      "cell_type": "code",
      "metadata": {
        "id": "ASgzWK5AjWvn",
        "colab_type": "code",
        "colab": {}
      },
      "source": [
        "train_t = np.array([5.2, 5.7, 8.6, 14.9, 18.2, 20.4,\n",
        "                    25.5, 26.4, 22.8, 17.5, 11.1, 6.6])\n",
        "train_t = train_t.reshape([12, 1])\n",
        "train_x = np.array([[mon**n for n in range(1, 5)]\n",
        "                    for mon in range(1, 13)])"
      ],
      "execution_count": 0,
      "outputs": []
    },
    {
      "cell_type": "markdown",
      "metadata": {
        "id": "SAVhouWduMh7",
        "colab_type": "text"
      },
      "source": [
        "####[LSM-03]\n",
        "`train_x` contains the list $[x, x^2, x^3, x^4]$ for $x=1,...,12$."
      ]
    },
    {
      "cell_type": "code",
      "metadata": {
        "id": "Hp4EnlqvToYN",
        "colab_type": "code",
        "outputId": "d1ea0afb-e6c8-4c69-aba8-459b088568e4",
        "colab": {
          "base_uri": "https://localhost:8080/",
          "height": 221
        }
      },
      "source": [
        "train_x"
      ],
      "execution_count": 4,
      "outputs": [
        {
          "output_type": "execute_result",
          "data": {
            "text/plain": [
              "array([[    1,     1,     1,     1],\n",
              "       [    2,     4,     8,    16],\n",
              "       [    3,     9,    27,    81],\n",
              "       [    4,    16,    64,   256],\n",
              "       [    5,    25,   125,   625],\n",
              "       [    6,    36,   216,  1296],\n",
              "       [    7,    49,   343,  2401],\n",
              "       [    8,    64,   512,  4096],\n",
              "       [    9,    81,   729,  6561],\n",
              "       [   10,   100,  1000, 10000],\n",
              "       [   11,   121,  1331, 14641],\n",
              "       [   12,   144,  1728, 20736]])"
            ]
          },
          "metadata": {
            "tags": []
          },
          "execution_count": 4
        }
      ]
    },
    {
      "cell_type": "markdown",
      "metadata": {
        "id": "qdQ0Tp2IvFy8",
        "colab_type": "text"
      },
      "source": [
        "####[LSM-04]\n",
        "`train_t` contins the corresponding lables for $x=1,...,12$."
      ]
    },
    {
      "cell_type": "code",
      "metadata": {
        "id": "tpL_niBTXggS",
        "colab_type": "code",
        "outputId": "a858c41c-c1e6-4619-ea05-117e7a334cb4",
        "colab": {
          "base_uri": "https://localhost:8080/",
          "height": 221
        }
      },
      "source": [
        "train_t"
      ],
      "execution_count": 5,
      "outputs": [
        {
          "output_type": "execute_result",
          "data": {
            "text/plain": [
              "array([[ 5.2],\n",
              "       [ 5.7],\n",
              "       [ 8.6],\n",
              "       [14.9],\n",
              "       [18.2],\n",
              "       [20.4],\n",
              "       [25.5],\n",
              "       [26.4],\n",
              "       [22.8],\n",
              "       [17.5],\n",
              "       [11.1],\n",
              "       [ 6.6]])"
            ]
          },
          "metadata": {
            "tags": []
          },
          "execution_count": 5
        }
      ]
    },
    {
      "cell_type": "markdown",
      "metadata": {
        "id": "fmnjQdqAvQRw",
        "colab_type": "text"
      },
      "source": [
        "####[LSM-05]\n",
        "Define a model to predict labels using a polynomal function."
      ]
    },
    {
      "cell_type": "code",
      "metadata": {
        "id": "BakcuKxdQoSL",
        "colab_type": "code",
        "outputId": "89a4c931-4b76-4601-8792-e856663b6e48",
        "colab": {
          "base_uri": "https://localhost:8080/",
          "height": 187
        }
      },
      "source": [
        "model = models.Sequential()\n",
        "model.add(layers.Dense(1, input_shape=(4,), name='polynomial'))\n",
        "model.summary()"
      ],
      "execution_count": 6,
      "outputs": [
        {
          "output_type": "stream",
          "text": [
            "Model: \"sequential\"\n",
            "_________________________________________________________________\n",
            "Layer (type)                 Output Shape              Param #   \n",
            "=================================================================\n",
            "polynomial (Dense)           (None, 1)                 5         \n",
            "=================================================================\n",
            "Total params: 5\n",
            "Trainable params: 5\n",
            "Non-trainable params: 0\n",
            "_________________________________________________________________\n"
          ],
          "name": "stdout"
        }
      ]
    },
    {
      "cell_type": "markdown",
      "metadata": {
        "id": "fBltXsSRvZn0",
        "colab_type": "text"
      },
      "source": [
        "####[LSM-06]\n",
        "Compile the model using the Adam optimizer, and MSE (Mean Square Error) as a loss function."
      ]
    },
    {
      "cell_type": "code",
      "metadata": {
        "id": "LlQCTsKKXkr5",
        "colab_type": "code",
        "colab": {}
      },
      "source": [
        "model.compile(optimizer='adam', loss='mse')"
      ],
      "execution_count": 0,
      "outputs": []
    },
    {
      "cell_type": "markdown",
      "metadata": {
        "id": "PjbE4TVBvqCh",
        "colab_type": "text"
      },
      "source": [
        "####[LSM-07]\n",
        "Apply the optimization for 10 epochs."
      ]
    },
    {
      "cell_type": "code",
      "metadata": {
        "id": "qpARZzJsAnNA",
        "colab_type": "code",
        "outputId": "089fad61-952a-4594-b6e9-9e1b61df7c2a",
        "colab": {
          "base_uri": "https://localhost:8080/",
          "height": 374
        }
      },
      "source": [
        "history = model.fit(train_x, train_t, batch_size=12, epochs=10)"
      ],
      "execution_count": 8,
      "outputs": [
        {
          "output_type": "stream",
          "text": [
            "Train on 12 samples\n",
            "Epoch 1/10\n",
            "12/12 [==============================] - 1s 44ms/sample - loss: 82014256.0000\n",
            "Epoch 2/10\n",
            "12/12 [==============================] - 0s 244us/sample - loss: 81850480.0000\n",
            "Epoch 3/10\n",
            "12/12 [==============================] - 0s 216us/sample - loss: 81686912.0000\n",
            "Epoch 4/10\n",
            "12/12 [==============================] - 0s 349us/sample - loss: 81523488.0000\n",
            "Epoch 5/10\n",
            "12/12 [==============================] - 0s 246us/sample - loss: 81360248.0000\n",
            "Epoch 6/10\n",
            "12/12 [==============================] - 0s 382us/sample - loss: 81197176.0000\n",
            "Epoch 7/10\n",
            "12/12 [==============================] - 0s 282us/sample - loss: 81034288.0000\n",
            "Epoch 8/10\n",
            "12/12 [==============================] - 0s 239us/sample - loss: 80871576.0000\n",
            "Epoch 9/10\n",
            "12/12 [==============================] - 0s 205us/sample - loss: 80709056.0000\n",
            "Epoch 10/10\n",
            "12/12 [==============================] - 0s 215us/sample - loss: 80546720.0000\n"
          ],
          "name": "stdout"
        }
      ]
    },
    {
      "cell_type": "markdown",
      "metadata": {
        "id": "6ZJDVflWv6bm",
        "colab_type": "text"
      },
      "source": [
        "####[LSM-08]\n",
        "Apply the optimization for additional 100,000 epochs."
      ]
    },
    {
      "cell_type": "code",
      "metadata": {
        "id": "R6aG8FEZSLdr",
        "colab_type": "code",
        "colab": {}
      },
      "source": [
        "history = model.fit(train_x, train_t,\n",
        "                    batch_size=12, epochs=100000, verbose=0)"
      ],
      "execution_count": 0,
      "outputs": []
    },
    {
      "cell_type": "markdown",
      "metadata": {
        "id": "BFIxYITmwBXA",
        "colab_type": "text"
      },
      "source": [
        "####[LSM-09]\n",
        "Plot charts to see how the loss has changed."
      ]
    },
    {
      "cell_type": "code",
      "metadata": {
        "id": "lHUrBkTt_BV_",
        "colab_type": "code",
        "outputId": "79ac87ac-a481-4799-cf72-06e6df597b5d",
        "colab": {
          "base_uri": "https://localhost:8080/",
          "height": 545
        }
      },
      "source": [
        "DataFrame({'loss': history.history['loss']}).plot(xlim=(0, 2000))\n",
        "DataFrame({'loss': history.history['loss']}).plot(ylim=(0, 10))"
      ],
      "execution_count": 10,
      "outputs": [
        {
          "output_type": "execute_result",
          "data": {
            "text/plain": [
              "<matplotlib.axes._subplots.AxesSubplot at 0x7fd517624208>"
            ]
          },
          "metadata": {
            "tags": []
          },
          "execution_count": 10
        },
        {
          "output_type": "display_data",
          "data": {
            "image/png": "[encoded data removed]",
            "text/plain": [
              "<Figure size 432x288 with 1 Axes>"
            ]
          },
          "metadata": {
            "tags": []
          }
        },
        {
          "output_type": "display_data",
          "data": {
            "image/png": "[encoded data removed]",
            "text/plain": [
              "<Figure size 432x288 with 1 Axes>"
            ]
          },
          "metadata": {
            "tags": []
          }
        }
      ]
    },
    {
      "cell_type": "markdown",
      "metadata": {
        "id": "DrFqiUwcwSS4",
        "colab_type": "text"
      },
      "source": [
        "####[LSM-10]\n",
        "Show weights after the training."
      ]
    },
    {
      "cell_type": "code",
      "metadata": {
        "id": "ffVp0em2Sn4U",
        "colab_type": "code",
        "outputId": "a141a711-19b4-43b1-87b1-1b6b786310bb",
        "colab": {
          "base_uri": "https://localhost:8080/",
          "height": 85
        }
      },
      "source": [
        "model.get_weights()"
      ],
      "execution_count": 11,
      "outputs": [
        {
          "output_type": "execute_result",
          "data": {
            "text/plain": [
              "[array([[-1.116873  ],\n",
              "        [ 1.6452271 ],\n",
              "        [-0.18571031],\n",
              "        [ 0.0047731 ]], dtype=float32), array([3.3133092], dtype=float32)]"
            ]
          },
          "metadata": {
            "tags": []
          },
          "execution_count": 11
        }
      ]
    },
    {
      "cell_type": "markdown",
      "metadata": {
        "id": "9ewLkGc-waB4",
        "colab_type": "text"
      },
      "source": [
        "####[LSM-11]\n",
        "Define a function to predict values using the final weights."
      ]
    },
    {
      "cell_type": "code",
      "metadata": {
        "id": "587A6vekhVdw",
        "colab_type": "code",
        "colab": {}
      },
      "source": [
        "w, b = model.get_weights()\n",
        "def predict(x):\n",
        "    pred = b[0] + sum([w[n][0] * x**(n+1) for n in range(0, 4)])\n",
        "    return pred"
      ],
      "execution_count": 0,
      "outputs": []
    },
    {
      "cell_type": "markdown",
      "metadata": {
        "id": "8vbl6mtdwi_z",
        "colab_type": "text"
      },
      "source": [
        "####[LSM-12]\n",
        "Plot a chart for predictions."
      ]
    },
    {
      "cell_type": "code",
      "metadata": {
        "id": "EQCm_ZqJzV7T",
        "colab_type": "code",
        "outputId": "fbed786f-03de-4f82-c1ff-203f2e3acef7",
        "colab": {
          "base_uri": "https://localhost:8080/",
          "height": 286
        }
      },
      "source": [
        "fig = plt.figure()\n",
        "subplot = fig.add_subplot(1, 1, 1)\n",
        "subplot.set_xlim(1, 12)\n",
        "subplot.scatter(range(1, 13), train_t)\n",
        "xs = np.linspace(1, 12, 100)\n",
        "ys = predict(xs)\n",
        "subplot.plot(xs, ys)"
      ],
      "execution_count": 13,
      "outputs": [
        {
          "output_type": "execute_result",
          "data": {
            "text/plain": [
              "[<matplotlib.lines.Line2D at 0x7fd51760e358>]"
            ]
          },
          "metadata": {
            "tags": []
          },
          "execution_count": 13
        },
        {
          "output_type": "display_data",
          "data": {
            "image/png": "[encoded data removed]",
            "text/plain": [
              "<Figure size 432x288 with 1 Axes>"
            ]
          },
          "metadata": {
            "tags": []
          }
        }
      ]
    }
  ]
}