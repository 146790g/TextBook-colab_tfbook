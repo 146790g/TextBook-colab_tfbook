{
  "nbformat": 4,
  "nbformat_minor": 0,
  "metadata": {
    "colab": {
      "name": "1. Least squares method with low-level API.ipynb",
      "version": "0.3.2",
      "provenance": [],
      "collapsed_sections": []
    },
    "kernelspec": {
      "name": "python3",
      "display_name": "Python 3"
    }
  },
  "cells": [
    {
      "metadata": {
        "id": "CbJ273-zXvzb",
        "colab_type": "text"
      },
      "cell_type": "markdown",
      "source": [
        "# Least Squares Method with Low-level API"
      ]
    },
    {
      "metadata": {
        "id": "wg-evE3LWM-O",
        "colab_type": "text"
      },
      "cell_type": "markdown",
      "source": [
        "Note: This notebook is desinged to run with Python3 and CPU (no GPU) runtime.\n",
        "\n",
        "![Python 3 and CPU runtime](https://raw.githubusercontent.com/enakai00/colab_tfbook/master/docs/imgs/runtime_cpu.png)"
      ]
    },
    {
      "metadata": {
        "id": "VJO3PPzqsq8d",
        "colab_type": "text"
      },
      "cell_type": "markdown",
      "source": [
        "####[LSL-01]\n",
        "Import modules."
      ]
    },
    {
      "metadata": {
        "id": "gB5UUoAXIVmC",
        "colab_type": "code",
        "colab": {}
      },
      "cell_type": "code",
      "source": [
        "import numpy as np\n",
        "import matplotlib.pyplot as plt\n",
        "import tensorflow as tf\n",
        "\n",
        "plt.rcParams['axes.facecolor'] = 'snow'"
      ],
      "execution_count": 0,
      "outputs": []
    },
    {
      "metadata": {
        "id": "yz2h7_8St1wi",
        "colab_type": "text"
      },
      "cell_type": "markdown",
      "source": [
        "####[LSL-02]\n",
        "Prepare the training dateset."
      ]
    },
    {
      "metadata": {
        "id": "ASgzWK5AjWvn",
        "colab_type": "code",
        "colab": {}
      },
      "cell_type": "code",
      "source": [
        "train_t = np.array([5.2, 5.7, 8.6, 14.9, 18.2, 20.4,\n",
        "                    25.5, 26.4, 22.8, 17.5, 11.1, 6.6])\n",
        "train_t = train_t.reshape([12, 1])\n",
        "train_x = np.array([[mon**n for n in range(0, 5)]\n",
        "                    for mon in range(1, 13)])"
      ],
      "execution_count": 0,
      "outputs": []
    },
    {
      "metadata": {
        "id": "SAVhouWduMh7",
        "colab_type": "text"
      },
      "cell_type": "markdown",
      "source": [
        "####[LSL-03]\n",
        "`train_x` contains the list $[x^0, x^1, x^2, x^3, x^4]$ for $x=1,...,12$."
      ]
    },
    {
      "metadata": {
        "id": "Hp4EnlqvToYN",
        "colab_type": "code",
        "outputId": "13d3a736-8d1b-47d6-8bfe-ef99b0173cc2",
        "colab": {
          "base_uri": "https://localhost:8080/",
          "height": 221
        }
      },
      "cell_type": "code",
      "source": [
        "train_x"
      ],
      "execution_count": 0,
      "outputs": [
        {
          "output_type": "execute_result",
          "data": {
            "text/plain": [
              "array([[    1,     1,     1,     1,     1],\n",
              "       [    1,     2,     4,     8,    16],\n",
              "       [    1,     3,     9,    27,    81],\n",
              "       [    1,     4,    16,    64,   256],\n",
              "       [    1,     5,    25,   125,   625],\n",
              "       [    1,     6,    36,   216,  1296],\n",
              "       [    1,     7,    49,   343,  2401],\n",
              "       [    1,     8,    64,   512,  4096],\n",
              "       [    1,     9,    81,   729,  6561],\n",
              "       [    1,    10,   100,  1000, 10000],\n",
              "       [    1,    11,   121,  1331, 14641],\n",
              "       [    1,    12,   144,  1728, 20736]])"
            ]
          },
          "metadata": {
            "tags": []
          },
          "execution_count": 3
        }
      ]
    },
    {
      "metadata": {
        "id": "qdQ0Tp2IvFy8",
        "colab_type": "text"
      },
      "cell_type": "markdown",
      "source": [
        "####[LSL-04]\n",
        "`train_t` contins the corresponding lables for $x=1,...,12$."
      ]
    },
    {
      "metadata": {
        "id": "tpL_niBTXggS",
        "colab_type": "code",
        "outputId": "a085b7ab-38c5-4b1d-e572-7a342d33ce1f",
        "colab": {
          "base_uri": "https://localhost:8080/",
          "height": 221
        }
      },
      "cell_type": "code",
      "source": [
        "train_t"
      ],
      "execution_count": 0,
      "outputs": [
        {
          "output_type": "execute_result",
          "data": {
            "text/plain": [
              "array([[ 5.2],\n",
              "       [ 5.7],\n",
              "       [ 8.6],\n",
              "       [14.9],\n",
              "       [18.2],\n",
              "       [20.4],\n",
              "       [25.5],\n",
              "       [26.4],\n",
              "       [22.8],\n",
              "       [17.5],\n",
              "       [11.1],\n",
              "       [ 6.6]])"
            ]
          },
          "metadata": {
            "tags": []
          },
          "execution_count": 4
        }
      ]
    },
    {
      "metadata": {
        "id": "fmnjQdqAvQRw",
        "colab_type": "text"
      },
      "cell_type": "markdown",
      "source": [
        "####[LSL-05]\n",
        "Definie a placeholder to hold the training dataset."
      ]
    },
    {
      "metadata": {
        "id": "BakcuKxdQoSL",
        "colab_type": "code",
        "colab": {}
      },
      "cell_type": "code",
      "source": [
        "x = tf.placeholder(tf.float32, [None, 5])"
      ],
      "execution_count": 0,
      "outputs": []
    },
    {
      "metadata": {
        "id": "efpWHnG3ep6b",
        "colab_type": "text"
      },
      "cell_type": "markdown",
      "source": [
        "####[LSL-06]\n",
        "Definie variables for weights."
      ]
    },
    {
      "metadata": {
        "id": "kfxoIs4PZbxc",
        "colab_type": "code",
        "outputId": "4e88a9ca-f1de-45c0-8fa3-fd4e2c738e9c",
        "colab": {
          "base_uri": "https://localhost:8080/",
          "height": 88
        }
      },
      "cell_type": "code",
      "source": [
        "w = tf.Variable(tf.zeros([5, 1]))"
      ],
      "execution_count": 0,
      "outputs": [
        {
          "output_type": "stream",
          "text": [
            "WARNING:tensorflow:From /usr/local/lib/python3.6/dist-packages/tensorflow/python/framework/op_def_library.py:263: colocate_with (from tensorflow.python.framework.ops) is deprecated and will be removed in a future version.\n",
            "Instructions for updating:\n",
            "Colocations handled automatically by placer.\n"
          ],
          "name": "stdout"
        }
      ]
    },
    {
      "metadata": {
        "id": "CokPQLJZezOa",
        "colab_type": "text"
      },
      "cell_type": "markdown",
      "source": [
        "####[LSL-07]\n",
        "Definie a ploynomial to predict label values."
      ]
    },
    {
      "metadata": {
        "id": "NrBwyvASZiCs",
        "colab_type": "code",
        "colab": {}
      },
      "cell_type": "code",
      "source": [
        "y = tf.matmul(x, w)"
      ],
      "execution_count": 0,
      "outputs": []
    },
    {
      "metadata": {
        "id": "RJnDglfne6OM",
        "colab_type": "text"
      },
      "cell_type": "markdown",
      "source": [
        "####[LSL-08]\n",
        "Definie a placeholder to hold the label values."
      ]
    },
    {
      "metadata": {
        "id": "-YCXdrhUZniE",
        "colab_type": "code",
        "colab": {}
      },
      "cell_type": "code",
      "source": [
        "t = tf.placeholder(tf.float32, [None, 1])"
      ],
      "execution_count": 0,
      "outputs": []
    },
    {
      "metadata": {
        "id": "fBltXsSRvZn0",
        "colab_type": "text"
      },
      "cell_type": "markdown",
      "source": [
        "####[LSL-09]\n",
        "Definine a loss function as Square error."
      ]
    },
    {
      "metadata": {
        "id": "NQcsk7oMZpni",
        "colab_type": "code",
        "colab": {}
      },
      "cell_type": "code",
      "source": [
        "loss = tf.reduce_sum(tf.square(y-t))"
      ],
      "execution_count": 0,
      "outputs": []
    },
    {
      "metadata": {
        "id": "YDNieEQlfYlt",
        "colab_type": "text"
      },
      "cell_type": "markdown",
      "source": [
        "####[LSL-10]\n",
        "Define an optimization step  using the Adam optimizer"
      ]
    },
    {
      "metadata": {
        "id": "V0uhylUwZrGz",
        "colab_type": "code",
        "colab": {}
      },
      "cell_type": "code",
      "source": [
        "train_step = tf.train.AdamOptimizer().minimize(loss)"
      ],
      "execution_count": 0,
      "outputs": []
    },
    {
      "metadata": {
        "id": "j5tuF6XFfmL7",
        "colab_type": "text"
      },
      "cell_type": "markdown",
      "source": [
        "####[LSL-11]\n",
        "Create a session and initialize variables."
      ]
    },
    {
      "metadata": {
        "id": "8H-skyBNZsmF",
        "colab_type": "code",
        "colab": {}
      },
      "cell_type": "code",
      "source": [
        "sess = tf.Session()\n",
        "sess.run(tf.global_variables_initializer())"
      ],
      "execution_count": 0,
      "outputs": []
    },
    {
      "metadata": {
        "id": "PjbE4TVBvqCh",
        "colab_type": "text"
      },
      "cell_type": "markdown",
      "source": [
        "####[LSL-12]\n",
        "Apply the optimization step for 100,000 epochs."
      ]
    },
    {
      "metadata": {
        "id": "e5_g4y_WZ0Di",
        "colab_type": "code",
        "outputId": "004102c2-fcbc-4ee6-ab3c-11c1f8ae8a9f",
        "colab": {
          "base_uri": "https://localhost:8080/",
          "height": 187
        }
      },
      "cell_type": "code",
      "source": [
        "i = 0\n",
        "for _ in range(100000):\n",
        "    i += 1\n",
        "    sess.run(train_step, feed_dict={x:train_x, t:train_t})\n",
        "    if i % 10000 == 0:\n",
        "        loss_val = sess.run(loss, feed_dict={x:train_x, t:train_t})\n",
        "        print ('Step: {}, Loss: {}'.format(i, loss_val))"
      ],
      "execution_count": 0,
      "outputs": [
        {
          "output_type": "stream",
          "text": [
            "Step: 10000, Loss: 31.03305435180664\n",
            "Step: 20000, Loss: 29.29587745666504\n",
            "Step: 30000, Loss: 28.028335571289062\n",
            "Step: 40000, Loss: 26.861082077026367\n",
            "Step: 50000, Loss: 26.942289352416992\n",
            "Step: 60000, Loss: 24.808706283569336\n",
            "Step: 70000, Loss: 23.84157943725586\n",
            "Step: 80000, Loss: 22.980117797851562\n",
            "Step: 90000, Loss: 22.43254852294922\n",
            "Step: 100000, Loss: 21.46685791015625\n"
          ],
          "name": "stdout"
        }
      ]
    },
    {
      "metadata": {
        "id": "DrFqiUwcwSS4",
        "colab_type": "text"
      },
      "cell_type": "markdown",
      "source": [
        "####[LSL-13]\n",
        "Show weights after the training."
      ]
    },
    {
      "metadata": {
        "id": "_vxbUQ7qaOAG",
        "colab_type": "code",
        "outputId": "7ef85bc0-d45d-4956-90d3-21e94d627037",
        "colab": {
          "base_uri": "https://localhost:8080/",
          "height": 102
        }
      },
      "cell_type": "code",
      "source": [
        "sess.run(w)"
      ],
      "execution_count": 0,
      "outputs": [
        {
          "output_type": "execute_result",
          "data": {
            "text/plain": [
              "array([[ 3.7626748 ],\n",
              "       [-1.5874788 ],\n",
              "       [ 1.7844566 ],\n",
              "       [-0.20113584],\n",
              "       [ 0.00536442]], dtype=float32)"
            ]
          },
          "metadata": {
            "tags": []
          },
          "execution_count": 13
        }
      ]
    },
    {
      "metadata": {
        "id": "9ewLkGc-waB4",
        "colab_type": "text"
      },
      "cell_type": "markdown",
      "source": [
        "####[LSL-14]\n",
        "Define a function to predict values using the final weights."
      ]
    },
    {
      "metadata": {
        "id": "587A6vekhVdw",
        "colab_type": "code",
        "colab": {}
      },
      "cell_type": "code",
      "source": [
        "ws = sess.run(w)\n",
        "def predict(x):\n",
        "    pred = sum([ws[n][0] * x**n for n in range(0, 5)])\n",
        "    return pred"
      ],
      "execution_count": 0,
      "outputs": []
    },
    {
      "metadata": {
        "id": "8vbl6mtdwi_z",
        "colab_type": "text"
      },
      "cell_type": "markdown",
      "source": [
        "####[LSL-15]\n",
        "Plot a chart for predictions."
      ]
    },
    {
      "metadata": {
        "id": "EQCm_ZqJzV7T",
        "colab_type": "code",
        "outputId": "31e6c95f-ce58-4465-9b47-fc8e7cf7d734",
        "colab": {
          "base_uri": "https://localhost:8080/",
          "height": 364
        }
      },
      "cell_type": "code",
      "source": [
        "fig = plt.figure()\n",
        "subplot = fig.add_subplot(1, 1, 1)\n",
        "subplot.grid(None)\n",
        "subplot.set_xlim(1, 12)\n",
        "subplot.set_xticks(range(1, 13))\n",
        "subplot.scatter(range(1, 13), train_t)\n",
        "xs = np.linspace(1, 12, 100)\n",
        "ys = predict(xs)\n",
        "subplot.plot(xs, ys)"
      ],
      "execution_count": 0,
      "outputs": [
        {
          "output_type": "execute_result",
          "data": {
            "text/plain": [
              "[<matplotlib.lines.Line2D at 0x7f06bfbc36a0>]"
            ]
          },
          "metadata": {
            "tags": []
          },
          "execution_count": 15
        },
        {
          "output_type": "display_data",
          "data": {
            "image/png": "[encoded data removed]",
            "text/plain": [
              "<Figure size 576x396 with 1 Axes>"
            ]
          },
          "metadata": {
            "tags": []
          }
        }
      ]
    }
  ]
}