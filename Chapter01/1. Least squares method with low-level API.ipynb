{
  "nbformat": 4,
  "nbformat_minor": 0,
  "metadata": {
    "colab": {
      "name": "1. Least squares method with low-level API.ipynb",
      "version": "0.3.2",
      "provenance": [],
      "collapsed_sections": []
    },
    "kernelspec": {
      "name": "python3",
      "display_name": "Python 3"
    }
  },
  "cells": [
    {
      "cell_type": "markdown",
      "metadata": {
        "id": "CbJ273-zXvzb",
        "colab_type": "text"
      },
      "source": [
        "# Least Squares Method with Low-level API"
      ]
    },
    {
      "cell_type": "markdown",
      "metadata": {
        "id": "wg-evE3LWM-O",
        "colab_type": "text"
      },
      "source": [
        "Note: This notebook is desinged to run with Python3 and CPU (no GPU) runtime.\n",
        "\n",
        "![Python 3 and CPU runtime](https://raw.githubusercontent.com/enakai00/colab_tfbook/master/docs/imgs/runtime_cpu.png)"
      ]
    },
    {
      "cell_type": "markdown",
      "metadata": {
        "id": "zr6_EW8A5Gmv",
        "colab_type": "text"
      },
      "source": [
        "Install TensorFlow 1.14.0."
      ]
    },
    {
      "cell_type": "code",
      "metadata": {
        "id": "JbkalBlu_tTK",
        "colab_type": "code",
        "colab": {
          "base_uri": "https://localhost:8080/",
          "height": 34
        },
        "outputId": "72caf38b-ecd0-4b1e-c78b-2809255f9d29"
      },
      "source": [
        "%%bash\n",
        "if pip freeze | grep -q '^tensorflow==1.14.0$'; then\n",
        "  echo 'tensorflow==1.14.0 is already installed. No actions are required.'\n",
        "else\n",
        "  echo 'Installing tensorflow==1.14.0. Don\\'t forget to restart the runtime.\n",
        "  pip install tensorflow==1.14.0\n",
        "fi"
      ],
      "execution_count": 1,
      "outputs": [
        {
          "output_type": "stream",
          "text": [
            "tensorflow==1.14.0 is already installed. No actions are required.\n"
          ],
          "name": "stdout"
        }
      ]
    },
    {
      "cell_type": "markdown",
      "metadata": {
        "id": "VJO3PPzqsq8d",
        "colab_type": "text"
      },
      "source": [
        "####[LSL-01]\n",
        "Import modules."
      ]
    },
    {
      "cell_type": "code",
      "metadata": {
        "id": "gB5UUoAXIVmC",
        "colab_type": "code",
        "colab": {}
      },
      "source": [
        "import numpy as np\n",
        "import matplotlib.pyplot as plt\n",
        "import tensorflow as tf"
      ],
      "execution_count": 0,
      "outputs": []
    },
    {
      "cell_type": "markdown",
      "metadata": {
        "id": "yz2h7_8St1wi",
        "colab_type": "text"
      },
      "source": [
        "####[LSL-02]\n",
        "Prepare the training dateset."
      ]
    },
    {
      "cell_type": "code",
      "metadata": {
        "id": "ASgzWK5AjWvn",
        "colab_type": "code",
        "colab": {}
      },
      "source": [
        "train_t = np.array([5.2, 5.7, 8.6, 14.9, 18.2, 20.4,\n",
        "                    25.5, 26.4, 22.8, 17.5, 11.1, 6.6])\n",
        "train_t = train_t.reshape([12, 1])\n",
        "train_x = np.array([[mon**n for n in range(0, 5)]\n",
        "                    for mon in range(1, 13)])"
      ],
      "execution_count": 0,
      "outputs": []
    },
    {
      "cell_type": "markdown",
      "metadata": {
        "id": "SAVhouWduMh7",
        "colab_type": "text"
      },
      "source": [
        "####[LSL-03]\n",
        "`train_x` contains the list $[x^0, x^1, x^2, x^3, x^4]$ for $x=1,...,12$."
      ]
    },
    {
      "cell_type": "code",
      "metadata": {
        "id": "Hp4EnlqvToYN",
        "colab_type": "code",
        "outputId": "64aa76fe-5535-41b2-b64e-82f1117f7952",
        "colab": {
          "base_uri": "https://localhost:8080/",
          "height": 221
        }
      },
      "source": [
        "train_x"
      ],
      "execution_count": 4,
      "outputs": [
        {
          "output_type": "execute_result",
          "data": {
            "text/plain": [
              "array([[    1,     1,     1,     1,     1],\n",
              "       [    1,     2,     4,     8,    16],\n",
              "       [    1,     3,     9,    27,    81],\n",
              "       [    1,     4,    16,    64,   256],\n",
              "       [    1,     5,    25,   125,   625],\n",
              "       [    1,     6,    36,   216,  1296],\n",
              "       [    1,     7,    49,   343,  2401],\n",
              "       [    1,     8,    64,   512,  4096],\n",
              "       [    1,     9,    81,   729,  6561],\n",
              "       [    1,    10,   100,  1000, 10000],\n",
              "       [    1,    11,   121,  1331, 14641],\n",
              "       [    1,    12,   144,  1728, 20736]])"
            ]
          },
          "metadata": {
            "tags": []
          },
          "execution_count": 4
        }
      ]
    },
    {
      "cell_type": "markdown",
      "metadata": {
        "id": "qdQ0Tp2IvFy8",
        "colab_type": "text"
      },
      "source": [
        "####[LSL-04]\n",
        "`train_t` contins the corresponding lables for $x=1,...,12$."
      ]
    },
    {
      "cell_type": "code",
      "metadata": {
        "id": "tpL_niBTXggS",
        "colab_type": "code",
        "outputId": "a59d34bc-bb83-4d9d-d6c1-ccef9114d877",
        "colab": {
          "base_uri": "https://localhost:8080/",
          "height": 221
        }
      },
      "source": [
        "train_t"
      ],
      "execution_count": 5,
      "outputs": [
        {
          "output_type": "execute_result",
          "data": {
            "text/plain": [
              "array([[ 5.2],\n",
              "       [ 5.7],\n",
              "       [ 8.6],\n",
              "       [14.9],\n",
              "       [18.2],\n",
              "       [20.4],\n",
              "       [25.5],\n",
              "       [26.4],\n",
              "       [22.8],\n",
              "       [17.5],\n",
              "       [11.1],\n",
              "       [ 6.6]])"
            ]
          },
          "metadata": {
            "tags": []
          },
          "execution_count": 5
        }
      ]
    },
    {
      "cell_type": "markdown",
      "metadata": {
        "id": "fmnjQdqAvQRw",
        "colab_type": "text"
      },
      "source": [
        "####[LSL-05]\n",
        "Definie a placeholder to hold the training dataset."
      ]
    },
    {
      "cell_type": "code",
      "metadata": {
        "id": "BakcuKxdQoSL",
        "colab_type": "code",
        "colab": {}
      },
      "source": [
        "x = tf.placeholder(tf.float32, [None, 5])"
      ],
      "execution_count": 0,
      "outputs": []
    },
    {
      "cell_type": "markdown",
      "metadata": {
        "id": "efpWHnG3ep6b",
        "colab_type": "text"
      },
      "source": [
        "####[LSL-06]\n",
        "Definie variables for weights."
      ]
    },
    {
      "cell_type": "code",
      "metadata": {
        "id": "kfxoIs4PZbxc",
        "colab_type": "code",
        "colab": {}
      },
      "source": [
        "w = tf.Variable(tf.zeros([5, 1]))"
      ],
      "execution_count": 0,
      "outputs": []
    },
    {
      "cell_type": "markdown",
      "metadata": {
        "id": "CokPQLJZezOa",
        "colab_type": "text"
      },
      "source": [
        "####[LSL-07]\n",
        "Definie a ploynomial to predict label values."
      ]
    },
    {
      "cell_type": "code",
      "metadata": {
        "id": "NrBwyvASZiCs",
        "colab_type": "code",
        "colab": {}
      },
      "source": [
        "y = tf.matmul(x, w)"
      ],
      "execution_count": 0,
      "outputs": []
    },
    {
      "cell_type": "markdown",
      "metadata": {
        "id": "RJnDglfne6OM",
        "colab_type": "text"
      },
      "source": [
        "####[LSL-08]\n",
        "Definie a placeholder to hold the label values."
      ]
    },
    {
      "cell_type": "code",
      "metadata": {
        "id": "-YCXdrhUZniE",
        "colab_type": "code",
        "colab": {}
      },
      "source": [
        "t = tf.placeholder(tf.float32, [None, 1])"
      ],
      "execution_count": 0,
      "outputs": []
    },
    {
      "cell_type": "markdown",
      "metadata": {
        "id": "fBltXsSRvZn0",
        "colab_type": "text"
      },
      "source": [
        "####[LSL-09]\n",
        "Definine a loss function as Square error."
      ]
    },
    {
      "cell_type": "code",
      "metadata": {
        "id": "NQcsk7oMZpni",
        "colab_type": "code",
        "colab": {}
      },
      "source": [
        "loss = tf.reduce_sum(tf.square(y-t))"
      ],
      "execution_count": 0,
      "outputs": []
    },
    {
      "cell_type": "markdown",
      "metadata": {
        "id": "YDNieEQlfYlt",
        "colab_type": "text"
      },
      "source": [
        "####[LSL-10]\n",
        "Define an optimization step  using the Adam optimizer"
      ]
    },
    {
      "cell_type": "code",
      "metadata": {
        "id": "V0uhylUwZrGz",
        "colab_type": "code",
        "colab": {}
      },
      "source": [
        "train_step = tf.train.AdamOptimizer().minimize(loss)"
      ],
      "execution_count": 0,
      "outputs": []
    },
    {
      "cell_type": "markdown",
      "metadata": {
        "id": "j5tuF6XFfmL7",
        "colab_type": "text"
      },
      "source": [
        "####[LSL-11]\n",
        "Create a session and initialize variables."
      ]
    },
    {
      "cell_type": "code",
      "metadata": {
        "id": "8H-skyBNZsmF",
        "colab_type": "code",
        "colab": {}
      },
      "source": [
        "sess = tf.Session()\n",
        "sess.run(tf.global_variables_initializer())"
      ],
      "execution_count": 0,
      "outputs": []
    },
    {
      "cell_type": "markdown",
      "metadata": {
        "id": "PjbE4TVBvqCh",
        "colab_type": "text"
      },
      "source": [
        "####[LSL-12]\n",
        "Apply the optimization step for 100,000 epochs."
      ]
    },
    {
      "cell_type": "code",
      "metadata": {
        "id": "e5_g4y_WZ0Di",
        "colab_type": "code",
        "outputId": "4be35eaa-f1b6-4c47-e14d-797e1a854ce8",
        "colab": {
          "base_uri": "https://localhost:8080/",
          "height": 187
        }
      },
      "source": [
        "i = 0\n",
        "for _ in range(100000):\n",
        "    i += 1\n",
        "    sess.run(train_step, feed_dict={x:train_x, t:train_t})\n",
        "    if i % 10000 == 0:\n",
        "        loss_val = sess.run(loss, feed_dict={x:train_x, t:train_t})\n",
        "        print ('Step: {}, Loss: {}'.format(i, loss_val))"
      ],
      "execution_count": 13,
      "outputs": [
        {
          "output_type": "stream",
          "text": [
            "Step: 10000, Loss: 31.012832641601562\n",
            "Step: 20000, Loss: 29.292377471923828\n",
            "Step: 30000, Loss: 28.031116485595703\n",
            "Step: 40000, Loss: 27.911422729492188\n",
            "Step: 50000, Loss: 25.769744873046875\n",
            "Step: 60000, Loss: 24.764514923095703\n",
            "Step: 70000, Loss: 23.839672088623047\n",
            "Step: 80000, Loss: 22.97088050842285\n",
            "Step: 90000, Loss: 22.467998504638672\n",
            "Step: 100000, Loss: 21.445119857788086\n"
          ],
          "name": "stdout"
        }
      ]
    },
    {
      "cell_type": "markdown",
      "metadata": {
        "id": "DrFqiUwcwSS4",
        "colab_type": "text"
      },
      "source": [
        "####[LSL-13]\n",
        "Show weights after the training."
      ]
    },
    {
      "cell_type": "code",
      "metadata": {
        "id": "_vxbUQ7qaOAG",
        "colab_type": "code",
        "outputId": "bc31e99f-fa60-4a69-d675-623e2dffc9ff",
        "colab": {
          "base_uri": "https://localhost:8080/",
          "height": 102
        }
      },
      "source": [
        "sess.run(w)"
      ],
      "execution_count": 14,
      "outputs": [
        {
          "output_type": "execute_result",
          "data": {
            "text/plain": [
              "array([[ 3.7658305 ],\n",
              "       [-1.5907954 ],\n",
              "       [ 1.7854367 ],\n",
              "       [-0.20124646],\n",
              "       [ 0.00536682]], dtype=float32)"
            ]
          },
          "metadata": {
            "tags": []
          },
          "execution_count": 14
        }
      ]
    },
    {
      "cell_type": "markdown",
      "metadata": {
        "id": "9ewLkGc-waB4",
        "colab_type": "text"
      },
      "source": [
        "####[LSL-14]\n",
        "Define a function to predict values using the final weights."
      ]
    },
    {
      "cell_type": "code",
      "metadata": {
        "id": "587A6vekhVdw",
        "colab_type": "code",
        "colab": {}
      },
      "source": [
        "ws = sess.run(w)\n",
        "def predict(x):\n",
        "    pred = sum([ws[n][0] * x**n for n in range(0, 5)])\n",
        "    return pred"
      ],
      "execution_count": 0,
      "outputs": []
    },
    {
      "cell_type": "markdown",
      "metadata": {
        "id": "8vbl6mtdwi_z",
        "colab_type": "text"
      },
      "source": [
        "####[LSL-15]\n",
        "Plot a chart for predictions."
      ]
    },
    {
      "cell_type": "code",
      "metadata": {
        "id": "EQCm_ZqJzV7T",
        "colab_type": "code",
        "outputId": "2fcf6789-ac84-4ab2-b7e4-0f1e34d3fb5b",
        "colab": {
          "base_uri": "https://localhost:8080/",
          "height": 286
        }
      },
      "source": [
        "fig = plt.figure()\n",
        "subplot = fig.add_subplot(1, 1, 1)\n",
        "subplot.set_xlim(1, 12)\n",
        "subplot.set_xticks(range(1, 13))\n",
        "subplot.scatter(range(1, 13), train_t)\n",
        "xs = np.linspace(1, 12, 100)\n",
        "ys = predict(xs)\n",
        "subplot.plot(xs, ys)"
      ],
      "execution_count": 16,
      "outputs": [
        {
          "output_type": "execute_result",
          "data": {
            "text/plain": [
              "[<matplotlib.lines.Line2D at 0x7ff8c157b390>]"
            ]
          },
          "metadata": {
            "tags": []
          },
          "execution_count": 16
        },
        {
          "output_type": "display_data",
          "data": {
            "image/png": "[encoded data removed]",
            "text/plain": [
              "<Figure size 432x288 with 1 Axes>"
            ]
          },
          "metadata": {
            "tags": []
          }
        }
      ]
    }
  ]
}