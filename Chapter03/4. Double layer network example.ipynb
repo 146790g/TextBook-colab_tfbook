{
  "nbformat": 4,
  "nbformat_minor": 0,
  "metadata": {
    "colab": {
      "name": "4. Double layer network example.ipynb",
      "version": "0.3.2",
      "provenance": [],
      "collapsed_sections": []
    },
    "kernelspec": {
      "name": "python3",
      "display_name": "Python 3"
    }
  },
  "cells": [
    {
      "cell_type": "markdown",
      "metadata": {
        "id": "z2VHzhy6-YVW",
        "colab_type": "text"
      },
      "source": [
        "# Double Layer Network Example"
      ]
    },
    {
      "cell_type": "markdown",
      "metadata": {
        "id": "zv1yWJVN-duo",
        "colab_type": "text"
      },
      "source": [
        "Note: This notebook is desinged to run with Python3 and CPU (no GPU) runtime.\n",
        "\n",
        "![Python 3 and CPU runtime](https://raw.githubusercontent.com/enakai00/colab_tfbook/master/docs/imgs/runtime_cpu.png)"
      ]
    },
    {
      "cell_type": "markdown",
      "metadata": {
        "id": "VJO3PPzqsq8d",
        "colab_type": "text"
      },
      "source": [
        "####[DNE-01]\n",
        "Import modules and set a random seed."
      ]
    },
    {
      "cell_type": "code",
      "metadata": {
        "id": "gB5UUoAXIVmC",
        "colab_type": "code",
        "outputId": "234be836-a68b-40ee-cf67-cc991a48b101",
        "colab": {
          "base_uri": "https://localhost:8080/",
          "height": 34
        }
      },
      "source": [
        "import numpy as np\n",
        "from numpy.random import multivariate_normal, permutation\n",
        "import pandas as pd\n",
        "from pandas import DataFrame\n",
        "import matplotlib.pyplot as plt\n",
        "\n",
        "import tensorflow as tf\n",
        "import keras\n",
        "from keras import layers, models, initializers\n",
        "\n",
        "np.random.seed(20160615)\n",
        "tf.set_random_seed(20160614)"
      ],
      "execution_count": 1,
      "outputs": [
        {
          "output_type": "stream",
          "text": [
            "Using TensorFlow backend.\n"
          ],
          "name": "stderr"
        }
      ]
    },
    {
      "cell_type": "markdown",
      "metadata": {
        "id": "yz2h7_8St1wi",
        "colab_type": "text"
      },
      "source": [
        "####[DNE-02]\n",
        "Generate a training dateset."
      ]
    },
    {
      "cell_type": "code",
      "metadata": {
        "id": "ASgzWK5AjWvn",
        "colab_type": "code",
        "colab": {}
      },
      "source": [
        "def generate_datablock(n, mu, var, t):\n",
        "    data = multivariate_normal(mu, np.eye(2)*var, n)\n",
        "    df = DataFrame(data, columns=['x1', 'x2'])\n",
        "    df['t'] = t\n",
        "    return df\n",
        "\n",
        "df0 = generate_datablock(30, [-7,-7], 18, 1)\n",
        "df1 = generate_datablock(30, [-7,7], 18, 0)\n",
        "df2 = generate_datablock(30, [7,-7], 18, 0)\n",
        "df3 = generate_datablock(30, [7,7], 18, 1)\n",
        "\n",
        "df = pd.concat([df0, df1, df2, df3], ignore_index=True)\n",
        "train_set = df.reindex(permutation(df.index)).reset_index(drop=True)"
      ],
      "execution_count": 0,
      "outputs": []
    },
    {
      "cell_type": "markdown",
      "metadata": {
        "id": "GeoERRDrryKF",
        "colab_type": "text"
      },
      "source": [
        "####[DNE-03]\n",
        "Store the coordinates $(x_1,x_2)$ and label values $t$ into NumPy arrays."
      ]
    },
    {
      "cell_type": "code",
      "metadata": {
        "id": "Sb0P6z0h4nMF",
        "colab_type": "code",
        "colab": {}
      },
      "source": [
        "train_x = train_set[['x1', 'x2']].values\n",
        "train_t = train_set['t'].values"
      ],
      "execution_count": 0,
      "outputs": []
    },
    {
      "cell_type": "markdown",
      "metadata": {
        "id": "qdQ0Tp2IvFy8",
        "colab_type": "text"
      },
      "source": [
        "####[DNE-04]\n",
        "Define a model for the binary classification using two hidden layers.\n",
        "\n",
        "Weights in the hidden layers are initialized with random values."
      ]
    },
    {
      "cell_type": "code",
      "metadata": {
        "id": "tpL_niBTXggS",
        "colab_type": "code",
        "outputId": "2d27f803-8b82-44e6-e9c8-9fd4a57a6e55",
        "colab": {
          "base_uri": "https://localhost:8080/",
          "height": 309
        }
      },
      "source": [
        "model = models.Sequential()\n",
        "model.add(layers.Dense(2, activation='tanh',input_shape=(2,),\n",
        "                       kernel_initializer=initializers.TruncatedNormal(),\n",
        "                       name='hidden1'))\n",
        "model.add(layers.Dense(2, activation='tanh',\n",
        "                       kernel_initializer=initializers.TruncatedNormal(),\n",
        "                       name='hidden2'))\n",
        "model.add(layers.Dense(1, activation='sigmoid',\n",
        "                       name='output'))\n",
        "\n",
        "model.summary()"
      ],
      "execution_count": 4,
      "outputs": [
        {
          "output_type": "stream",
          "text": [
            "WARNING:tensorflow:From /usr/local/lib/python3.6/dist-packages/tensorflow/python/framework/op_def_library.py:263: colocate_with (from tensorflow.python.framework.ops) is deprecated and will be removed in a future version.\n",
            "Instructions for updating:\n",
            "Colocations handled automatically by placer.\n",
            "_________________________________________________________________\n",
            "Layer (type)                 Output Shape              Param #   \n",
            "=================================================================\n",
            "hidden1 (Dense)              (None, 2)                 6         \n",
            "_________________________________________________________________\n",
            "hidden2 (Dense)              (None, 2)                 6         \n",
            "_________________________________________________________________\n",
            "output (Dense)               (None, 1)                 3         \n",
            "=================================================================\n",
            "Total params: 15\n",
            "Trainable params: 15\n",
            "Non-trainable params: 0\n",
            "_________________________________________________________________\n"
          ],
          "name": "stdout"
        }
      ]
    },
    {
      "cell_type": "markdown",
      "metadata": {
        "id": "fBltXsSRvZn0",
        "colab_type": "text"
      },
      "source": [
        "####[DNE-05]\n",
        "Compile the model using the Adam optimizer, and Cross entroy as a loss function."
      ]
    },
    {
      "cell_type": "code",
      "metadata": {
        "id": "BakcuKxdQoSL",
        "colab_type": "code",
        "colab": {}
      },
      "source": [
        "model.compile(optimizer='adam',\n",
        "              loss='binary_crossentropy',\n",
        "              metrics=['acc'])"
      ],
      "execution_count": 0,
      "outputs": []
    },
    {
      "cell_type": "markdown",
      "metadata": {
        "id": "r8LmLDYO_Vf7",
        "colab_type": "text"
      },
      "source": [
        "####[DNE-06]\n",
        "Train the model."
      ]
    },
    {
      "cell_type": "code",
      "metadata": {
        "id": "LlQCTsKKXkr5",
        "colab_type": "code",
        "outputId": "08926c38-9ddf-408a-f780-9a472f92854d",
        "colab": {
          "base_uri": "https://localhost:8080/",
          "height": 88
        }
      },
      "source": [
        "history = model.fit(train_x, train_t,\n",
        "                    batch_size=len(train_set), epochs=2000, verbose=0)"
      ],
      "execution_count": 6,
      "outputs": [
        {
          "output_type": "stream",
          "text": [
            "WARNING:tensorflow:From /usr/local/lib/python3.6/dist-packages/tensorflow/python/ops/math_ops.py:3066: to_int32 (from tensorflow.python.ops.math_ops) is deprecated and will be removed in a future version.\n",
            "Instructions for updating:\n",
            "Use tf.cast instead.\n"
          ],
          "name": "stdout"
        }
      ]
    },
    {
      "cell_type": "markdown",
      "metadata": {
        "id": "gqLORk3JsMmb",
        "colab_type": "text"
      },
      "source": [
        "####[DNE-07]\n",
        "Plot charts for the accuracy and loss values."
      ]
    },
    {
      "cell_type": "code",
      "metadata": {
        "id": "5HYXAt_0vXwr",
        "colab_type": "code",
        "outputId": "da9c7ff7-8f3f-42af-8575-9466df210ea0",
        "colab": {
          "base_uri": "https://localhost:8080/",
          "height": 538
        }
      },
      "source": [
        "DataFrame({'acc': history.history['acc']}).plot(grid=False)\n",
        "DataFrame({'loss': history.history['loss']}).plot(grid=False)"
      ],
      "execution_count": 7,
      "outputs": [
        {
          "output_type": "execute_result",
          "data": {
            "text/plain": [
              "<matplotlib.axes._subplots.AxesSubplot at 0x7ff127258198>"
            ]
          },
          "metadata": {
            "tags": []
          },
          "execution_count": 7
        },
        {
          "output_type": "display_data",
          "data": {
            "image/png": "[encoded data removed]",
            "text/plain": [
              "<Figure size 432x288 with 1 Axes>"
            ]
          },
          "metadata": {
            "tags": []
          }
        },
        {
          "output_type": "display_data",
          "data": {
            "image/png": "[encoded data removed]",
            "text/plain": [
              "<Figure size 432x288 with 1 Axes>"
            ]
          },
          "metadata": {
            "tags": []
          }
        }
      ]
    },
    {
      "cell_type": "markdown",
      "metadata": {
        "id": "MpSePiAysZHn",
        "colab_type": "text"
      },
      "source": [
        "####[DNE-08]\n",
        "Plot charts for the final result."
      ]
    },
    {
      "cell_type": "code",
      "metadata": {
        "id": "jY2TeEWCwxix",
        "colab_type": "code",
        "outputId": "6b7fc214-53c8-4a3c-8294-44617fae57e5",
        "colab": {
          "base_uri": "https://localhost:8080/",
          "height": 449
        }
      },
      "source": [
        "train_set1 = train_set[train_set['t']==1]\n",
        "train_set2 = train_set[train_set['t']==0]\n",
        "\n",
        "fig = plt.figure(figsize=(7, 7))\n",
        "subplot = fig.add_subplot(1, 1, 1)\n",
        "subplot.set_ylim([-15, 15])\n",
        "subplot.set_xlim([-15, 15])\n",
        "subplot.scatter(train_set1.x1, train_set1.x2, marker='x')\n",
        "subplot.scatter(train_set2.x1, train_set2.x2, marker='o')\n",
        "\n",
        "locations = [[x1, x2] for x2 in np.linspace(-15, 15, 100) \n",
        "                      for x1 in np.linspace(-15, 15, 100)]\n",
        "p_vals = model.predict(np.array(locations)).reshape((100, 100))\n",
        "subplot.imshow(p_vals, origin='lower', extent=(-15, 15, -15, 15),\n",
        "               cmap=plt.cm.gray_r, alpha=0.5)"
      ],
      "execution_count": 8,
      "outputs": [
        {
          "output_type": "execute_result",
          "data": {
            "text/plain": [
              "<matplotlib.image.AxesImage at 0x7ff125140cf8>"
            ]
          },
          "metadata": {
            "tags": []
          },
          "execution_count": 8
        },
        {
          "output_type": "display_data",
          "data": {
            "image/png": "[encoded data removed]",
            "text/plain": [
              "<Figure size 504x504 with 1 Axes>"
            ]
          },
          "metadata": {
            "tags": []
          }
        }
      ]
    }
  ]
}