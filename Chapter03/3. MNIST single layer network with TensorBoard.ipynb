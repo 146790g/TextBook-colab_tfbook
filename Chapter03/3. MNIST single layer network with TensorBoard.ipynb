{
  "nbformat": 4,
  "nbformat_minor": 0,
  "metadata": {
    "colab": {
      "name": "3. MNIST single layer network with TensorBoard.ipynb",
      "version": "0.3.2",
      "provenance": [],
      "collapsed_sections": []
    },
    "kernelspec": {
      "name": "python3",
      "display_name": "Python 3"
    },
    "accelerator": "GPU"
  },
  "cells": [
    {
      "cell_type": "markdown",
      "metadata": {
        "id": "hyYNTPtMEVFS",
        "colab_type": "text"
      },
      "source": [
        "# MNIST Single Layer Network with TensorBoard"
      ]
    },
    {
      "cell_type": "markdown",
      "metadata": {
        "id": "4mpClHxXL51l",
        "colab_type": "text"
      },
      "source": [
        "Note: This notebook is desinged to run with Python3 and GPU runtime.\n",
        "\n",
        "![Python 3 and CPU runtime](https://raw.githubusercontent.com/enakai00/colab_tfbook/master/docs/imgs/runtime_gpu.png)"
      ]
    },
    {
      "cell_type": "markdown",
      "metadata": {
        "id": "eEcsPed9AUfE",
        "colab_type": "text"
      },
      "source": [
        "This notebook uses TensorFlow2.x."
      ]
    },
    {
      "cell_type": "code",
      "metadata": {
        "id": "N4qbP7L1QSqR",
        "colab_type": "code",
        "outputId": "255dba07-e074-4d7a-a732-32e33acd8133",
        "colab": {
          "base_uri": "https://localhost:8080/",
          "height": 34
        }
      },
      "source": [
        "%tensorflow_version 2.x"
      ],
      "execution_count": 1,
      "outputs": [
        {
          "output_type": "stream",
          "text": [
            "TensorFlow 2.x selected.\n"
          ],
          "name": "stdout"
        }
      ]
    },
    {
      "cell_type": "markdown",
      "metadata": {
        "id": "VJO3PPzqsq8d",
        "colab_type": "text"
      },
      "source": [
        "####[MST-01]\n",
        "Import modules and set random seeds."
      ]
    },
    {
      "cell_type": "code",
      "metadata": {
        "id": "gB5UUoAXIVmC",
        "colab_type": "code",
        "colab": {}
      },
      "source": [
        "import numpy as np\n",
        "import shutil\n",
        "  \n",
        "import tensorflow as tf\n",
        "from tensorflow.keras import layers, models, initializers, callbacks\n",
        "from tensorflow.keras.datasets import mnist\n",
        "\n",
        "np.random.seed(20190228)\n",
        "tf.random.set_seed(20190228)"
      ],
      "execution_count": 0,
      "outputs": []
    },
    {
      "cell_type": "markdown",
      "metadata": {
        "id": "yz2h7_8St1wi",
        "colab_type": "text"
      },
      "source": [
        "####[MST-02]\n",
        "Download the MNIST dataset and store into NumPy arrays."
      ]
    },
    {
      "cell_type": "code",
      "metadata": {
        "id": "ASgzWK5AjWvn",
        "colab_type": "code",
        "colab": {}
      },
      "source": [
        "(train_images, train_labels), (test_images, test_labels) = mnist.load_data()\n",
        "train_images = train_images.reshape(\n",
        "                  (len(train_images), 784)).astype('float32') / 255\n",
        "test_images = test_images.reshape(\n",
        "                  (len(test_images), 784)).astype('float32') / 255\n",
        "train_labels = tf.keras.utils.to_categorical(train_labels, 10)\n",
        "test_labels = tf.keras.utils.to_categorical(test_labels, 10)"
      ],
      "execution_count": 0,
      "outputs": []
    },
    {
      "cell_type": "markdown",
      "metadata": {
        "id": "qdQ0Tp2IvFy8",
        "colab_type": "text"
      },
      "source": [
        "####[MST-03]\n",
        "Define a model with a single hidden layer."
      ]
    },
    {
      "cell_type": "code",
      "metadata": {
        "id": "tpL_niBTXggS",
        "colab_type": "code",
        "outputId": "66884a99-cbe3-4b19-ef4e-ed931e0c0a4b",
        "colab": {
          "base_uri": "https://localhost:8080/",
          "height": 221
        }
      },
      "source": [
        "model = models.Sequential()\n",
        "model.add(layers.Dense(1024, activation='relu', input_shape=(28*28,),\n",
        "                       kernel_initializer=initializers.TruncatedNormal(),\n",
        "                       name='hidden'))\n",
        "model.add(layers.Dense(10, activation='softmax', name='softmax'))\n",
        "\n",
        "model.summary()"
      ],
      "execution_count": 4,
      "outputs": [
        {
          "output_type": "stream",
          "text": [
            "Model: \"sequential\"\n",
            "_________________________________________________________________\n",
            "Layer (type)                 Output Shape              Param #   \n",
            "=================================================================\n",
            "hidden (Dense)               (None, 1024)              803840    \n",
            "_________________________________________________________________\n",
            "softmax (Dense)              (None, 10)                10250     \n",
            "=================================================================\n",
            "Total params: 814,090\n",
            "Trainable params: 814,090\n",
            "Non-trainable params: 0\n",
            "_________________________________________________________________\n"
          ],
          "name": "stdout"
        }
      ]
    },
    {
      "cell_type": "markdown",
      "metadata": {
        "id": "fBltXsSRvZn0",
        "colab_type": "text"
      },
      "source": [
        "####[MST-04]\n",
        "Compile the model using the Adam optimizer, and Cross entroy as a loss function."
      ]
    },
    {
      "cell_type": "code",
      "metadata": {
        "id": "BakcuKxdQoSL",
        "colab_type": "code",
        "colab": {}
      },
      "source": [
        "model.compile(optimizer='adam', \n",
        "              loss='categorical_crossentropy',\n",
        "              metrics=['acc'])"
      ],
      "execution_count": 0,
      "outputs": []
    },
    {
      "cell_type": "markdown",
      "metadata": {
        "id": "fdIktV-vFDof",
        "colab_type": "text"
      },
      "source": [
        "####[MST-05]\n",
        "Train the model with the callbacks option to store training logs."
      ]
    },
    {
      "cell_type": "code",
      "metadata": {
        "id": "LlQCTsKKXkr5",
        "colab_type": "code",
        "outputId": "dced29fc-b799-4479-e928-56b17b4b2118",
        "colab": {
          "base_uri": "https://localhost:8080/",
          "height": 374
        }
      },
      "source": [
        "log_dir = '/tmp/log'\n",
        "shutil.rmtree(log_dir, ignore_errors=True)\n",
        "tensorboard_callback = callbacks.TensorBoard(log_dir=log_dir)\n",
        "history = model.fit(train_images, train_labels,\n",
        "                    validation_data=(test_images, test_labels),\n",
        "                    batch_size=128, epochs=10,\n",
        "                    callbacks=[tensorboard_callback])"
      ],
      "execution_count": 6,
      "outputs": [
        {
          "output_type": "stream",
          "text": [
            "Train on 60000 samples, validate on 10000 samples\n",
            "Epoch 1/10\n",
            "60000/60000 [==============================] - 4s 61us/sample - loss: 0.2310 - acc: 0.9339 - val_loss: 0.1177 - val_acc: 0.9653\n",
            "Epoch 2/10\n",
            "60000/60000 [==============================] - 3s 44us/sample - loss: 0.0907 - acc: 0.9738 - val_loss: 0.0825 - val_acc: 0.9748\n",
            "Epoch 3/10\n",
            "60000/60000 [==============================] - 3s 45us/sample - loss: 0.0557 - acc: 0.9835 - val_loss: 0.0664 - val_acc: 0.9791\n",
            "Epoch 4/10\n",
            "60000/60000 [==============================] - 3s 44us/sample - loss: 0.0388 - acc: 0.9886 - val_loss: 0.0619 - val_acc: 0.9802\n",
            "Epoch 5/10\n",
            "60000/60000 [==============================] - 3s 45us/sample - loss: 0.0253 - acc: 0.9926 - val_loss: 0.0577 - val_acc: 0.9833\n",
            "Epoch 6/10\n",
            "60000/60000 [==============================] - 3s 45us/sample - loss: 0.0187 - acc: 0.9947 - val_loss: 0.0629 - val_acc: 0.9814\n",
            "Epoch 7/10\n",
            "60000/60000 [==============================] - 3s 45us/sample - loss: 0.0143 - acc: 0.9960 - val_loss: 0.0597 - val_acc: 0.9817\n",
            "Epoch 8/10\n",
            "60000/60000 [==============================] - 3s 44us/sample - loss: 0.0102 - acc: 0.9975 - val_loss: 0.0635 - val_acc: 0.9808\n",
            "Epoch 9/10\n",
            "60000/60000 [==============================] - 3s 44us/sample - loss: 0.0075 - acc: 0.9980 - val_loss: 0.0681 - val_acc: 0.9808\n",
            "Epoch 10/10\n",
            "60000/60000 [==============================] - 3s 45us/sample - loss: 0.0104 - acc: 0.9972 - val_loss: 0.0727 - val_acc: 0.9800\n"
          ],
          "name": "stdout"
        }
      ]
    },
    {
      "cell_type": "markdown",
      "metadata": {
        "id": "MpSePiAysZHn",
        "colab_type": "text"
      },
      "source": [
        "####[MST-06]\n",
        "Install ngrok to run TensorBoard on Colaboratory."
      ]
    },
    {
      "cell_type": "code",
      "metadata": {
        "id": "BqHkMyJHYFTb",
        "colab_type": "code",
        "outputId": "0f2d63e5-c5ca-4843-f7cf-b1f28bac49ad",
        "colab": {
          "base_uri": "https://localhost:8080/",
          "height": 102
        }
      },
      "source": [
        "!curl -OL https://bin.equinox.io/c/4VmDzA7iaHb/ngrok-stable-linux-amd64.zip\n",
        "!unzip -o ngrok-stable-linux-amd64.zip"
      ],
      "execution_count": 7,
      "outputs": [
        {
          "output_type": "stream",
          "text": [
            "  % Total    % Received % Xferd  Average Speed   Time    Time     Time  Current\n",
            "                                 Dload  Upload   Total   Spent    Left  Speed\n",
            "100 12.9M  100 12.9M    0     0  9471k      0  0:00:01  0:00:01 --:--:-- 9471k\n",
            "Archive:  ngrok-stable-linux-amd64.zip\n",
            "  inflating: ngrok                   \n"
          ],
          "name": "stdout"
        }
      ]
    },
    {
      "cell_type": "markdown",
      "metadata": {
        "id": "VCHxA0sKahqD",
        "colab_type": "text"
      },
      "source": [
        "####[MST-07]\n",
        "Start TensorBoard and prepare the connection URL."
      ]
    },
    {
      "cell_type": "code",
      "metadata": {
        "id": "o3oGrHRwWz58",
        "colab_type": "code",
        "outputId": "0ad08e8d-32b9-4a5b-b048-7e328c1bb74f",
        "colab": {
          "base_uri": "https://localhost:8080/",
          "height": 34
        }
      },
      "source": [
        "get_ipython().system_raw(\n",
        "    'tensorboard --logdir {} --host 0.0.0.0 --port 6006 &'\n",
        "    .format(log_dir)\n",
        ")\n",
        "get_ipython().system_raw('./ngrok http 6006 &')\n",
        "!curl -s http://localhost:4040/api/tunnels | python3 -c \\\n",
        "    \"import sys, json; print(json.load(sys.stdin)['tunnels'][0]['public_url'])\""
      ],
      "execution_count": 8,
      "outputs": [
        {
          "output_type": "stream",
          "text": [
            "http://c984cb49.ngrok.io\n"
          ],
          "name": "stdout"
        }
      ]
    }
  ]
}